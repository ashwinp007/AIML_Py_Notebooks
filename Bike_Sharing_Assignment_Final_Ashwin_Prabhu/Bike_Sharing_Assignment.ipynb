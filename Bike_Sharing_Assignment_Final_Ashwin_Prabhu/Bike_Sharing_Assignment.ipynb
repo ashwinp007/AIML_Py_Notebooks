{
 "cells": [
  {
   "cell_type": "markdown",
   "metadata": {},
   "source": [
    "# Bike Sharing Assignment: BoomBikes"
   ]
  },
  {
   "cell_type": "markdown",
   "metadata": {},
   "source": [
    "### Business Understanding:\n",
    "\n",
    "1. BoomBikes,a bike-sharing system where bikes are made available for shared use to individuals on a short term basis for a price or free. \n",
    "2. Many bike share systems allow people to borrow a bike from a \"dock\" which is usually computer-controlled wherein the user enters the payment information, and the system unlocks it. \n",
    "3. This bike can then be returned to another dock belonging to the same system.\n",
    "\n",
    "### Business Objective/Goals:\n",
    "\n",
    "BoomBikes wants to understand the factors affecting the demand for these shared bikes in the American market. The company wants to know:\n",
    "1. Which variables are significant in predicting the demand for shared bikes.\n",
    "2. How well those variables describe the bike demands"
   ]
  },
  {
   "cell_type": "markdown",
   "metadata": {},
   "source": [
    "## Checkpoint 1: Data Understanding and Data Cleaning\n",
    "\n",
    "<b>Steps Involved:</b><br>\n",
    "\n",
    "1. Understand the dataset, datatype of the dataset\n",
    "2. Perform EDA - Check for null values, fix the values in columns to make more sense, rename columns to make more sense\n",
    "3. Check co-relation between variables to identify if there are any variables that can be dropped"
   ]
  },
  {
   "cell_type": "markdown",
   "metadata": {},
   "source": [
    "Let's begin by importing the csv file into a pandas dataframe"
   ]
  },
  {
   "cell_type": "code",
   "execution_count": 1,
   "metadata": {},
   "outputs": [],
   "source": [
    "#import necessary libraries\n",
    "import pandas as pd\n",
    "import numpy as np\n",
    "import matplotlib.pyplot as plt\n",
    "import seaborn as sns\n",
    "import sklearn\n",
    "from sklearn.model_selection import train_test_split\n",
    "import statsmodels\n",
    "import statsmodels.api as sm\n",
    "\n",
    "import warnings\n",
    "warnings.filterwarnings('ignore')"
   ]
  },
  {
   "cell_type": "code",
   "execution_count": 2,
   "metadata": {},
   "outputs": [],
   "source": [
    "#import CSV\n",
    "bike_df = pd.read_csv('day.csv')"
   ]
  },
  {
   "cell_type": "markdown",
   "metadata": {},
   "source": [
    "Let's understand what the encoding of the csv file is and if the data from csv has been imported properly without any junk characters which would hinder our analysis."
   ]
  },
  {
   "cell_type": "code",
   "execution_count": 3,
   "metadata": {},
   "outputs": [
    {
     "name": "stdout",
     "output_type": "stream",
     "text": [
      "{'encoding': 'ascii', 'confidence': 1.0, 'language': ''}\n"
     ]
    }
   ],
   "source": [
    "#Let's check the eencoding of the csv files\n",
    "import chardet\n",
    "\n",
    "with open(\"day.csv\", 'rb') as rawdata:\n",
    "    result = chardet.detect(rawdata.read())\n",
    "    \n",
    "print(result)"
   ]
  },
  {
   "cell_type": "code",
   "execution_count": 4,
   "metadata": {},
   "outputs": [
    {
     "data": {
      "text/html": [
       "<div>\n",
       "<style scoped>\n",
       "    .dataframe tbody tr th:only-of-type {\n",
       "        vertical-align: middle;\n",
       "    }\n",
       "\n",
       "    .dataframe tbody tr th {\n",
       "        vertical-align: top;\n",
       "    }\n",
       "\n",
       "    .dataframe thead th {\n",
       "        text-align: right;\n",
       "    }\n",
       "</style>\n",
       "<table border=\"1\" class=\"dataframe\">\n",
       "  <thead>\n",
       "    <tr style=\"text-align: right;\">\n",
       "      <th></th>\n",
       "      <th>instant</th>\n",
       "      <th>dteday</th>\n",
       "      <th>season</th>\n",
       "      <th>yr</th>\n",
       "      <th>mnth</th>\n",
       "      <th>holiday</th>\n",
       "      <th>weekday</th>\n",
       "      <th>workingday</th>\n",
       "      <th>weathersit</th>\n",
       "      <th>temp</th>\n",
       "      <th>atemp</th>\n",
       "      <th>hum</th>\n",
       "      <th>windspeed</th>\n",
       "      <th>casual</th>\n",
       "      <th>registered</th>\n",
       "      <th>cnt</th>\n",
       "    </tr>\n",
       "  </thead>\n",
       "  <tbody>\n",
       "    <tr>\n",
       "      <th>0</th>\n",
       "      <td>1</td>\n",
       "      <td>01-01-2018</td>\n",
       "      <td>1</td>\n",
       "      <td>0</td>\n",
       "      <td>1</td>\n",
       "      <td>0</td>\n",
       "      <td>6</td>\n",
       "      <td>0</td>\n",
       "      <td>2</td>\n",
       "      <td>14.110847</td>\n",
       "      <td>18.18125</td>\n",
       "      <td>80.5833</td>\n",
       "      <td>10.749882</td>\n",
       "      <td>331</td>\n",
       "      <td>654</td>\n",
       "      <td>985</td>\n",
       "    </tr>\n",
       "    <tr>\n",
       "      <th>1</th>\n",
       "      <td>2</td>\n",
       "      <td>02-01-2018</td>\n",
       "      <td>1</td>\n",
       "      <td>0</td>\n",
       "      <td>1</td>\n",
       "      <td>0</td>\n",
       "      <td>0</td>\n",
       "      <td>0</td>\n",
       "      <td>2</td>\n",
       "      <td>14.902598</td>\n",
       "      <td>17.68695</td>\n",
       "      <td>69.6087</td>\n",
       "      <td>16.652113</td>\n",
       "      <td>131</td>\n",
       "      <td>670</td>\n",
       "      <td>801</td>\n",
       "    </tr>\n",
       "    <tr>\n",
       "      <th>2</th>\n",
       "      <td>3</td>\n",
       "      <td>03-01-2018</td>\n",
       "      <td>1</td>\n",
       "      <td>0</td>\n",
       "      <td>1</td>\n",
       "      <td>0</td>\n",
       "      <td>1</td>\n",
       "      <td>1</td>\n",
       "      <td>1</td>\n",
       "      <td>8.050924</td>\n",
       "      <td>9.47025</td>\n",
       "      <td>43.7273</td>\n",
       "      <td>16.636703</td>\n",
       "      <td>120</td>\n",
       "      <td>1229</td>\n",
       "      <td>1349</td>\n",
       "    </tr>\n",
       "    <tr>\n",
       "      <th>3</th>\n",
       "      <td>4</td>\n",
       "      <td>04-01-2018</td>\n",
       "      <td>1</td>\n",
       "      <td>0</td>\n",
       "      <td>1</td>\n",
       "      <td>0</td>\n",
       "      <td>2</td>\n",
       "      <td>1</td>\n",
       "      <td>1</td>\n",
       "      <td>8.200000</td>\n",
       "      <td>10.60610</td>\n",
       "      <td>59.0435</td>\n",
       "      <td>10.739832</td>\n",
       "      <td>108</td>\n",
       "      <td>1454</td>\n",
       "      <td>1562</td>\n",
       "    </tr>\n",
       "    <tr>\n",
       "      <th>4</th>\n",
       "      <td>5</td>\n",
       "      <td>05-01-2018</td>\n",
       "      <td>1</td>\n",
       "      <td>0</td>\n",
       "      <td>1</td>\n",
       "      <td>0</td>\n",
       "      <td>3</td>\n",
       "      <td>1</td>\n",
       "      <td>1</td>\n",
       "      <td>9.305237</td>\n",
       "      <td>11.46350</td>\n",
       "      <td>43.6957</td>\n",
       "      <td>12.522300</td>\n",
       "      <td>82</td>\n",
       "      <td>1518</td>\n",
       "      <td>1600</td>\n",
       "    </tr>\n",
       "  </tbody>\n",
       "</table>\n",
       "</div>"
      ],
      "text/plain": [
       "   instant      dteday  season  yr  mnth  holiday  weekday  workingday  \\\n",
       "0        1  01-01-2018       1   0     1        0        6           0   \n",
       "1        2  02-01-2018       1   0     1        0        0           0   \n",
       "2        3  03-01-2018       1   0     1        0        1           1   \n",
       "3        4  04-01-2018       1   0     1        0        2           1   \n",
       "4        5  05-01-2018       1   0     1        0        3           1   \n",
       "\n",
       "   weathersit       temp     atemp      hum  windspeed  casual  registered  \\\n",
       "0           2  14.110847  18.18125  80.5833  10.749882     331         654   \n",
       "1           2  14.902598  17.68695  69.6087  16.652113     131         670   \n",
       "2           1   8.050924   9.47025  43.7273  16.636703     120        1229   \n",
       "3           1   8.200000  10.60610  59.0435  10.739832     108        1454   \n",
       "4           1   9.305237  11.46350  43.6957  12.522300      82        1518   \n",
       "\n",
       "    cnt  \n",
       "0   985  \n",
       "1   801  \n",
       "2  1349  \n",
       "3  1562  \n",
       "4  1600  "
      ]
     },
     "execution_count": 4,
     "metadata": {},
     "output_type": "execute_result"
    }
   ],
   "source": [
    "#let's check the head and tail to make sure there are no extra/unnecessary rows and columns and also have a basic feel of dataset\n",
    "bike_df.head()"
   ]
  },
  {
   "cell_type": "code",
   "execution_count": 5,
   "metadata": {},
   "outputs": [
    {
     "data": {
      "text/html": [
       "<div>\n",
       "<style scoped>\n",
       "    .dataframe tbody tr th:only-of-type {\n",
       "        vertical-align: middle;\n",
       "    }\n",
       "\n",
       "    .dataframe tbody tr th {\n",
       "        vertical-align: top;\n",
       "    }\n",
       "\n",
       "    .dataframe thead th {\n",
       "        text-align: right;\n",
       "    }\n",
       "</style>\n",
       "<table border=\"1\" class=\"dataframe\">\n",
       "  <thead>\n",
       "    <tr style=\"text-align: right;\">\n",
       "      <th></th>\n",
       "      <th>instant</th>\n",
       "      <th>dteday</th>\n",
       "      <th>season</th>\n",
       "      <th>yr</th>\n",
       "      <th>mnth</th>\n",
       "      <th>holiday</th>\n",
       "      <th>weekday</th>\n",
       "      <th>workingday</th>\n",
       "      <th>weathersit</th>\n",
       "      <th>temp</th>\n",
       "      <th>atemp</th>\n",
       "      <th>hum</th>\n",
       "      <th>windspeed</th>\n",
       "      <th>casual</th>\n",
       "      <th>registered</th>\n",
       "      <th>cnt</th>\n",
       "    </tr>\n",
       "  </thead>\n",
       "  <tbody>\n",
       "    <tr>\n",
       "      <th>725</th>\n",
       "      <td>726</td>\n",
       "      <td>27-12-2019</td>\n",
       "      <td>1</td>\n",
       "      <td>1</td>\n",
       "      <td>12</td>\n",
       "      <td>0</td>\n",
       "      <td>4</td>\n",
       "      <td>1</td>\n",
       "      <td>2</td>\n",
       "      <td>10.420847</td>\n",
       "      <td>11.33210</td>\n",
       "      <td>65.2917</td>\n",
       "      <td>23.458911</td>\n",
       "      <td>247</td>\n",
       "      <td>1867</td>\n",
       "      <td>2114</td>\n",
       "    </tr>\n",
       "    <tr>\n",
       "      <th>726</th>\n",
       "      <td>727</td>\n",
       "      <td>28-12-2019</td>\n",
       "      <td>1</td>\n",
       "      <td>1</td>\n",
       "      <td>12</td>\n",
       "      <td>0</td>\n",
       "      <td>5</td>\n",
       "      <td>1</td>\n",
       "      <td>2</td>\n",
       "      <td>10.386653</td>\n",
       "      <td>12.75230</td>\n",
       "      <td>59.0000</td>\n",
       "      <td>10.416557</td>\n",
       "      <td>644</td>\n",
       "      <td>2451</td>\n",
       "      <td>3095</td>\n",
       "    </tr>\n",
       "    <tr>\n",
       "      <th>727</th>\n",
       "      <td>728</td>\n",
       "      <td>29-12-2019</td>\n",
       "      <td>1</td>\n",
       "      <td>1</td>\n",
       "      <td>12</td>\n",
       "      <td>0</td>\n",
       "      <td>6</td>\n",
       "      <td>0</td>\n",
       "      <td>2</td>\n",
       "      <td>10.386653</td>\n",
       "      <td>12.12000</td>\n",
       "      <td>75.2917</td>\n",
       "      <td>8.333661</td>\n",
       "      <td>159</td>\n",
       "      <td>1182</td>\n",
       "      <td>1341</td>\n",
       "    </tr>\n",
       "    <tr>\n",
       "      <th>728</th>\n",
       "      <td>729</td>\n",
       "      <td>30-12-2019</td>\n",
       "      <td>1</td>\n",
       "      <td>1</td>\n",
       "      <td>12</td>\n",
       "      <td>0</td>\n",
       "      <td>0</td>\n",
       "      <td>0</td>\n",
       "      <td>1</td>\n",
       "      <td>10.489153</td>\n",
       "      <td>11.58500</td>\n",
       "      <td>48.3333</td>\n",
       "      <td>23.500518</td>\n",
       "      <td>364</td>\n",
       "      <td>1432</td>\n",
       "      <td>1796</td>\n",
       "    </tr>\n",
       "    <tr>\n",
       "      <th>729</th>\n",
       "      <td>730</td>\n",
       "      <td>31-12-2019</td>\n",
       "      <td>1</td>\n",
       "      <td>1</td>\n",
       "      <td>12</td>\n",
       "      <td>0</td>\n",
       "      <td>1</td>\n",
       "      <td>1</td>\n",
       "      <td>2</td>\n",
       "      <td>8.849153</td>\n",
       "      <td>11.17435</td>\n",
       "      <td>57.7500</td>\n",
       "      <td>10.374682</td>\n",
       "      <td>439</td>\n",
       "      <td>2290</td>\n",
       "      <td>2729</td>\n",
       "    </tr>\n",
       "  </tbody>\n",
       "</table>\n",
       "</div>"
      ],
      "text/plain": [
       "     instant      dteday  season  yr  mnth  holiday  weekday  workingday  \\\n",
       "725      726  27-12-2019       1   1    12        0        4           1   \n",
       "726      727  28-12-2019       1   1    12        0        5           1   \n",
       "727      728  29-12-2019       1   1    12        0        6           0   \n",
       "728      729  30-12-2019       1   1    12        0        0           0   \n",
       "729      730  31-12-2019       1   1    12        0        1           1   \n",
       "\n",
       "     weathersit       temp     atemp      hum  windspeed  casual  registered  \\\n",
       "725           2  10.420847  11.33210  65.2917  23.458911     247        1867   \n",
       "726           2  10.386653  12.75230  59.0000  10.416557     644        2451   \n",
       "727           2  10.386653  12.12000  75.2917   8.333661     159        1182   \n",
       "728           1  10.489153  11.58500  48.3333  23.500518     364        1432   \n",
       "729           2   8.849153  11.17435  57.7500  10.374682     439        2290   \n",
       "\n",
       "      cnt  \n",
       "725  2114  \n",
       "726  3095  \n",
       "727  1341  \n",
       "728  1796  \n",
       "729  2729  "
      ]
     },
     "execution_count": 5,
     "metadata": {},
     "output_type": "execute_result"
    }
   ],
   "source": [
    "bike_df.tail()"
   ]
  },
  {
   "cell_type": "markdown",
   "metadata": {},
   "source": [
    "There are no special/junk characters. Hence the csv has been read with correct encoding. Let's look at the size of the dataframe and the datatypes of each column present in the dataframe."
   ]
  },
  {
   "cell_type": "code",
   "execution_count": 6,
   "metadata": {},
   "outputs": [
    {
     "data": {
      "text/plain": [
       "(730, 16)"
      ]
     },
     "execution_count": 6,
     "metadata": {},
     "output_type": "execute_result"
    }
   ],
   "source": [
    "#The shape of the dataframe\n",
    "bike_df.shape"
   ]
  },
  {
   "cell_type": "code",
   "execution_count": 7,
   "metadata": {},
   "outputs": [
    {
     "name": "stdout",
     "output_type": "stream",
     "text": [
      "<class 'pandas.core.frame.DataFrame'>\n",
      "RangeIndex: 730 entries, 0 to 729\n",
      "Data columns (total 16 columns):\n",
      " #   Column      Non-Null Count  Dtype  \n",
      "---  ------      --------------  -----  \n",
      " 0   instant     730 non-null    int64  \n",
      " 1   dteday      730 non-null    object \n",
      " 2   season      730 non-null    int64  \n",
      " 3   yr          730 non-null    int64  \n",
      " 4   mnth        730 non-null    int64  \n",
      " 5   holiday     730 non-null    int64  \n",
      " 6   weekday     730 non-null    int64  \n",
      " 7   workingday  730 non-null    int64  \n",
      " 8   weathersit  730 non-null    int64  \n",
      " 9   temp        730 non-null    float64\n",
      " 10  atemp       730 non-null    float64\n",
      " 11  hum         730 non-null    float64\n",
      " 12  windspeed   730 non-null    float64\n",
      " 13  casual      730 non-null    int64  \n",
      " 14  registered  730 non-null    int64  \n",
      " 15  cnt         730 non-null    int64  \n",
      "dtypes: float64(4), int64(11), object(1)\n",
      "memory usage: 91.4+ KB\n"
     ]
    }
   ],
   "source": [
    "#Check the datatypes\n",
    "bike_df.info()"
   ]
  },
  {
   "cell_type": "markdown",
   "metadata": {},
   "source": [
    "From the above table, we can implicitly infer that there are no nulls. Hence there is no need of fixing null values by dropping or imputing mean/mode."
   ]
  },
  {
   "cell_type": "markdown",
   "metadata": {},
   "source": [
    "Next step would be to go through the data dictionary to understand what each of the above columns signify. Upon going through the data dictionary provided, there are some redundant columns which can be dropped as they are being represented by other meaningful columns in the dataset. Let's list them down and drop them from the dataframe"
   ]
  },
  {
   "cell_type": "code",
   "execution_count": 8,
   "metadata": {},
   "outputs": [],
   "source": [
    "#list of columns which are not relevant for analysis\n",
    "unwanted_col = ['instant','dteday','temp','casual','registered']\n",
    "\n",
    "#Drop the columns listed above as unwanted\n",
    "bike_df = bike_df.drop(unwanted_col,axis=1)"
   ]
  },
  {
   "cell_type": "markdown",
   "metadata": {},
   "source": [
    "Now let's check the number/count of unique values in each of the columns present in DF"
   ]
  },
  {
   "cell_type": "code",
   "execution_count": 9,
   "metadata": {
    "scrolled": true
   },
   "outputs": [
    {
     "name": "stdout",
     "output_type": "stream",
     "text": [
      "3    188\n",
      "2    184\n",
      "1    180\n",
      "4    178\n",
      "Name: season, dtype: int64\n",
      "1    365\n",
      "0    365\n",
      "Name: yr, dtype: int64\n",
      "12    62\n",
      "10    62\n",
      "8     62\n",
      "7     62\n",
      "5     62\n",
      "3     62\n",
      "1     62\n",
      "11    60\n",
      "9     60\n",
      "6     60\n",
      "4     60\n",
      "2     56\n",
      "Name: mnth, dtype: int64\n",
      "0    709\n",
      "1     21\n",
      "Name: holiday, dtype: int64\n",
      "6    105\n",
      "1    105\n",
      "0    105\n",
      "5    104\n",
      "4    104\n",
      "2    104\n",
      "3    103\n",
      "Name: weekday, dtype: int64\n",
      "1    499\n",
      "0    231\n",
      "Name: workingday, dtype: int64\n",
      "1    463\n",
      "2    246\n",
      "3     21\n",
      "Name: weathersit, dtype: int64\n",
      "32.73440    4\n",
      "18.78105    3\n",
      "31.85040    3\n",
      "16.28750    2\n",
      "17.58145    2\n",
      "           ..\n",
      "36.96315    1\n",
      "24.93625    1\n",
      "32.73460    1\n",
      "14.82130    1\n",
      "9.31250     1\n",
      "Name: atemp, Length: 689, dtype: int64\n",
      "61.3333    4\n",
      "69.7083    3\n",
      "59.0000    3\n",
      "57.0000    3\n",
      "72.9583    3\n",
      "          ..\n",
      "64.7917    1\n",
      "44.9583    1\n",
      "71.2083    1\n",
      "50.0417    1\n",
      "49.8750    1\n",
      "Name: hum, Length: 594, dtype: int64\n",
      "7.416900     3\n",
      "15.333486    3\n",
      "7.959064     3\n",
      "11.166689    3\n",
      "7.125450     3\n",
      "            ..\n",
      "14.500475    1\n",
      "8.250514     1\n",
      "19.416332    1\n",
      "16.522200    1\n",
      "9.750175     1\n",
      "Name: windspeed, Length: 649, dtype: int64\n",
      "5119    2\n",
      "4274    2\n",
      "3784    2\n",
      "6883    2\n",
      "2077    2\n",
      "       ..\n",
      "6273    1\n",
      "5501    1\n",
      "4760    1\n",
      "1683    1\n",
      "4097    1\n",
      "Name: cnt, Length: 695, dtype: int64\n"
     ]
    }
   ],
   "source": [
    "#let's look at the count of unique values in each column\n",
    "for column in bike_df.columns:\n",
    "    print(bike_df[column].value_counts())"
   ]
  },
  {
   "cell_type": "markdown",
   "metadata": {},
   "source": [
    "From the above value_counts command and the data dictionary which we already went through, it makes more sense to have the actual categorical values than the numerical values representing these columns. The mapping is as follows:\n",
    "1. season:\n",
    "    * 1 - Spring\n",
    "    * 2 - Summer\n",
    "    * 3 - Fall\n",
    "    * 4 - Winter\n",
    "2. mnth:\n",
    "    * 1 - Jan\n",
    "    * 2 - Feb\n",
    "    * 3 - Mar\n",
    "    * 4 - Apr\n",
    "    * 5 - May\n",
    "    * 6 - Jun\n",
    "    * 7 - Jul\n",
    "    * 8 - Aug\n",
    "    * 9 - Sep\n",
    "    * 10 - Oct\n",
    "    * 11 - Nov\n",
    "    * 12 - Dec\n",
    "3. weekday:\n",
    "    * 0 - Tuesday\n",
    "    * 1 - Wednesday\n",
    "    * 2 - Thursday\n",
    "    * 3 - Friday\n",
    "    * 4 - Saturday\n",
    "    * 5 - Sunday\n",
    "    * 6 - Monday\n",
    "4. weathersit:\n",
    "    * 1 - clear\n",
    "    * 2 - misty\n",
    "    * 3 - rainy\n",
    "    * 4 - thunderstorm - But there are no entries in the provided dataset with this value. Hence this can be ignored\n",
    "\n",
    "The following binary columns will not be converted to categorical variables even though their meaning can be derived better when represented as categorical variable. Following is the meaning of binary values in these columns\n",
    "\n",
    "1. yr:\n",
    "    * 0 - 2018\n",
    "    * 1 - 2019\n",
    "2. holiday:\n",
    "    * 0 - No\n",
    "    * 1 - Yes\n",
    "3. workingday:\n",
    "    * 0 - No\n",
    "    * 1 - Yes"
   ]
  },
  {
   "cell_type": "code",
   "execution_count": 10,
   "metadata": {},
   "outputs": [],
   "source": [
    "#replace the numeric values with categorical values for season as defined above in markdown cell\n",
    "bike_df['season'].replace({1:'spring',2:'summer',3:'fall',4:'winter'},inplace=True)\n",
    "\n",
    "#replace the numeric values with categorical values for month as defined above in markdown cell\n",
    "bike_df['mnth'].replace({1:'Jan',2:'Feb',3:'Mar',4:'Apr',5:'May',6:'Jun',7:'Jul',8:'Aug',9:'Sep',10:'Oct',11:'Nov',12:'Dec'},inplace=True)\n",
    "\n",
    "#replace the numeric values with categorical values for weekday as defined above in markdown cell\n",
    "bike_df['weekday'].replace({0:'tue',1:'wed',2:'thur',3:'fri',4:'sat',5:'sun',6:'mon'},inplace=True)\n",
    "\n",
    "#replace the numeric values with categorical values for weather situation(weathersit) as defined above in markdown cell\n",
    "bike_df['weathersit'].replace({1:'clear',2:'misty',3:'rainy'},inplace=True)"
   ]
  },
  {
   "cell_type": "markdown",
   "metadata": {},
   "source": [
    "As part of fixing the values, let's also standardise the continuous numeric variables by correcting the precision to 2 decimal points in all the columns with float data type"
   ]
  },
  {
   "cell_type": "code",
   "execution_count": 11,
   "metadata": {},
   "outputs": [],
   "source": [
    "#fix precision of the numeric values to 2 digits to maintain uniformity\n",
    "bike_df[['atemp','hum','windspeed']] = round(bike_df[['atemp','hum','windspeed']],2)"
   ]
  },
  {
   "cell_type": "markdown",
   "metadata": {},
   "source": [
    "Let's also rename the column cnt to demand to make more sense as <b>cnt</b> defines the <b>demand</b> of bike service which is our <b>Target Variable</b>"
   ]
  },
  {
   "cell_type": "code",
   "execution_count": 12,
   "metadata": {},
   "outputs": [],
   "source": [
    "bike_df.rename(columns={'cnt':'demand'},inplace = True)"
   ]
  },
  {
   "cell_type": "markdown",
   "metadata": {},
   "source": [
    "Let's again take a look at the the dataframe post fixing all the values accordingly"
   ]
  },
  {
   "cell_type": "code",
   "execution_count": 13,
   "metadata": {},
   "outputs": [
    {
     "data": {
      "text/html": [
       "<div>\n",
       "<style scoped>\n",
       "    .dataframe tbody tr th:only-of-type {\n",
       "        vertical-align: middle;\n",
       "    }\n",
       "\n",
       "    .dataframe tbody tr th {\n",
       "        vertical-align: top;\n",
       "    }\n",
       "\n",
       "    .dataframe thead th {\n",
       "        text-align: right;\n",
       "    }\n",
       "</style>\n",
       "<table border=\"1\" class=\"dataframe\">\n",
       "  <thead>\n",
       "    <tr style=\"text-align: right;\">\n",
       "      <th></th>\n",
       "      <th>season</th>\n",
       "      <th>yr</th>\n",
       "      <th>mnth</th>\n",
       "      <th>holiday</th>\n",
       "      <th>weekday</th>\n",
       "      <th>workingday</th>\n",
       "      <th>weathersit</th>\n",
       "      <th>atemp</th>\n",
       "      <th>hum</th>\n",
       "      <th>windspeed</th>\n",
       "      <th>demand</th>\n",
       "    </tr>\n",
       "  </thead>\n",
       "  <tbody>\n",
       "    <tr>\n",
       "      <th>0</th>\n",
       "      <td>spring</td>\n",
       "      <td>0</td>\n",
       "      <td>Jan</td>\n",
       "      <td>0</td>\n",
       "      <td>mon</td>\n",
       "      <td>0</td>\n",
       "      <td>misty</td>\n",
       "      <td>18.18</td>\n",
       "      <td>80.58</td>\n",
       "      <td>10.75</td>\n",
       "      <td>985</td>\n",
       "    </tr>\n",
       "    <tr>\n",
       "      <th>1</th>\n",
       "      <td>spring</td>\n",
       "      <td>0</td>\n",
       "      <td>Jan</td>\n",
       "      <td>0</td>\n",
       "      <td>tue</td>\n",
       "      <td>0</td>\n",
       "      <td>misty</td>\n",
       "      <td>17.69</td>\n",
       "      <td>69.61</td>\n",
       "      <td>16.65</td>\n",
       "      <td>801</td>\n",
       "    </tr>\n",
       "    <tr>\n",
       "      <th>2</th>\n",
       "      <td>spring</td>\n",
       "      <td>0</td>\n",
       "      <td>Jan</td>\n",
       "      <td>0</td>\n",
       "      <td>wed</td>\n",
       "      <td>1</td>\n",
       "      <td>clear</td>\n",
       "      <td>9.47</td>\n",
       "      <td>43.73</td>\n",
       "      <td>16.64</td>\n",
       "      <td>1349</td>\n",
       "    </tr>\n",
       "    <tr>\n",
       "      <th>3</th>\n",
       "      <td>spring</td>\n",
       "      <td>0</td>\n",
       "      <td>Jan</td>\n",
       "      <td>0</td>\n",
       "      <td>thur</td>\n",
       "      <td>1</td>\n",
       "      <td>clear</td>\n",
       "      <td>10.61</td>\n",
       "      <td>59.04</td>\n",
       "      <td>10.74</td>\n",
       "      <td>1562</td>\n",
       "    </tr>\n",
       "    <tr>\n",
       "      <th>4</th>\n",
       "      <td>spring</td>\n",
       "      <td>0</td>\n",
       "      <td>Jan</td>\n",
       "      <td>0</td>\n",
       "      <td>fri</td>\n",
       "      <td>1</td>\n",
       "      <td>clear</td>\n",
       "      <td>11.46</td>\n",
       "      <td>43.70</td>\n",
       "      <td>12.52</td>\n",
       "      <td>1600</td>\n",
       "    </tr>\n",
       "  </tbody>\n",
       "</table>\n",
       "</div>"
      ],
      "text/plain": [
       "   season  yr mnth  holiday weekday  workingday weathersit  atemp    hum  \\\n",
       "0  spring   0  Jan        0     mon           0      misty  18.18  80.58   \n",
       "1  spring   0  Jan        0     tue           0      misty  17.69  69.61   \n",
       "2  spring   0  Jan        0     wed           1      clear   9.47  43.73   \n",
       "3  spring   0  Jan        0    thur           1      clear  10.61  59.04   \n",
       "4  spring   0  Jan        0     fri           1      clear  11.46  43.70   \n",
       "\n",
       "   windspeed  demand  \n",
       "0      10.75     985  \n",
       "1      16.65     801  \n",
       "2      16.64    1349  \n",
       "3      10.74    1562  \n",
       "4      12.52    1600  "
      ]
     },
     "execution_count": 13,
     "metadata": {},
     "output_type": "execute_result"
    }
   ],
   "source": [
    "#check the first few records\n",
    "bike_df.head()"
   ]
  },
  {
   "cell_type": "code",
   "execution_count": 14,
   "metadata": {},
   "outputs": [
    {
     "name": "stdout",
     "output_type": "stream",
     "text": [
      "<class 'pandas.core.frame.DataFrame'>\n",
      "RangeIndex: 730 entries, 0 to 729\n",
      "Data columns (total 11 columns):\n",
      " #   Column      Non-Null Count  Dtype  \n",
      "---  ------      --------------  -----  \n",
      " 0   season      730 non-null    object \n",
      " 1   yr          730 non-null    int64  \n",
      " 2   mnth        730 non-null    object \n",
      " 3   holiday     730 non-null    int64  \n",
      " 4   weekday     730 non-null    object \n",
      " 5   workingday  730 non-null    int64  \n",
      " 6   weathersit  730 non-null    object \n",
      " 7   atemp       730 non-null    float64\n",
      " 8   hum         730 non-null    float64\n",
      " 9   windspeed   730 non-null    float64\n",
      " 10  demand      730 non-null    int64  \n",
      "dtypes: float64(3), int64(4), object(4)\n",
      "memory usage: 62.9+ KB\n"
     ]
    }
   ],
   "source": [
    "#check datatypes of the column if they have changed according to data fix performed\n",
    "bike_df.info()"
   ]
  },
  {
   "cell_type": "markdown",
   "metadata": {},
   "source": [
    "Let's perform <b>EDA</b> to understand the data better. Let's start by listing down the categorical variables and continuous numeric variables in 2 different lists to visualize data accordingly."
   ]
  },
  {
   "cell_type": "code",
   "execution_count": 15,
   "metadata": {},
   "outputs": [
    {
     "name": "stdout",
     "output_type": "stream",
     "text": [
      "['season', 'mnth', 'weekday', 'weathersit', 'holiday', 'workingday', 'yr']\n",
      "['atemp', 'hum', 'windspeed', 'demand']\n"
     ]
    }
   ],
   "source": [
    "#list all the columns that belong to 'object' datatype\n",
    "cat_var = [column for column in bike_df.columns if bike_df[column].dtype.name == 'object']\n",
    "\n",
    "#add columns that are essentially categorical variables but because they are binary in nature have int datatype\n",
    "cat_var = cat_var+['holiday','workingday','yr']\n",
    "\n",
    "#list down the continuous numeric variables in a list\n",
    "num_var = ['atemp','hum','windspeed','demand']\n",
    "\n",
    "#Print out the lists created\n",
    "print(cat_var)\n",
    "print(num_var)"
   ]
  },
  {
   "cell_type": "code",
   "execution_count": 16,
   "metadata": {},
   "outputs": [
    {
     "data": {
      "text/html": [
       "<div>\n",
       "<style scoped>\n",
       "    .dataframe tbody tr th:only-of-type {\n",
       "        vertical-align: middle;\n",
       "    }\n",
       "\n",
       "    .dataframe tbody tr th {\n",
       "        vertical-align: top;\n",
       "    }\n",
       "\n",
       "    .dataframe thead th {\n",
       "        text-align: right;\n",
       "    }\n",
       "</style>\n",
       "<table border=\"1\" class=\"dataframe\">\n",
       "  <thead>\n",
       "    <tr style=\"text-align: right;\">\n",
       "      <th></th>\n",
       "      <th>atemp</th>\n",
       "      <th>hum</th>\n",
       "      <th>windspeed</th>\n",
       "      <th>demand</th>\n",
       "    </tr>\n",
       "  </thead>\n",
       "  <tbody>\n",
       "    <tr>\n",
       "      <th>count</th>\n",
       "      <td>730.000000</td>\n",
       "      <td>730.000000</td>\n",
       "      <td>730.000000</td>\n",
       "      <td>730.000000</td>\n",
       "    </tr>\n",
       "    <tr>\n",
       "      <th>mean</th>\n",
       "      <td>23.726384</td>\n",
       "      <td>62.765082</td>\n",
       "      <td>12.763699</td>\n",
       "      <td>4508.006849</td>\n",
       "    </tr>\n",
       "    <tr>\n",
       "      <th>std</th>\n",
       "      <td>8.150247</td>\n",
       "      <td>14.237634</td>\n",
       "      <td>5.195640</td>\n",
       "      <td>1936.011647</td>\n",
       "    </tr>\n",
       "    <tr>\n",
       "      <th>min</th>\n",
       "      <td>3.950000</td>\n",
       "      <td>0.000000</td>\n",
       "      <td>1.500000</td>\n",
       "      <td>22.000000</td>\n",
       "    </tr>\n",
       "    <tr>\n",
       "      <th>25%</th>\n",
       "      <td>16.892500</td>\n",
       "      <td>52.000000</td>\n",
       "      <td>9.040000</td>\n",
       "      <td>3169.750000</td>\n",
       "    </tr>\n",
       "    <tr>\n",
       "      <th>50%</th>\n",
       "      <td>24.370000</td>\n",
       "      <td>62.625000</td>\n",
       "      <td>12.130000</td>\n",
       "      <td>4548.500000</td>\n",
       "    </tr>\n",
       "    <tr>\n",
       "      <th>75%</th>\n",
       "      <td>30.445000</td>\n",
       "      <td>72.990000</td>\n",
       "      <td>15.627500</td>\n",
       "      <td>5966.000000</td>\n",
       "    </tr>\n",
       "    <tr>\n",
       "      <th>max</th>\n",
       "      <td>42.040000</td>\n",
       "      <td>97.250000</td>\n",
       "      <td>34.000000</td>\n",
       "      <td>8714.000000</td>\n",
       "    </tr>\n",
       "  </tbody>\n",
       "</table>\n",
       "</div>"
      ],
      "text/plain": [
       "            atemp         hum   windspeed       demand\n",
       "count  730.000000  730.000000  730.000000   730.000000\n",
       "mean    23.726384   62.765082   12.763699  4508.006849\n",
       "std      8.150247   14.237634    5.195640  1936.011647\n",
       "min      3.950000    0.000000    1.500000    22.000000\n",
       "25%     16.892500   52.000000    9.040000  3169.750000\n",
       "50%     24.370000   62.625000   12.130000  4548.500000\n",
       "75%     30.445000   72.990000   15.627500  5966.000000\n",
       "max     42.040000   97.250000   34.000000  8714.000000"
      ]
     },
     "execution_count": 16,
     "metadata": {},
     "output_type": "execute_result"
    }
   ],
   "source": [
    "#Check the stats of the values present in numeric columns\n",
    "bike_df[num_var].describe()"
   ]
  },
  {
   "cell_type": "markdown",
   "metadata": {},
   "source": [
    "Let's visualize the variables listed in 2 lists inorder understand better. Let's start with pair plot on the numeric variables to understand if there is atleast 1 variable which linearly affects our target variable demand."
   ]
  },
  {
   "cell_type": "code",
   "execution_count": 17,
   "metadata": {},
   "outputs": [
    {
     "data": {
      "text/plain": [
       "<seaborn.axisgrid.PairGrid at 0x2b74f7c8250>"
      ]
     },
     "execution_count": 17,
     "metadata": {},
     "output_type": "execute_result"
    },
    {
     "data": {
      "image/png": "[encoded data removed]",
      "text/plain": [
       "<Figure size 720x720 with 20 Axes>"
      ]
     },
     "metadata": {
      "needs_background": "light"
     },
     "output_type": "display_data"
    }
   ],
   "source": [
    "#let's visualize the numeric dataframe to see if atleast 1 variable has linear relationship\n",
    "sns.pairplot(bike_df[num_var])"
   ]
  },
  {
   "cell_type": "code",
   "execution_count": null,
   "metadata": {},
   "outputs": [],
   "source": []
  },
  {
   "cell_type": "markdown",
   "metadata": {},
   "source": [
    "Considering that our <b>target variable is 'demand'</b>, numeric variable 'atemp' shows linear relationship with demand. Hence linear regression can be used as a model for prediction.\n",
    "<br>\n",
    "Let's proceed ahead with performing <b>univariate analysis</b> and visualize all the categorical variables against our target variable 'demand' and see if there is any trend that we can notice"
   ]
  },
  {
   "cell_type": "code",
   "execution_count": 18,
   "metadata": {},
   "outputs": [
    {
     "data": {
      "image/png": "[encoded data removed]",
      "text/plain": [
       "<Figure size 1080x864 with 7 Axes>"
      ]
     },
     "metadata": {
      "needs_background": "light"
     },
     "output_type": "display_data"
    },
    {
     "data": {
      "image/png": "[encoded data removed]",
      "text/plain": [
       "<Figure size 1080x864 with 7 Axes>"
      ]
     },
     "metadata": {
      "needs_background": "light"
     },
     "output_type": "display_data"
    }
   ],
   "source": [
    "#let's visualize the categorical variables against the target variable 'cnt'\n",
    "plt.figure(figsize=(15,12))\n",
    "\n",
    "#Let's loop through the variables in cat_var list and plot it against cnt and visualise it in subplot\n",
    "i=1\n",
    "for var in cat_var:\n",
    "    if(i<=len(cat_var)):\n",
    "        plt.subplot(3,3,i)\n",
    "        sns.barplot(data=bike_df,x=var,y='demand',ci=None)\n",
    "    i=i+1\n",
    "\n",
    "plt.figure(figsize=(15,12))\n",
    "#Let's loop through the variables in cat_var list and plot it against cnt and visualise it in subplot\n",
    "i=1\n",
    "for var in cat_var:\n",
    "    if(i<=len(cat_var)):\n",
    "        plt.subplot(3,3,i)\n",
    "        sns.boxplot(data=bike_df,x=var,y='demand')\n",
    "    i=i+1    "
   ]
  },
  {
   "cell_type": "markdown",
   "metadata": {},
   "source": [
    "<b>Inference:</b>\n",
    "1. The demand is least in Spring season and peaks in Fall, Summer and Winter respectively\n",
    "2. The demand is low in the months of Jan, Feb, Nov, Dec and there is substantial increase in demand from Mar to October\n",
    "3. There is no significant pattern noticed for demand against weekdays apart from the fact that demand is least on Tuesdays\n",
    "4. The demand is least when the weather situation is rainy whereas the demand is high in misty and clear sky weather situation\n",
    "5. The demand is more on days when there is no public holiday. \n",
    "6. The demand is more or less the same whether it is a working day or not. No significant pattern noticed.\n",
    "7. The demand has increased drastically 2019 when compared to 2018. There is a fair amount of chance that with popularity, the demand should increase subsequently"
   ]
  },
  {
   "cell_type": "markdown",
   "metadata": {},
   "source": [
    "From the above inferance, on a high level we can say that the following categorical variables might play a fairly important part in predicting the demand:\n",
    "1. Season\n",
    "2. Month\n",
    "3. Weather Situation\n",
    "4. Public Holiday - Negative impact as the value decreases on public holidays\n",
    "5. Year\n",
    "<br>\n",
    "\n",
    "Now that we have a fair understanding of the data and what variables we need to look out for, let's move towards preparing the data for modeling"
   ]
  },
  {
   "cell_type": "markdown",
   "metadata": {},
   "source": [
    "## Checkpoint 2: Data Preparation"
   ]
  },
  {
   "cell_type": "markdown",
   "metadata": {},
   "source": [
    "<b>Steps Involved:</b><br>\n",
    "\n",
    "1. Dealing with Categorical Variables: Create Dummy predictors for the levels present in each categorical variable\n",
    "2. Division of dataframe into train and test data\n",
    "3. Normalization of Train Dataframe: Scaling the continuous numeric variables\n",
    "4. Dividing the train dataframe into X_train (DF of all the predictor variables) and y_train (Target variable)"
   ]
  },
  {
   "cell_type": "code",
   "execution_count": 19,
   "metadata": {},
   "outputs": [
    {
     "data": {
      "text/html": [
       "<div>\n",
       "<style scoped>\n",
       "    .dataframe tbody tr th:only-of-type {\n",
       "        vertical-align: middle;\n",
       "    }\n",
       "\n",
       "    .dataframe tbody tr th {\n",
       "        vertical-align: top;\n",
       "    }\n",
       "\n",
       "    .dataframe thead th {\n",
       "        text-align: right;\n",
       "    }\n",
       "</style>\n",
       "<table border=\"1\" class=\"dataframe\">\n",
       "  <thead>\n",
       "    <tr style=\"text-align: right;\">\n",
       "      <th></th>\n",
       "      <th>season_fall</th>\n",
       "      <th>season_spring</th>\n",
       "      <th>season_summer</th>\n",
       "      <th>season_winter</th>\n",
       "      <th>mnth_Apr</th>\n",
       "      <th>mnth_Aug</th>\n",
       "      <th>mnth_Dec</th>\n",
       "      <th>mnth_Feb</th>\n",
       "      <th>mnth_Jan</th>\n",
       "      <th>mnth_Jul</th>\n",
       "      <th>mnth_Jun</th>\n",
       "      <th>mnth_Mar</th>\n",
       "      <th>mnth_May</th>\n",
       "      <th>mnth_Nov</th>\n",
       "      <th>mnth_Oct</th>\n",
       "      <th>mnth_Sep</th>\n",
       "      <th>weekday_fri</th>\n",
       "      <th>weekday_mon</th>\n",
       "      <th>weekday_sat</th>\n",
       "      <th>weekday_sun</th>\n",
       "      <th>weekday_thur</th>\n",
       "      <th>weekday_tue</th>\n",
       "      <th>weekday_wed</th>\n",
       "      <th>weathersit_clear</th>\n",
       "      <th>weathersit_misty</th>\n",
       "      <th>weathersit_rainy</th>\n",
       "    </tr>\n",
       "  </thead>\n",
       "  <tbody>\n",
       "    <tr>\n",
       "      <th>0</th>\n",
       "      <td>0</td>\n",
       "      <td>1</td>\n",
       "      <td>0</td>\n",
       "      <td>0</td>\n",
       "      <td>0</td>\n",
       "      <td>0</td>\n",
       "      <td>0</td>\n",
       "      <td>0</td>\n",
       "      <td>1</td>\n",
       "      <td>0</td>\n",
       "      <td>0</td>\n",
       "      <td>0</td>\n",
       "      <td>0</td>\n",
       "      <td>0</td>\n",
       "      <td>0</td>\n",
       "      <td>0</td>\n",
       "      <td>0</td>\n",
       "      <td>1</td>\n",
       "      <td>0</td>\n",
       "      <td>0</td>\n",
       "      <td>0</td>\n",
       "      <td>0</td>\n",
       "      <td>0</td>\n",
       "      <td>0</td>\n",
       "      <td>1</td>\n",
       "      <td>0</td>\n",
       "    </tr>\n",
       "    <tr>\n",
       "      <th>1</th>\n",
       "      <td>0</td>\n",
       "      <td>1</td>\n",
       "      <td>0</td>\n",
       "      <td>0</td>\n",
       "      <td>0</td>\n",
       "      <td>0</td>\n",
       "      <td>0</td>\n",
       "      <td>0</td>\n",
       "      <td>1</td>\n",
       "      <td>0</td>\n",
       "      <td>0</td>\n",
       "      <td>0</td>\n",
       "      <td>0</td>\n",
       "      <td>0</td>\n",
       "      <td>0</td>\n",
       "      <td>0</td>\n",
       "      <td>0</td>\n",
       "      <td>0</td>\n",
       "      <td>0</td>\n",
       "      <td>0</td>\n",
       "      <td>0</td>\n",
       "      <td>1</td>\n",
       "      <td>0</td>\n",
       "      <td>0</td>\n",
       "      <td>1</td>\n",
       "      <td>0</td>\n",
       "    </tr>\n",
       "    <tr>\n",
       "      <th>2</th>\n",
       "      <td>0</td>\n",
       "      <td>1</td>\n",
       "      <td>0</td>\n",
       "      <td>0</td>\n",
       "      <td>0</td>\n",
       "      <td>0</td>\n",
       "      <td>0</td>\n",
       "      <td>0</td>\n",
       "      <td>1</td>\n",
       "      <td>0</td>\n",
       "      <td>0</td>\n",
       "      <td>0</td>\n",
       "      <td>0</td>\n",
       "      <td>0</td>\n",
       "      <td>0</td>\n",
       "      <td>0</td>\n",
       "      <td>0</td>\n",
       "      <td>0</td>\n",
       "      <td>0</td>\n",
       "      <td>0</td>\n",
       "      <td>0</td>\n",
       "      <td>0</td>\n",
       "      <td>1</td>\n",
       "      <td>1</td>\n",
       "      <td>0</td>\n",
       "      <td>0</td>\n",
       "    </tr>\n",
       "    <tr>\n",
       "      <th>3</th>\n",
       "      <td>0</td>\n",
       "      <td>1</td>\n",
       "      <td>0</td>\n",
       "      <td>0</td>\n",
       "      <td>0</td>\n",
       "      <td>0</td>\n",
       "      <td>0</td>\n",
       "      <td>0</td>\n",
       "      <td>1</td>\n",
       "      <td>0</td>\n",
       "      <td>0</td>\n",
       "      <td>0</td>\n",
       "      <td>0</td>\n",
       "      <td>0</td>\n",
       "      <td>0</td>\n",
       "      <td>0</td>\n",
       "      <td>0</td>\n",
       "      <td>0</td>\n",
       "      <td>0</td>\n",
       "      <td>0</td>\n",
       "      <td>1</td>\n",
       "      <td>0</td>\n",
       "      <td>0</td>\n",
       "      <td>1</td>\n",
       "      <td>0</td>\n",
       "      <td>0</td>\n",
       "    </tr>\n",
       "    <tr>\n",
       "      <th>4</th>\n",
       "      <td>0</td>\n",
       "      <td>1</td>\n",
       "      <td>0</td>\n",
       "      <td>0</td>\n",
       "      <td>0</td>\n",
       "      <td>0</td>\n",
       "      <td>0</td>\n",
       "      <td>0</td>\n",
       "      <td>1</td>\n",
       "      <td>0</td>\n",
       "      <td>0</td>\n",
       "      <td>0</td>\n",
       "      <td>0</td>\n",
       "      <td>0</td>\n",
       "      <td>0</td>\n",
       "      <td>0</td>\n",
       "      <td>1</td>\n",
       "      <td>0</td>\n",
       "      <td>0</td>\n",
       "      <td>0</td>\n",
       "      <td>0</td>\n",
       "      <td>0</td>\n",
       "      <td>0</td>\n",
       "      <td>1</td>\n",
       "      <td>0</td>\n",
       "      <td>0</td>\n",
       "    </tr>\n",
       "  </tbody>\n",
       "</table>\n",
       "</div>"
      ],
      "text/plain": [
       "   season_fall  season_spring  season_summer  season_winter  mnth_Apr  \\\n",
       "0            0              1              0              0         0   \n",
       "1            0              1              0              0         0   \n",
       "2            0              1              0              0         0   \n",
       "3            0              1              0              0         0   \n",
       "4            0              1              0              0         0   \n",
       "\n",
       "   mnth_Aug  mnth_Dec  mnth_Feb  mnth_Jan  mnth_Jul  mnth_Jun  mnth_Mar  \\\n",
       "0         0         0         0         1         0         0         0   \n",
       "1         0         0         0         1         0         0         0   \n",
       "2         0         0         0         1         0         0         0   \n",
       "3         0         0         0         1         0         0         0   \n",
       "4         0         0         0         1         0         0         0   \n",
       "\n",
       "   mnth_May  mnth_Nov  mnth_Oct  mnth_Sep  weekday_fri  weekday_mon  \\\n",
       "0         0         0         0         0            0            1   \n",
       "1         0         0         0         0            0            0   \n",
       "2         0         0         0         0            0            0   \n",
       "3         0         0         0         0            0            0   \n",
       "4         0         0         0         0            1            0   \n",
       "\n",
       "   weekday_sat  weekday_sun  weekday_thur  weekday_tue  weekday_wed  \\\n",
       "0            0            0             0            0            0   \n",
       "1            0            0             0            1            0   \n",
       "2            0            0             0            0            1   \n",
       "3            0            0             1            0            0   \n",
       "4            0            0             0            0            0   \n",
       "\n",
       "   weathersit_clear  weathersit_misty  weathersit_rainy  \n",
       "0                 0                 1                 0  \n",
       "1                 0                 1                 0  \n",
       "2                 1                 0                 0  \n",
       "3                 1                 0                 0  \n",
       "4                 1                 0                 0  "
      ]
     },
     "execution_count": 19,
     "metadata": {},
     "output_type": "execute_result"
    }
   ],
   "source": [
    "#Since there will be too many columns formed upon creating the dummy variables, let's set max_columns\n",
    "pd.set_option('max_columns', None)\n",
    "\n",
    "#let's take a look at the Dummy variables being created\n",
    "pd.get_dummies(bike_df[cat_var].drop(['holiday','workingday','yr'],axis=1)).head()"
   ]
  },
  {
   "cell_type": "code",
   "execution_count": 20,
   "metadata": {},
   "outputs": [],
   "source": [
    "#Prepare the categorical variables for which dummy varaibles have to created\n",
    "cat_var.remove('holiday')\n",
    "cat_var.remove('workingday')\n",
    "cat_var.remove('yr')"
   ]
  },
  {
   "cell_type": "code",
   "execution_count": 21,
   "metadata": {},
   "outputs": [],
   "source": [
    "#store the df in a temp variable by removing the first\n",
    "df_dummy = pd.get_dummies(bike_df[cat_var],drop_first=True)\n",
    "\n",
    "#concatenate the same with original df by dropping the original categorical variables\n",
    "bike_df1 = pd.concat([bike_df.drop(cat_var,axis=1),df_dummy],axis=1)"
   ]
  },
  {
   "cell_type": "code",
   "execution_count": 22,
   "metadata": {},
   "outputs": [
    {
     "name": "stdout",
     "output_type": "stream",
     "text": [
      "(730, 29)\n"
     ]
    },
    {
     "data": {
      "text/html": [
       "<div>\n",
       "<style scoped>\n",
       "    .dataframe tbody tr th:only-of-type {\n",
       "        vertical-align: middle;\n",
       "    }\n",
       "\n",
       "    .dataframe tbody tr th {\n",
       "        vertical-align: top;\n",
       "    }\n",
       "\n",
       "    .dataframe thead th {\n",
       "        text-align: right;\n",
       "    }\n",
       "</style>\n",
       "<table border=\"1\" class=\"dataframe\">\n",
       "  <thead>\n",
       "    <tr style=\"text-align: right;\">\n",
       "      <th></th>\n",
       "      <th>yr</th>\n",
       "      <th>holiday</th>\n",
       "      <th>workingday</th>\n",
       "      <th>atemp</th>\n",
       "      <th>hum</th>\n",
       "      <th>windspeed</th>\n",
       "      <th>demand</th>\n",
       "      <th>season_spring</th>\n",
       "      <th>season_summer</th>\n",
       "      <th>season_winter</th>\n",
       "      <th>mnth_Aug</th>\n",
       "      <th>mnth_Dec</th>\n",
       "      <th>mnth_Feb</th>\n",
       "      <th>mnth_Jan</th>\n",
       "      <th>mnth_Jul</th>\n",
       "      <th>mnth_Jun</th>\n",
       "      <th>mnth_Mar</th>\n",
       "      <th>mnth_May</th>\n",
       "      <th>mnth_Nov</th>\n",
       "      <th>mnth_Oct</th>\n",
       "      <th>mnth_Sep</th>\n",
       "      <th>weekday_mon</th>\n",
       "      <th>weekday_sat</th>\n",
       "      <th>weekday_sun</th>\n",
       "      <th>weekday_thur</th>\n",
       "      <th>weekday_tue</th>\n",
       "      <th>weekday_wed</th>\n",
       "      <th>weathersit_misty</th>\n",
       "      <th>weathersit_rainy</th>\n",
       "    </tr>\n",
       "  </thead>\n",
       "  <tbody>\n",
       "    <tr>\n",
       "      <th>0</th>\n",
       "      <td>0</td>\n",
       "      <td>0</td>\n",
       "      <td>0</td>\n",
       "      <td>18.18</td>\n",
       "      <td>80.58</td>\n",
       "      <td>10.75</td>\n",
       "      <td>985</td>\n",
       "      <td>1</td>\n",
       "      <td>0</td>\n",
       "      <td>0</td>\n",
       "      <td>0</td>\n",
       "      <td>0</td>\n",
       "      <td>0</td>\n",
       "      <td>1</td>\n",
       "      <td>0</td>\n",
       "      <td>0</td>\n",
       "      <td>0</td>\n",
       "      <td>0</td>\n",
       "      <td>0</td>\n",
       "      <td>0</td>\n",
       "      <td>0</td>\n",
       "      <td>1</td>\n",
       "      <td>0</td>\n",
       "      <td>0</td>\n",
       "      <td>0</td>\n",
       "      <td>0</td>\n",
       "      <td>0</td>\n",
       "      <td>1</td>\n",
       "      <td>0</td>\n",
       "    </tr>\n",
       "    <tr>\n",
       "      <th>1</th>\n",
       "      <td>0</td>\n",
       "      <td>0</td>\n",
       "      <td>0</td>\n",
       "      <td>17.69</td>\n",
       "      <td>69.61</td>\n",
       "      <td>16.65</td>\n",
       "      <td>801</td>\n",
       "      <td>1</td>\n",
       "      <td>0</td>\n",
       "      <td>0</td>\n",
       "      <td>0</td>\n",
       "      <td>0</td>\n",
       "      <td>0</td>\n",
       "      <td>1</td>\n",
       "      <td>0</td>\n",
       "      <td>0</td>\n",
       "      <td>0</td>\n",
       "      <td>0</td>\n",
       "      <td>0</td>\n",
       "      <td>0</td>\n",
       "      <td>0</td>\n",
       "      <td>0</td>\n",
       "      <td>0</td>\n",
       "      <td>0</td>\n",
       "      <td>0</td>\n",
       "      <td>1</td>\n",
       "      <td>0</td>\n",
       "      <td>1</td>\n",
       "      <td>0</td>\n",
       "    </tr>\n",
       "    <tr>\n",
       "      <th>2</th>\n",
       "      <td>0</td>\n",
       "      <td>0</td>\n",
       "      <td>1</td>\n",
       "      <td>9.47</td>\n",
       "      <td>43.73</td>\n",
       "      <td>16.64</td>\n",
       "      <td>1349</td>\n",
       "      <td>1</td>\n",
       "      <td>0</td>\n",
       "      <td>0</td>\n",
       "      <td>0</td>\n",
       "      <td>0</td>\n",
       "      <td>0</td>\n",
       "      <td>1</td>\n",
       "      <td>0</td>\n",
       "      <td>0</td>\n",
       "      <td>0</td>\n",
       "      <td>0</td>\n",
       "      <td>0</td>\n",
       "      <td>0</td>\n",
       "      <td>0</td>\n",
       "      <td>0</td>\n",
       "      <td>0</td>\n",
       "      <td>0</td>\n",
       "      <td>0</td>\n",
       "      <td>0</td>\n",
       "      <td>1</td>\n",
       "      <td>0</td>\n",
       "      <td>0</td>\n",
       "    </tr>\n",
       "    <tr>\n",
       "      <th>3</th>\n",
       "      <td>0</td>\n",
       "      <td>0</td>\n",
       "      <td>1</td>\n",
       "      <td>10.61</td>\n",
       "      <td>59.04</td>\n",
       "      <td>10.74</td>\n",
       "      <td>1562</td>\n",
       "      <td>1</td>\n",
       "      <td>0</td>\n",
       "      <td>0</td>\n",
       "      <td>0</td>\n",
       "      <td>0</td>\n",
       "      <td>0</td>\n",
       "      <td>1</td>\n",
       "      <td>0</td>\n",
       "      <td>0</td>\n",
       "      <td>0</td>\n",
       "      <td>0</td>\n",
       "      <td>0</td>\n",
       "      <td>0</td>\n",
       "      <td>0</td>\n",
       "      <td>0</td>\n",
       "      <td>0</td>\n",
       "      <td>0</td>\n",
       "      <td>1</td>\n",
       "      <td>0</td>\n",
       "      <td>0</td>\n",
       "      <td>0</td>\n",
       "      <td>0</td>\n",
       "    </tr>\n",
       "    <tr>\n",
       "      <th>4</th>\n",
       "      <td>0</td>\n",
       "      <td>0</td>\n",
       "      <td>1</td>\n",
       "      <td>11.46</td>\n",
       "      <td>43.70</td>\n",
       "      <td>12.52</td>\n",
       "      <td>1600</td>\n",
       "      <td>1</td>\n",
       "      <td>0</td>\n",
       "      <td>0</td>\n",
       "      <td>0</td>\n",
       "      <td>0</td>\n",
       "      <td>0</td>\n",
       "      <td>1</td>\n",
       "      <td>0</td>\n",
       "      <td>0</td>\n",
       "      <td>0</td>\n",
       "      <td>0</td>\n",
       "      <td>0</td>\n",
       "      <td>0</td>\n",
       "      <td>0</td>\n",
       "      <td>0</td>\n",
       "      <td>0</td>\n",
       "      <td>0</td>\n",
       "      <td>0</td>\n",
       "      <td>0</td>\n",
       "      <td>0</td>\n",
       "      <td>0</td>\n",
       "      <td>0</td>\n",
       "    </tr>\n",
       "  </tbody>\n",
       "</table>\n",
       "</div>"
      ],
      "text/plain": [
       "   yr  holiday  workingday  atemp    hum  windspeed  demand  season_spring  \\\n",
       "0   0        0           0  18.18  80.58      10.75     985              1   \n",
       "1   0        0           0  17.69  69.61      16.65     801              1   \n",
       "2   0        0           1   9.47  43.73      16.64    1349              1   \n",
       "3   0        0           1  10.61  59.04      10.74    1562              1   \n",
       "4   0        0           1  11.46  43.70      12.52    1600              1   \n",
       "\n",
       "   season_summer  season_winter  mnth_Aug  mnth_Dec  mnth_Feb  mnth_Jan  \\\n",
       "0              0              0         0         0         0         1   \n",
       "1              0              0         0         0         0         1   \n",
       "2              0              0         0         0         0         1   \n",
       "3              0              0         0         0         0         1   \n",
       "4              0              0         0         0         0         1   \n",
       "\n",
       "   mnth_Jul  mnth_Jun  mnth_Mar  mnth_May  mnth_Nov  mnth_Oct  mnth_Sep  \\\n",
       "0         0         0         0         0         0         0         0   \n",
       "1         0         0         0         0         0         0         0   \n",
       "2         0         0         0         0         0         0         0   \n",
       "3         0         0         0         0         0         0         0   \n",
       "4         0         0         0         0         0         0         0   \n",
       "\n",
       "   weekday_mon  weekday_sat  weekday_sun  weekday_thur  weekday_tue  \\\n",
       "0            1            0            0             0            0   \n",
       "1            0            0            0             0            1   \n",
       "2            0            0            0             0            0   \n",
       "3            0            0            0             1            0   \n",
       "4            0            0            0             0            0   \n",
       "\n",
       "   weekday_wed  weathersit_misty  weathersit_rainy  \n",
       "0            0                 1                 0  \n",
       "1            0                 1                 0  \n",
       "2            1                 0                 0  \n",
       "3            0                 0                 0  \n",
       "4            0                 0                 0  "
      ]
     },
     "execution_count": 22,
     "metadata": {},
     "output_type": "execute_result"
    }
   ],
   "source": [
    "#check the resultant dataframe\n",
    "print(bike_df1.shape)\n",
    "bike_df1.head()"
   ]
  },
  {
   "cell_type": "code",
   "execution_count": 23,
   "metadata": {},
   "outputs": [
    {
     "name": "stdout",
     "output_type": "stream",
     "text": [
      "<class 'pandas.core.frame.DataFrame'>\n",
      "RangeIndex: 730 entries, 0 to 729\n",
      "Data columns (total 29 columns):\n",
      " #   Column            Non-Null Count  Dtype  \n",
      "---  ------            --------------  -----  \n",
      " 0   yr                730 non-null    int64  \n",
      " 1   holiday           730 non-null    int64  \n",
      " 2   workingday        730 non-null    int64  \n",
      " 3   atemp             730 non-null    float64\n",
      " 4   hum               730 non-null    float64\n",
      " 5   windspeed         730 non-null    float64\n",
      " 6   demand            730 non-null    int64  \n",
      " 7   season_spring     730 non-null    uint8  \n",
      " 8   season_summer     730 non-null    uint8  \n",
      " 9   season_winter     730 non-null    uint8  \n",
      " 10  mnth_Aug          730 non-null    uint8  \n",
      " 11  mnth_Dec          730 non-null    uint8  \n",
      " 12  mnth_Feb          730 non-null    uint8  \n",
      " 13  mnth_Jan          730 non-null    uint8  \n",
      " 14  mnth_Jul          730 non-null    uint8  \n",
      " 15  mnth_Jun          730 non-null    uint8  \n",
      " 16  mnth_Mar          730 non-null    uint8  \n",
      " 17  mnth_May          730 non-null    uint8  \n",
      " 18  mnth_Nov          730 non-null    uint8  \n",
      " 19  mnth_Oct          730 non-null    uint8  \n",
      " 20  mnth_Sep          730 non-null    uint8  \n",
      " 21  weekday_mon       730 non-null    uint8  \n",
      " 22  weekday_sat       730 non-null    uint8  \n",
      " 23  weekday_sun       730 non-null    uint8  \n",
      " 24  weekday_thur      730 non-null    uint8  \n",
      " 25  weekday_tue       730 non-null    uint8  \n",
      " 26  weekday_wed       730 non-null    uint8  \n",
      " 27  weathersit_misty  730 non-null    uint8  \n",
      " 28  weathersit_rainy  730 non-null    uint8  \n",
      "dtypes: float64(3), int64(4), uint8(22)\n",
      "memory usage: 55.7 KB\n"
     ]
    }
   ],
   "source": [
    "#Let's check the dataframe to understand there are no columns with 'object' datatype before proceeding to modeling\n",
    "bike_df1.info()"
   ]
  },
  {
   "cell_type": "markdown",
   "metadata": {},
   "source": [
    "Post creation of these dummy variables, let's move towards splitting the dataframe into train and test data"
   ]
  },
  {
   "cell_type": "code",
   "execution_count": 24,
   "metadata": {},
   "outputs": [],
   "source": [
    "#import necessary library\n",
    "from sklearn.model_selection import train_test_split\n",
    "np.random.seed(0)"
   ]
  },
  {
   "cell_type": "code",
   "execution_count": 25,
   "metadata": {
    "scrolled": true
   },
   "outputs": [
    {
     "name": "stdout",
     "output_type": "stream",
     "text": [
      "(547, 29)\n",
      "(183, 29)\n"
     ]
    }
   ],
   "source": [
    "#Split 75% of the original dataframe into train dataframe and the remaining 25% into test dataframe\n",
    "df_train,df_test = train_test_split(bike_df1,train_size=0.75,random_state=100)\n",
    "print(df_train.shape)\n",
    "print(df_test.shape)"
   ]
  },
  {
   "cell_type": "markdown",
   "metadata": {},
   "source": [
    "Now that we have separate train and test dataframes, let's move towards the next step of data preparation which is Normalization/MinMax scaling which is required to effectively interpret our coefficients and converge quickly to our minimum coeff values"
   ]
  },
  {
   "cell_type": "code",
   "execution_count": 26,
   "metadata": {},
   "outputs": [],
   "source": [
    "#let's import the necessary library\n",
    "from sklearn.preprocessing import MinMaxScaler"
   ]
  },
  {
   "cell_type": "code",
   "execution_count": 27,
   "metadata": {},
   "outputs": [],
   "source": [
    "#Instantiate\n",
    "scaler = MinMaxScaler()\n",
    "\n",
    "#Fit and transform the dataset for all the continuous numerical variables\n",
    "df_train[num_var] = scaler.fit_transform(df_train[num_var])"
   ]
  },
  {
   "cell_type": "code",
   "execution_count": 28,
   "metadata": {},
   "outputs": [
    {
     "data": {
      "text/plain": [
       "<AxesSubplot:>"
      ]
     },
     "execution_count": 28,
     "metadata": {},
     "output_type": "execute_result"
    },
    {
     "data": {
      "image/png": "[encoded data removed]",
      "text/plain": [
       "<Figure size 1440x1440 with 2 Axes>"
      ]
     },
     "metadata": {
      "needs_background": "light"
     },
     "output_type": "display_data"
    }
   ],
   "source": [
    "#let's look at the correlation of all the features with one another. Let's focus on only those corelations that are greater than 20%\n",
    "#declare and initiate figure size of the map\n",
    "plt.figure(figsize=(20,20))\n",
    "\n",
    "#create the correlation of variables so that the same can be used to filter in required range\n",
    "corr_var = df_train.corr()\n",
    "\n",
    "#let's observe the heatmap\n",
    "sns.heatmap(corr_var[(corr_var>=0.2)|(corr_var<=-0.2)],annot=True)"
   ]
  },
  {
   "cell_type": "code",
   "execution_count": 29,
   "metadata": {},
   "outputs": [
    {
     "data": {
      "text/plain": [
       "atemp            0.651473\n",
       "yr               0.573177\n",
       "mnth_Aug         0.218240\n",
       "mnth_Sep         0.207293\n",
       "mnth_Jun         0.206297\n",
       "mnth_Jul         0.154424\n",
       "season_summer    0.146895\n",
       "workingday       0.109079\n",
       "mnth_May         0.105387\n",
       "mnth_Oct         0.092069\n",
       "season_winter    0.065160\n",
       "weekday_thur     0.035236\n",
       "Name: demand, dtype: float64"
      ]
     },
     "execution_count": 29,
     "metadata": {},
     "output_type": "execute_result"
    }
   ],
   "source": [
    "#Top 10 positively correlated variables/predictors with demand\n",
    "corr_var['demand'].drop('demand').sort_values(ascending=False).head(12)"
   ]
  },
  {
   "cell_type": "code",
   "execution_count": 30,
   "metadata": {},
   "outputs": [
    {
     "data": {
      "text/plain": [
       "season_spring      -0.567066\n",
       "mnth_Jan           -0.381270\n",
       "mnth_Feb           -0.264816\n",
       "windspeed          -0.247986\n",
       "weathersit_rainy   -0.216487\n",
       "weathersit_misty   -0.153314\n",
       "mnth_Dec           -0.152277\n",
       "mnth_Mar           -0.145005\n",
       "holiday            -0.118934\n",
       "weekday_tue        -0.078953\n",
       "Name: demand, dtype: float64"
      ]
     },
     "execution_count": 30,
     "metadata": {},
     "output_type": "execute_result"
    }
   ],
   "source": [
    "#Top 10 negatively correlated variables/predictors with demand\n",
    "corr_var['demand'].drop('demand').sort_values(ascending=False).tail(10).sort_values(ascending=True)"
   ]
  },
  {
   "cell_type": "markdown",
   "metadata": {},
   "source": [
    "Now that we have a train and test data and we have normalised the train dataframe, let's go ahead and move towards the last step of data preparation, the preparation of X_train and y_train."
   ]
  },
  {
   "cell_type": "code",
   "execution_count": 31,
   "metadata": {},
   "outputs": [],
   "source": [
    "y_train = df_train.pop('demand')\n",
    "X_train = df_train"
   ]
  },
  {
   "cell_type": "markdown",
   "metadata": {},
   "source": [
    "## Checkpoint 3: Modeling"
   ]
  },
  {
   "cell_type": "markdown",
   "metadata": {},
   "source": [
    "There are 3 approaches to model building:\n",
    "1. Manual Feature Elimination\n",
    "2. Automated Feature Elimination\n",
    "3. Balanced Approach for Feature Elimination\n",
    "\n",
    "Let's build models using all 3 approaches and then we'll choose the best model later upon comparing the output of these models against test data"
   ]
  },
  {
   "cell_type": "markdown",
   "metadata": {},
   "source": [
    "<b>Approach 1: Manual Feature Elimination</b>\n",
    "\n",
    "<b>Steps Involved:</b><br>\n",
    "\n",
    "1. Start with all 28 predictor variables and build model\n",
    "2. Analyse the stats and drop features that are least helpful in prediction: High P value of Coeff\n",
    "3. Drop features that are redundant: High VIF value\n",
    "4. Repeat till best fit model is obtained for train data"
   ]
  },
  {
   "cell_type": "code",
   "execution_count": 32,
   "metadata": {},
   "outputs": [],
   "source": [
    "#import necessary libraries\n",
    "from statsmodels.stats.outliers_influence import variance_inflation_factor"
   ]
  },
  {
   "cell_type": "markdown",
   "metadata": {},
   "source": [
    "Let's start by defining a 3 functions that will be used redundantly throughout this notebook for building a LR model and evaluate the same. Following are the 3 functions:\n",
    "1. Function that can be called to build an OLS model and print the summary statistics for the features filtered for buiding the model.\n",
    "2. Function to calculate and print the VIF of predictor variables/features filtered\n",
    "3. Function to predict the y for list of predictor variables shortlisted and stored in X_train and X_test dataframes"
   ]
  },
  {
   "cell_type": "code",
   "execution_count": 33,
   "metadata": {},
   "outputs": [],
   "source": [
    "#Define a function to spit out sm stats table for input of different X_train and y_train combinations\n",
    "def get_stats(X_data,y_data):\n",
    "    #add constant for creating y-intercept\n",
    "    X_data_lm = sm.add_constant(X_data)\n",
    "    #create the OLS model\n",
    "    lr_1 = sm.OLS(y_data, X_data_lm).fit()\n",
    "    #print the summary\n",
    "    print(lr_1.summary())\n",
    "    return lr_1\n",
    "\n",
    "#define a function to spit out the VIF stats for input of different X_Train combinations\n",
    "def get_VIF(X_data):\n",
    "    #instantiate an empty DF\n",
    "    vif = pd.DataFrame()\n",
    "    #insert 1st column as train dataframe column names\n",
    "    vif['Features'] = X_data.columns\n",
    "    #Append one more column with corresponding VIF values\n",
    "    vif['VIF'] = [variance_inflation_factor(X_data.values, i) for i in range(X_data.shape[1])]\n",
    "    vif['VIF'] = round(vif['VIF'], 2)\n",
    "    #sort the values in the DF\n",
    "    vif = vif.sort_values(by = \"VIF\", ascending = False)\n",
    "    #Print the table\n",
    "    print(vif)\n",
    "\n",
    "#define a function to predict y when provided with a model object and x_train/x_test\n",
    "def predict_y(lr_model,X_data):\n",
    "    #add constant for creating y-intercept\n",
    "    X_data_lm = sm.add_constant(X_data)\n",
    "    #Predict y\n",
    "    y_pred = lr_model.predict(X_data_lm)\n",
    "    #return the y_pred object\n",
    "    return y_pred"
   ]
  },
  {
   "cell_type": "markdown",
   "metadata": {},
   "source": [
    "Now let's start the Manual Feature Elimination by building a model with all the 29 predictor variables and target variable:"
   ]
  },
  {
   "cell_type": "code",
   "execution_count": 34,
   "metadata": {
    "scrolled": true
   },
   "outputs": [
    {
     "name": "stdout",
     "output_type": "stream",
     "text": [
      "                            OLS Regression Results                            \n",
      "==============================================================================\n",
      "Dep. Variable:                 demand   R-squared:                       0.854\n",
      "Model:                            OLS   Adj. R-squared:                  0.846\n",
      "Method:                 Least Squares   F-statistic:                     112.4\n",
      "Date:                Mon, 08 Mar 2021   Prob (F-statistic):          2.39e-197\n",
      "Time:                        21:51:55   Log-Likelihood:                 566.51\n",
      "No. Observations:                 547   AIC:                            -1077.\n",
      "Df Residuals:                     519   BIC:                            -956.5\n",
      "Df Model:                          27                                         \n",
      "Covariance Type:            nonrobust                                         \n",
      "====================================================================================\n",
      "                       coef    std err          t      P>|t|      [0.025      0.975]\n",
      "------------------------------------------------------------------------------------\n",
      "const                0.2467      0.034      7.228      0.000       0.180       0.314\n",
      "yr                   0.2326      0.008     30.157      0.000       0.217       0.248\n",
      "holiday              0.0022      0.023      0.096      0.923      -0.042       0.047\n",
      "workingday           0.0978      0.012      8.431      0.000       0.075       0.121\n",
      "atemp                0.4194      0.043      9.698      0.000       0.334       0.504\n",
      "hum                 -0.1421      0.038     -3.787      0.000      -0.216      -0.068\n",
      "windspeed           -0.1622      0.025     -6.573      0.000      -0.211      -0.114\n",
      "season_spring       -0.0581      0.029     -2.038      0.042      -0.114      -0.002\n",
      "season_summer        0.0370      0.025      1.475      0.141      -0.012       0.086\n",
      "season_winter        0.1096      0.026      4.144      0.000       0.058       0.161\n",
      "mnth_Aug             0.0429      0.032      1.340      0.181      -0.020       0.106\n",
      "mnth_Dec            -0.0584      0.032     -1.827      0.068      -0.121       0.004\n",
      "mnth_Feb            -0.0348      0.031     -1.107      0.269      -0.097       0.027\n",
      "mnth_Jan            -0.0650      0.032     -2.014      0.044      -0.128      -0.002\n",
      "mnth_Jul            -0.0136      0.033     -0.407      0.685      -0.079       0.052\n",
      "mnth_Jun             0.0310      0.023      1.356      0.176      -0.014       0.076\n",
      "mnth_Mar             0.0034      0.024      0.141      0.888      -0.044       0.051\n",
      "mnth_May             0.0318      0.020      1.575      0.116      -0.008       0.072\n",
      "mnth_Nov            -0.0498      0.035     -1.425      0.155      -0.118       0.019\n",
      "mnth_Oct             0.0097      0.034      0.283      0.777      -0.057       0.077\n",
      "mnth_Sep             0.0952      0.031      3.102      0.002       0.035       0.156\n",
      "weekday_mon          0.1005      0.013      7.725      0.000       0.075       0.126\n",
      "weekday_sat         -0.0029      0.014     -0.206      0.837      -0.031       0.025\n",
      "weekday_sun          0.0106      0.015      0.725      0.469      -0.018       0.039\n",
      "weekday_thur        -0.0141      0.014     -0.994      0.321      -0.042       0.014\n",
      "weekday_tue          0.0463      0.013      3.556      0.000       0.021       0.072\n",
      "weekday_wed         -0.0170      0.014     -1.205      0.229      -0.045       0.011\n",
      "weathersit_misty    -0.0608      0.010     -6.061      0.000      -0.080      -0.041\n",
      "weathersit_rainy    -0.2572      0.026     -9.823      0.000      -0.309      -0.206\n",
      "==============================================================================\n",
      "Omnibus:                       93.596   Durbin-Watson:                   2.061\n",
      "Prob(Omnibus):                  0.000   Jarque-Bera (JB):              285.660\n",
      "Skew:                          -0.806   Prob(JB):                     9.33e-63\n",
      "Kurtosis:                       6.152   Cond. No.                     2.35e+15\n",
      "==============================================================================\n",
      "\n",
      "Notes:\n",
      "[1] Standard Errors assume that the covariance matrix of the errors is correctly specified.\n",
      "[2] The smallest eigenvalue is 3.06e-28. This might indicate that there are\n",
      "strong multicollinearity problems or that the design matrix is singular.\n",
      "            Features    VIF\n",
      "2         workingday  86.25\n",
      "24       weekday_tue  19.43\n",
      "20       weekday_mon  19.40\n",
      "6      season_spring  10.94\n",
      "8      season_winter   9.09\n",
      "7      season_summer   8.18\n",
      "18          mnth_Oct   6.58\n",
      "17          mnth_Nov   6.49\n",
      "9           mnth_Aug   6.08\n",
      "12          mnth_Jan   5.97\n",
      "3              atemp   5.89\n",
      "10          mnth_Dec   5.76\n",
      "13          mnth_Jul   5.19\n",
      "19          mnth_Sep   4.91\n",
      "1            holiday   4.83\n",
      "11          mnth_Feb   4.72\n",
      "15          mnth_Mar   3.62\n",
      "14          mnth_Jun   2.66\n",
      "16          mnth_May   2.21\n",
      "4                hum   2.06\n",
      "25       weekday_wed   1.82\n",
      "23      weekday_thur   1.66\n",
      "21       weekday_sat   1.64\n",
      "22       weekday_sun   1.63\n",
      "26  weathersit_misty   1.61\n",
      "27  weathersit_rainy   1.29\n",
      "5          windspeed   1.22\n",
      "0                 yr   1.05\n"
     ]
    }
   ],
   "source": [
    "#Call function to print OLS Summary and create OLS object\n",
    "lr_model = get_stats(X_train,y_train)\n",
    "#Call function to calculate VIF and print the same\n",
    "get_VIF(X_train)"
   ]
  },
  {
   "cell_type": "markdown",
   "metadata": {},
   "source": [
    "We observe that there are many features that are insignificant for our analysis as they have high P values. Let's make a list of these features which have p-value greater than 5% (0.050) and delete such features one by one. Let's print the summary and VIF post deleting each feature and evaluate the models stats again to decide if all these features need to be indeed deleted or not."
   ]
  },
  {
   "cell_type": "code",
   "execution_count": 35,
   "metadata": {},
   "outputs": [
    {
     "name": "stdout",
     "output_type": "stream",
     "text": [
      "\n",
      "Dropped Features:  ['holiday'] \n",
      "\n",
      "                            OLS Regression Results                            \n",
      "==============================================================================\n",
      "Dep. Variable:                 demand   R-squared:                       0.854\n",
      "Model:                            OLS   Adj. R-squared:                  0.846\n",
      "Method:                 Least Squares   F-statistic:                     112.4\n",
      "Date:                Mon, 08 Mar 2021   Prob (F-statistic):          2.39e-197\n",
      "Time:                        21:51:55   Log-Likelihood:                 566.51\n",
      "No. Observations:                 547   AIC:                            -1077.\n",
      "Df Residuals:                     519   BIC:                            -956.5\n",
      "Df Model:                          27                                         \n",
      "Covariance Type:            nonrobust                                         \n",
      "====================================================================================\n",
      "                       coef    std err          t      P>|t|      [0.025      0.975]\n",
      "------------------------------------------------------------------------------------\n",
      "const                0.2489      0.050      4.974      0.000       0.151       0.347\n",
      "yr                   0.2326      0.008     30.157      0.000       0.217       0.248\n",
      "workingday           0.0956      0.025      3.881      0.000       0.047       0.144\n",
      "atemp                0.4194      0.043      9.698      0.000       0.334       0.504\n",
      "hum                 -0.1421      0.038     -3.787      0.000      -0.216      -0.068\n",
      "windspeed           -0.1622      0.025     -6.573      0.000      -0.211      -0.114\n",
      "season_spring       -0.0581      0.029     -2.038      0.042      -0.114      -0.002\n",
      "season_summer        0.0370      0.025      1.475      0.141      -0.012       0.086\n",
      "season_winter        0.1096      0.026      4.144      0.000       0.058       0.161\n",
      "mnth_Aug             0.0429      0.032      1.340      0.181      -0.020       0.106\n",
      "mnth_Dec            -0.0584      0.032     -1.827      0.068      -0.121       0.004\n",
      "mnth_Feb            -0.0348      0.031     -1.107      0.269      -0.097       0.027\n",
      "mnth_Jan            -0.0650      0.032     -2.014      0.044      -0.128      -0.002\n",
      "mnth_Jul            -0.0136      0.033     -0.407      0.685      -0.079       0.052\n",
      "mnth_Jun             0.0310      0.023      1.356      0.176      -0.014       0.076\n",
      "mnth_Mar             0.0034      0.024      0.141      0.888      -0.044       0.051\n",
      "mnth_May             0.0318      0.020      1.575      0.116      -0.008       0.072\n",
      "mnth_Nov            -0.0498      0.035     -1.425      0.155      -0.118       0.019\n",
      "mnth_Oct             0.0097      0.034      0.283      0.777      -0.057       0.077\n",
      "mnth_Sep             0.0952      0.031      3.102      0.002       0.035       0.156\n",
      "weekday_mon          0.0983      0.028      3.485      0.001       0.043       0.154\n",
      "weekday_sat         -0.0029      0.014     -0.206      0.837      -0.031       0.025\n",
      "weekday_sun          0.0106      0.015      0.725      0.469      -0.018       0.039\n",
      "weekday_thur        -0.0141      0.014     -0.994      0.321      -0.042       0.014\n",
      "weekday_tue          0.0441      0.028      1.566      0.118      -0.011       0.099\n",
      "weekday_wed         -0.0170      0.014     -1.205      0.229      -0.045       0.011\n",
      "weathersit_misty    -0.0608      0.010     -6.061      0.000      -0.080      -0.041\n",
      "weathersit_rainy    -0.2572      0.026     -9.823      0.000      -0.309      -0.206\n",
      "==============================================================================\n",
      "Omnibus:                       93.596   Durbin-Watson:                   2.061\n",
      "Prob(Omnibus):                  0.000   Jarque-Bera (JB):              285.660\n",
      "Skew:                          -0.806   Prob(JB):                     9.33e-63\n",
      "Kurtosis:                       6.152   Cond. No.                         39.3\n",
      "==============================================================================\n",
      "\n",
      "Notes:\n",
      "[1] Standard Errors assume that the covariance matrix of the errors is correctly specified.\n",
      "            Features    VIF\n",
      "3                hum  39.93\n",
      "2              atemp  33.85\n",
      "1         workingday  20.88\n",
      "5      season_spring  12.67\n",
      "7      season_winter  11.61\n",
      "6      season_summer   7.71\n",
      "17          mnth_Oct   6.39\n",
      "19       weekday_mon   6.15\n",
      "23       weekday_tue   6.15\n",
      "16          mnth_Nov   5.74\n",
      "8           mnth_Aug   5.63\n",
      "11          mnth_Jan   5.58\n",
      "9           mnth_Dec   5.19\n",
      "4          windspeed   5.04\n",
      "12          mnth_Jul   4.88\n",
      "10          mnth_Feb   4.49\n",
      "18          mnth_Sep   4.30\n",
      "14          mnth_Mar   3.65\n",
      "13          mnth_Jun   2.78\n",
      "15          mnth_May   2.41\n",
      "25  weathersit_misty   2.40\n",
      "0                 yr   2.12\n",
      "24       weekday_wed   2.00\n",
      "22      weekday_thur   1.88\n",
      "20       weekday_sat   1.84\n",
      "21       weekday_sun   1.80\n",
      "26  weathersit_rainy   1.31\n",
      "\n",
      "Dropped Features:  ['holiday', 'mnth_Mar'] \n",
      "\n",
      "                            OLS Regression Results                            \n",
      "==============================================================================\n",
      "Dep. Variable:                 demand   R-squared:                       0.854\n",
      "Model:                            OLS   Adj. R-squared:                  0.847\n",
      "Method:                 Least Squares   F-statistic:                     117.0\n",
      "Date:                Mon, 08 Mar 2021   Prob (F-statistic):          2.21e-198\n",
      "Time:                        21:51:55   Log-Likelihood:                 566.50\n",
      "No. Observations:                 547   AIC:                            -1079.\n",
      "Df Residuals:                     520   BIC:                            -962.8\n",
      "Df Model:                          26                                         \n",
      "Covariance Type:            nonrobust                                         \n",
      "====================================================================================\n",
      "                       coef    std err          t      P>|t|      [0.025      0.975]\n",
      "------------------------------------------------------------------------------------\n",
      "const                0.2510      0.048      5.261      0.000       0.157       0.345\n",
      "yr                   0.2326      0.008     30.185      0.000       0.217       0.248\n",
      "workingday           0.0957      0.025      3.889      0.000       0.047       0.144\n",
      "atemp                0.4184      0.043      9.820      0.000       0.335       0.502\n",
      "hum                 -0.1417      0.037     -3.792      0.000      -0.215      -0.068\n",
      "windspeed           -0.1624      0.025     -6.599      0.000      -0.211      -0.114\n",
      "season_spring       -0.0568      0.027     -2.108      0.036      -0.110      -0.004\n",
      "season_summer        0.0363      0.025      1.479      0.140      -0.012       0.084\n",
      "season_winter        0.1103      0.026      4.263      0.000       0.059       0.161\n",
      "mnth_Aug             0.0412      0.030      1.385      0.166      -0.017       0.100\n",
      "mnth_Dec            -0.0614      0.024     -2.585      0.010      -0.108      -0.015\n",
      "mnth_Feb            -0.0382      0.021     -1.848      0.065      -0.079       0.002\n",
      "mnth_Jan            -0.0685      0.021     -3.257      0.001      -0.110      -0.027\n",
      "mnth_Jul            -0.0151      0.031     -0.481      0.631      -0.077       0.047\n",
      "mnth_Jun             0.0299      0.021      1.398      0.163      -0.012       0.072\n",
      "mnth_May             0.0308      0.019      1.639      0.102      -0.006       0.068\n",
      "mnth_Nov            -0.0525      0.029     -1.810      0.071      -0.110       0.004\n",
      "mnth_Oct             0.0071      0.029      0.247      0.805      -0.049       0.063\n",
      "mnth_Sep             0.0933      0.027      3.397      0.001       0.039       0.147\n",
      "weekday_mon          0.0984      0.028      3.492      0.001       0.043       0.154\n",
      "weekday_sat         -0.0029      0.014     -0.201      0.841      -0.031       0.025\n",
      "weekday_sun          0.0106      0.015      0.724      0.469      -0.018       0.039\n",
      "weekday_thur        -0.0141      0.014     -0.995      0.320      -0.042       0.014\n",
      "weekday_tue          0.0441      0.028      1.568      0.118      -0.011       0.099\n",
      "weekday_wed         -0.0170      0.014     -1.206      0.228      -0.045       0.011\n",
      "weathersit_misty    -0.0608      0.010     -6.071      0.000      -0.080      -0.041\n",
      "weathersit_rainy    -0.2572      0.026     -9.833      0.000      -0.309      -0.206\n",
      "==============================================================================\n",
      "Omnibus:                       93.511   Durbin-Watson:                   2.060\n",
      "Prob(Omnibus):                  0.000   Jarque-Bera (JB):              286.118\n",
      "Skew:                          -0.804   Prob(JB):                     7.42e-63\n",
      "Kurtosis:                       6.157   Cond. No.                         32.6\n",
      "==============================================================================\n",
      "\n",
      "Notes:\n",
      "[1] Standard Errors assume that the covariance matrix of the errors is correctly specified.\n"
     ]
    },
    {
     "name": "stdout",
     "output_type": "stream",
     "text": [
      "            Features    VIF\n",
      "3                hum  38.50\n",
      "2              atemp  33.75\n",
      "1         workingday  19.90\n",
      "7      season_winter  10.74\n",
      "5      season_spring   9.59\n",
      "6      season_summer   7.68\n",
      "22       weekday_tue   5.90\n",
      "18       weekday_mon   5.85\n",
      "8           mnth_Aug   5.19\n",
      "4          windspeed   5.04\n",
      "16          mnth_Oct   4.82\n",
      "12          mnth_Jul   4.57\n",
      "15          mnth_Nov   4.33\n",
      "17          mnth_Sep   3.72\n",
      "9           mnth_Dec   3.15\n",
      "11          mnth_Jan   2.60\n",
      "13          mnth_Jun   2.50\n",
      "24  weathersit_misty   2.39\n",
      "0                 yr   2.12\n",
      "10          mnth_Feb   2.12\n",
      "14          mnth_May   2.08\n",
      "23       weekday_wed   1.99\n",
      "21      weekday_thur   1.88\n",
      "19       weekday_sat   1.83\n",
      "20       weekday_sun   1.79\n",
      "25  weathersit_rainy   1.31\n",
      "\n",
      "Dropped Features:  ['holiday', 'mnth_Mar', 'weekday_sat'] \n",
      "\n",
      "                            OLS Regression Results                            \n",
      "==============================================================================\n",
      "Dep. Variable:                 demand   R-squared:                       0.854\n",
      "Model:                            OLS   Adj. R-squared:                  0.847\n",
      "Method:                 Least Squares   F-statistic:                     121.9\n",
      "Date:                Mon, 08 Mar 2021   Prob (F-statistic):          2.02e-199\n",
      "Time:                        21:51:55   Log-Likelihood:                 566.48\n",
      "No. Observations:                 547   AIC:                            -1081.\n",
      "Df Residuals:                     521   BIC:                            -969.0\n",
      "Df Model:                          25                                         \n",
      "Covariance Type:            nonrobust                                         \n",
      "====================================================================================\n",
      "                       coef    std err          t      P>|t|      [0.025      0.975]\n",
      "------------------------------------------------------------------------------------\n",
      "const                0.2493      0.047      5.317      0.000       0.157       0.341\n",
      "yr                   0.2326      0.008     30.216      0.000       0.217       0.248\n",
      "workingday           0.0959      0.025      3.904      0.000       0.048       0.144\n",
      "atemp                0.4183      0.043      9.827      0.000       0.335       0.502\n",
      "hum                 -0.1414      0.037     -3.791      0.000      -0.215      -0.068\n",
      "windspeed           -0.1624      0.025     -6.606      0.000      -0.211      -0.114\n",
      "season_spring       -0.0568      0.027     -2.110      0.035      -0.110      -0.004\n",
      "season_summer        0.0363      0.024      1.484      0.138      -0.012       0.084\n",
      "season_winter        0.1103      0.026      4.267      0.000       0.060       0.161\n",
      "mnth_Aug             0.0413      0.030      1.390      0.165      -0.017       0.100\n",
      "mnth_Dec            -0.0615      0.024     -2.588      0.010      -0.108      -0.015\n",
      "mnth_Feb            -0.0380      0.021     -1.843      0.066      -0.079       0.003\n",
      "mnth_Jan            -0.0684      0.021     -3.258      0.001      -0.110      -0.027\n",
      "mnth_Jul            -0.0150      0.031     -0.478      0.633      -0.077       0.047\n",
      "mnth_Jun             0.0300      0.021      1.404      0.161      -0.012       0.072\n",
      "mnth_May             0.0309      0.019      1.645      0.101      -0.006       0.068\n",
      "mnth_Nov            -0.0525      0.029     -1.811      0.071      -0.110       0.004\n",
      "mnth_Oct             0.0072      0.029      0.251      0.802      -0.049       0.063\n",
      "mnth_Sep             0.0933      0.027      3.401      0.001       0.039       0.147\n",
      "weekday_mon          0.0999      0.027      3.687      0.000       0.047       0.153\n",
      "weekday_sun          0.0119      0.013      0.917      0.360      -0.014       0.037\n",
      "weekday_thur        -0.0128      0.013     -1.019      0.308      -0.037       0.012\n",
      "weekday_tue          0.0457      0.027      1.685      0.093      -0.008       0.099\n",
      "weekday_wed         -0.0156      0.012     -1.265      0.206      -0.040       0.009\n",
      "weathersit_misty    -0.0608      0.010     -6.076      0.000      -0.080      -0.041\n",
      "weathersit_rainy    -0.2572      0.026     -9.840      0.000      -0.308      -0.206\n",
      "==============================================================================\n",
      "Omnibus:                       93.784   Durbin-Watson:                   2.059\n",
      "Prob(Omnibus):                  0.000   Jarque-Bera (JB):              287.481\n",
      "Skew:                          -0.806   Prob(JB):                     3.75e-63\n",
      "Kurtosis:                       6.165   Cond. No.                         32.2\n",
      "==============================================================================\n",
      "\n",
      "Notes:\n",
      "[1] Standard Errors assume that the covariance matrix of the errors is correctly specified.\n",
      "            Features    VIF\n",
      "3                hum  38.46\n",
      "2              atemp  33.50\n",
      "1         workingday  19.80\n",
      "7      season_winter  10.71\n",
      "5      season_spring   9.48\n",
      "6      season_summer   7.62\n",
      "21       weekday_tue   5.65\n",
      "18       weekday_mon   5.60\n",
      "8           mnth_Aug   5.18\n",
      "4          windspeed   5.02\n",
      "16          mnth_Oct   4.82\n",
      "12          mnth_Jul   4.57\n",
      "15          mnth_Nov   4.32\n",
      "17          mnth_Sep   3.71\n",
      "9           mnth_Dec   3.14\n",
      "11          mnth_Jan   2.60\n",
      "13          mnth_Jun   2.50\n",
      "23  weathersit_misty   2.39\n",
      "0                 yr   2.12\n",
      "10          mnth_Feb   2.12\n",
      "14          mnth_May   2.08\n",
      "22       weekday_wed   1.58\n",
      "20      weekday_thur   1.50\n",
      "19       weekday_sun   1.45\n",
      "24  weathersit_rainy   1.31\n",
      "\n",
      "Dropped Features:  ['holiday', 'mnth_Mar', 'weekday_sat', 'mnth_Oct'] \n",
      "\n",
      "                            OLS Regression Results                            \n",
      "==============================================================================\n",
      "Dep. Variable:                 demand   R-squared:                       0.854\n",
      "Model:                            OLS   Adj. R-squared:                  0.847\n",
      "Method:                 Least Squares   F-statistic:                     127.2\n",
      "Date:                Mon, 08 Mar 2021   Prob (F-statistic):          1.83e-200\n",
      "Time:                        21:51:55   Log-Likelihood:                 566.45\n",
      "No. Observations:                 547   AIC:                            -1083.\n",
      "Df Residuals:                     522   BIC:                            -975.3\n",
      "Df Model:                          24                                         \n",
      "Covariance Type:            nonrobust                                         \n",
      "====================================================================================\n",
      "                       coef    std err          t      P>|t|      [0.025      0.975]\n",
      "------------------------------------------------------------------------------------\n",
      "const                0.2518      0.046      5.508      0.000       0.162       0.342\n",
      "yr                   0.2326      0.008     30.244      0.000       0.217       0.248\n",
      "workingday           0.0952      0.024      3.902      0.000       0.047       0.143\n",
      "atemp                0.4188      0.042      9.863      0.000       0.335       0.502\n",
      "hum                 -0.1407      0.037     -3.786      0.000      -0.214      -0.068\n",
      "windspeed           -0.1623      0.025     -6.609      0.000      -0.211      -0.114\n",
      "season_spring       -0.0581      0.026     -2.202      0.028      -0.110      -0.006\n",
      "season_summer        0.0340      0.023      1.502      0.134      -0.010       0.079\n",
      "season_winter        0.1132      0.023      4.905      0.000       0.068       0.159\n",
      "mnth_Aug             0.0384      0.027      1.403      0.161      -0.015       0.092\n",
      "mnth_Dec            -0.0656      0.017     -3.810      0.000      -0.099      -0.032\n",
      "mnth_Feb            -0.0393      0.020     -1.973      0.049      -0.079      -0.000\n",
      "mnth_Jan            -0.0697      0.020     -3.421      0.001      -0.110      -0.030\n",
      "mnth_Jul            -0.0179      0.029     -0.614      0.539      -0.075       0.039\n",
      "mnth_Jun             0.0287      0.021      1.385      0.167      -0.012       0.069\n",
      "mnth_May             0.0303      0.019      1.629      0.104      -0.006       0.067\n",
      "mnth_Nov            -0.0582      0.018     -3.184      0.002      -0.094      -0.022\n",
      "mnth_Sep             0.0898      0.023      3.830      0.000       0.044       0.136\n",
      "weekday_mon          0.0993      0.027      3.682      0.000       0.046       0.152\n",
      "weekday_sun          0.0120      0.013      0.924      0.356      -0.013       0.037\n",
      "weekday_thur        -0.0127      0.013     -1.017      0.309      -0.037       0.012\n",
      "weekday_tue          0.0452      0.027      1.673      0.095      -0.008       0.098\n",
      "weekday_wed         -0.0157      0.012     -1.271      0.204      -0.040       0.009\n",
      "weathersit_misty    -0.0608      0.010     -6.082      0.000      -0.080      -0.041\n",
      "weathersit_rainy    -0.2569      0.026     -9.846      0.000      -0.308      -0.206\n",
      "==============================================================================\n",
      "Omnibus:                       92.859   Durbin-Watson:                   2.059\n",
      "Prob(Omnibus):                  0.000   Jarque-Bera (JB):              282.133\n",
      "Skew:                          -0.801   Prob(JB):                     5.44e-62\n",
      "Kurtosis:                       6.133   Cond. No.                         29.5\n",
      "==============================================================================\n",
      "\n",
      "Notes:\n",
      "[1] Standard Errors assume that the covariance matrix of the errors is correctly specified.\n",
      "            Features    VIF\n",
      "3                hum  37.35\n",
      "2              atemp  32.75\n",
      "1         workingday  19.79\n",
      "5      season_spring   9.39\n",
      "7      season_winter   7.59\n",
      "6      season_summer   6.85\n",
      "20       weekday_tue   5.64\n",
      "17       weekday_mon   5.59\n",
      "4          windspeed   4.97\n",
      "8           mnth_Aug   4.57\n",
      "12          mnth_Jul   4.08\n",
      "16          mnth_Sep   2.84\n",
      "11          mnth_Jan   2.50\n",
      "22  weathersit_misty   2.38\n",
      "13          mnth_Jun   2.38\n",
      "0                 yr   2.12\n",
      "14          mnth_May   2.04\n",
      "10          mnth_Feb   2.02\n",
      "15          mnth_Nov   1.79\n",
      "9           mnth_Dec   1.73\n",
      "21       weekday_wed   1.58\n",
      "19      weekday_thur   1.49\n",
      "18       weekday_sun   1.45\n",
      "23  weathersit_rainy   1.31\n",
      "\n",
      "Dropped Features:  ['holiday', 'mnth_Mar', 'weekday_sat', 'mnth_Oct', 'mnth_Jul'] \n",
      "\n",
      "                            OLS Regression Results                            \n",
      "==============================================================================\n",
      "Dep. Variable:                 demand   R-squared:                       0.854\n",
      "Model:                            OLS   Adj. R-squared:                  0.847\n",
      "Method:                 Least Squares   F-statistic:                     132.9\n",
      "Date:                Mon, 08 Mar 2021   Prob (F-statistic):          1.89e-201\n",
      "Time:                        21:51:55   Log-Likelihood:                 566.25\n",
      "No. Observations:                 547   AIC:                            -1084.\n",
      "Df Residuals:                     523   BIC:                            -981.2\n",
      "Df Model:                          23                                         \n",
      "Covariance Type:            nonrobust                                         \n",
      "====================================================================================\n",
      "                       coef    std err          t      P>|t|      [0.025      0.975]\n",
      "------------------------------------------------------------------------------------\n",
      "const                0.2454      0.044      5.517      0.000       0.158       0.333\n",
      "yr                   0.2327      0.008     30.304      0.000       0.218       0.248\n",
      "workingday           0.0946      0.024      3.883      0.000       0.047       0.142\n",
      "atemp                0.4088      0.039     10.439      0.000       0.332       0.486\n",
      "hum                 -0.1384      0.037     -3.746      0.000      -0.211      -0.066\n",
      "windspeed           -0.1614      0.025     -6.587      0.000      -0.210      -0.113\n",
      "season_spring       -0.0488      0.022     -2.263      0.024      -0.091      -0.006\n",
      "season_summer        0.0427      0.018      2.405      0.017       0.008       0.078\n",
      "season_winter        0.1225      0.017      7.002      0.000       0.088       0.157\n",
      "mnth_Aug             0.0515      0.017      2.972      0.003       0.017       0.085\n",
      "mnth_Dec            -0.0660      0.017     -3.844      0.000      -0.100      -0.032\n",
      "mnth_Feb            -0.0402      0.020     -2.024      0.043      -0.079      -0.001\n",
      "mnth_Jan            -0.0713      0.020     -3.538      0.000      -0.111      -0.032\n",
      "mnth_Jun             0.0358      0.017      2.079      0.038       0.002       0.070\n",
      "mnth_May             0.0334      0.018      1.867      0.062      -0.002       0.069\n",
      "mnth_Nov            -0.0581      0.018     -3.181      0.002      -0.094      -0.022\n",
      "mnth_Sep             0.0997      0.017      5.899      0.000       0.067       0.133\n",
      "weekday_mon          0.0983      0.027      3.653      0.000       0.045       0.151\n",
      "weekday_sun          0.0117      0.013      0.902      0.367      -0.014       0.037\n",
      "weekday_thur        -0.0130      0.013     -1.035      0.301      -0.038       0.012\n",
      "weekday_tue          0.0441      0.027      1.640      0.102      -0.009       0.097\n",
      "weekday_wed         -0.0158      0.012     -1.284      0.200      -0.040       0.008\n",
      "weathersit_misty    -0.0611      0.010     -6.123      0.000      -0.081      -0.042\n",
      "weathersit_rainy    -0.2572      0.026     -9.866      0.000      -0.308      -0.206\n",
      "==============================================================================\n",
      "Omnibus:                       93.814   Durbin-Watson:                   2.063\n",
      "Prob(Omnibus):                  0.000   Jarque-Bera (JB):              286.525\n",
      "Skew:                          -0.807   Prob(JB):                     6.05e-63\n",
      "Kurtosis:                       6.157   Cond. No.                         28.7\n",
      "==============================================================================\n",
      "\n",
      "Notes:\n",
      "[1] Standard Errors assume that the covariance matrix of the errors is correctly specified.\n",
      "            Features    VIF\n",
      "3                hum  37.34\n",
      "2              atemp  23.33\n",
      "1         workingday  18.97\n",
      "5      season_spring   6.56\n",
      "19       weekday_tue   5.36\n",
      "16       weekday_mon   5.31\n",
      "4          windspeed   4.97\n",
      "7      season_winter   4.59\n",
      "6      season_summer   4.39\n",
      "11          mnth_Jan   2.41\n",
      "21  weathersit_misty   2.38\n",
      "0                 yr   2.12\n",
      "10          mnth_Feb   1.99\n",
      "8           mnth_Aug   1.93\n",
      "13          mnth_May   1.85\n",
      "14          mnth_Nov   1.78\n",
      "9           mnth_Dec   1.71\n",
      "12          mnth_Jun   1.64\n",
      "20       weekday_wed   1.57\n",
      "15          mnth_Sep   1.56\n",
      "18      weekday_thur   1.49\n",
      "17       weekday_sun   1.44\n",
      "22  weathersit_rainy   1.31\n",
      "\n",
      "Dropped Features:  ['holiday', 'mnth_Mar', 'weekday_sat', 'mnth_Oct', 'mnth_Jul', 'weekday_sun'] \n",
      "\n",
      "                            OLS Regression Results                            \n",
      "==============================================================================\n",
      "Dep. Variable:                 demand   R-squared:                       0.854\n",
      "Model:                            OLS   Adj. R-squared:                  0.847\n",
      "Method:                 Least Squares   F-statistic:                     138.9\n",
      "Date:                Mon, 08 Mar 2021   Prob (F-statistic):          2.38e-202\n",
      "Time:                        21:51:55   Log-Likelihood:                 565.82\n",
      "No. Observations:                 547   AIC:                            -1086.\n",
      "Df Residuals:                     524   BIC:                            -986.6\n",
      "Df Model:                          22                                         \n",
      "Covariance Type:            nonrobust                                         \n",
      "====================================================================================\n",
      "                       coef    std err          t      P>|t|      [0.025      0.975]\n",
      "------------------------------------------------------------------------------------\n",
      "const                0.2512      0.044      5.707      0.000       0.165       0.338\n",
      "yr                   0.2326      0.008     30.297      0.000       0.217       0.248\n",
      "workingday           0.0943      0.024      3.873      0.000       0.046       0.142\n",
      "atemp                0.4075      0.039     10.415      0.000       0.331       0.484\n",
      "hum                 -0.1392      0.037     -3.770      0.000      -0.212      -0.067\n",
      "windspeed           -0.1614      0.024     -6.590      0.000      -0.210      -0.113\n",
      "season_spring       -0.0498      0.022     -2.314      0.021      -0.092      -0.008\n",
      "season_summer        0.0419      0.018      2.364      0.018       0.007       0.077\n",
      "season_winter        0.1218      0.017      6.973      0.000       0.088       0.156\n",
      "mnth_Aug             0.0514      0.017      2.967      0.003       0.017       0.085\n",
      "mnth_Dec            -0.0660      0.017     -3.843      0.000      -0.100      -0.032\n",
      "mnth_Feb            -0.0401      0.020     -2.019      0.044      -0.079      -0.001\n",
      "mnth_Jan            -0.0716      0.020     -3.550      0.000      -0.111      -0.032\n",
      "mnth_Jun             0.0356      0.017      2.069      0.039       0.002       0.069\n",
      "mnth_May             0.0335      0.018      1.873      0.062      -0.002       0.069\n",
      "mnth_Nov            -0.0590      0.018     -3.238      0.001      -0.095      -0.023\n",
      "mnth_Sep             0.0990      0.017      5.862      0.000       0.066       0.132\n",
      "weekday_mon          0.0944      0.027      3.555      0.000       0.042       0.147\n",
      "weekday_thur        -0.0165      0.012     -1.394      0.164      -0.040       0.007\n",
      "weekday_tue          0.0403      0.027      1.516      0.130      -0.012       0.093\n",
      "weekday_wed         -0.0194      0.012     -1.667      0.096      -0.042       0.003\n",
      "weathersit_misty    -0.0606      0.010     -6.081      0.000      -0.080      -0.041\n",
      "weathersit_rainy    -0.2589      0.026     -9.957      0.000      -0.310      -0.208\n",
      "==============================================================================\n",
      "Omnibus:                       92.403   Durbin-Watson:                   2.054\n",
      "Prob(Omnibus):                  0.000   Jarque-Bera (JB):              283.925\n",
      "Skew:                          -0.793   Prob(JB):                     2.22e-62\n",
      "Kurtosis:                       6.153   Cond. No.                         28.3\n",
      "==============================================================================\n",
      "\n",
      "Notes:\n"
     ]
    },
    {
     "name": "stdout",
     "output_type": "stream",
     "text": [
      "[1] Standard Errors assume that the covariance matrix of the errors is correctly specified.\n",
      "            Features    VIF\n",
      "3                hum  37.30\n",
      "2              atemp  23.27\n",
      "1         workingday  18.83\n",
      "5      season_spring   6.56\n",
      "18       weekday_tue   5.31\n",
      "16       weekday_mon   5.26\n",
      "4          windspeed   4.96\n",
      "7      season_winter   4.58\n",
      "6      season_summer   4.39\n",
      "11          mnth_Jan   2.41\n",
      "20  weathersit_misty   2.38\n",
      "0                 yr   2.12\n",
      "10          mnth_Feb   1.99\n",
      "8           mnth_Aug   1.93\n",
      "13          mnth_May   1.85\n",
      "14          mnth_Nov   1.78\n",
      "9           mnth_Dec   1.71\n",
      "12          mnth_Jun   1.64\n",
      "15          mnth_Sep   1.56\n",
      "19       weekday_wed   1.43\n",
      "17      weekday_thur   1.35\n",
      "21  weathersit_rainy   1.30\n",
      "\n",
      "Dropped Features:  ['holiday', 'mnth_Mar', 'weekday_sat', 'mnth_Oct', 'mnth_Jul', 'weekday_sun', 'weekday_thur'] \n",
      "\n",
      "                            OLS Regression Results                            \n",
      "==============================================================================\n",
      "Dep. Variable:                 demand   R-squared:                       0.853\n",
      "Model:                            OLS   Adj. R-squared:                  0.847\n",
      "Method:                 Least Squares   F-statistic:                     145.2\n",
      "Date:                Mon, 08 Mar 2021   Prob (F-statistic):          5.10e-203\n",
      "Time:                        21:51:55   Log-Likelihood:                 564.81\n",
      "No. Observations:                 547   AIC:                            -1086.\n",
      "Df Residuals:                     525   BIC:                            -990.9\n",
      "Df Model:                          21                                         \n",
      "Covariance Type:            nonrobust                                         \n",
      "====================================================================================\n",
      "                       coef    std err          t      P>|t|      [0.025      0.975]\n",
      "------------------------------------------------------------------------------------\n",
      "const                0.2489      0.044      5.653      0.000       0.162       0.335\n",
      "yr                   0.2325      0.008     30.256      0.000       0.217       0.248\n",
      "workingday           0.0944      0.024      3.871      0.000       0.046       0.142\n",
      "atemp                0.4061      0.039     10.373      0.000       0.329       0.483\n",
      "hum                 -0.1411      0.037     -3.819      0.000      -0.214      -0.069\n",
      "windspeed           -0.1622      0.025     -6.617      0.000      -0.210      -0.114\n",
      "season_spring       -0.0493      0.022     -2.289      0.022      -0.092      -0.007\n",
      "season_summer        0.0418      0.018      2.358      0.019       0.007       0.077\n",
      "season_winter        0.1216      0.017      6.951      0.000       0.087       0.156\n",
      "mnth_Aug             0.0522      0.017      3.015      0.003       0.018       0.086\n",
      "mnth_Dec            -0.0657      0.017     -3.822      0.000      -0.099      -0.032\n",
      "mnth_Feb            -0.0412      0.020     -2.073      0.039      -0.080      -0.002\n",
      "mnth_Jan            -0.0720      0.020     -3.568      0.000      -0.112      -0.032\n",
      "mnth_Jun             0.0368      0.017      2.140      0.033       0.003       0.071\n",
      "mnth_May             0.0335      0.018      1.868      0.062      -0.002       0.069\n",
      "mnth_Nov            -0.0590      0.018     -3.234      0.001      -0.095      -0.023\n",
      "mnth_Sep             0.1001      0.017      5.927      0.000       0.067       0.133\n",
      "weekday_mon          0.0985      0.026      3.729      0.000       0.047       0.150\n",
      "weekday_tue          0.0445      0.026      1.684      0.093      -0.007       0.096\n",
      "weekday_wed         -0.0153      0.011     -1.354      0.176      -0.037       0.007\n",
      "weathersit_misty    -0.0603      0.010     -6.050      0.000      -0.080      -0.041\n",
      "weathersit_rainy    -0.2568      0.026     -9.884      0.000      -0.308      -0.206\n",
      "==============================================================================\n",
      "Omnibus:                       92.842   Durbin-Watson:                   2.051\n",
      "Prob(Omnibus):                  0.000   Jarque-Bera (JB):              294.290\n",
      "Skew:                          -0.787   Prob(JB):                     1.25e-64\n",
      "Kurtosis:                       6.231   Cond. No.                         28.2\n",
      "==============================================================================\n",
      "\n",
      "Notes:\n",
      "[1] Standard Errors assume that the covariance matrix of the errors is correctly specified.\n",
      "            Features    VIF\n",
      "3                hum  37.20\n",
      "2              atemp  23.20\n",
      "1         workingday  18.82\n",
      "5      season_spring   6.56\n",
      "17       weekday_tue   5.25\n",
      "16       weekday_mon   5.20\n",
      "4          windspeed   4.96\n",
      "7      season_winter   4.58\n",
      "6      season_summer   4.39\n",
      "11          mnth_Jan   2.40\n",
      "19  weathersit_misty   2.38\n",
      "0                 yr   2.12\n",
      "10          mnth_Feb   1.99\n",
      "8           mnth_Aug   1.93\n",
      "13          mnth_May   1.85\n",
      "14          mnth_Nov   1.78\n",
      "9           mnth_Dec   1.71\n",
      "12          mnth_Jun   1.63\n",
      "15          mnth_Sep   1.56\n",
      "18       weekday_wed   1.33\n",
      "20  weathersit_rainy   1.30\n",
      "\n",
      "Dropped Features:  ['holiday', 'mnth_Mar', 'weekday_sat', 'mnth_Oct', 'mnth_Jul', 'weekday_sun', 'weekday_thur', 'weekday_wed'] \n",
      "\n",
      "                            OLS Regression Results                            \n",
      "==============================================================================\n",
      "Dep. Variable:                 demand   R-squared:                       0.853\n",
      "Model:                            OLS   Adj. R-squared:                  0.847\n",
      "Method:                 Least Squares   F-statistic:                     152.1\n",
      "Date:                Mon, 08 Mar 2021   Prob (F-statistic):          1.01e-203\n",
      "Time:                        21:51:55   Log-Likelihood:                 563.86\n",
      "No. Observations:                 547   AIC:                            -1086.\n",
      "Df Residuals:                     526   BIC:                            -995.3\n",
      "Df Model:                          20                                         \n",
      "Covariance Type:            nonrobust                                         \n",
      "====================================================================================\n",
      "                       coef    std err          t      P>|t|      [0.025      0.975]\n",
      "------------------------------------------------------------------------------------\n",
      "const                0.2376      0.043      5.492      0.000       0.153       0.323\n",
      "yr                   0.2321      0.008     30.205      0.000       0.217       0.247\n",
      "workingday           0.1027      0.024      4.346      0.000       0.056       0.149\n",
      "atemp                0.4082      0.039     10.429      0.000       0.331       0.485\n",
      "hum                 -0.1433      0.037     -3.880      0.000      -0.216      -0.071\n",
      "windspeed           -0.1630      0.025     -6.648      0.000      -0.211      -0.115\n",
      "season_spring       -0.0483      0.022     -2.241      0.025      -0.091      -0.006\n",
      "season_summer        0.0419      0.018      2.364      0.018       0.007       0.077\n",
      "season_winter        0.1216      0.018      6.947      0.000       0.087       0.156\n",
      "mnth_Aug             0.0528      0.017      3.045      0.002       0.019       0.087\n",
      "mnth_Dec            -0.0652      0.017     -3.792      0.000      -0.099      -0.031\n",
      "mnth_Feb            -0.0411      0.020     -2.066      0.039      -0.080      -0.002\n",
      "mnth_Jan            -0.0723      0.020     -3.581      0.000      -0.112      -0.033\n",
      "mnth_Jun             0.0367      0.017      2.131      0.034       0.003       0.071\n",
      "mnth_May             0.0341      0.018      1.903      0.058      -0.001       0.069\n",
      "mnth_Nov            -0.0577      0.018     -3.162      0.002      -0.093      -0.022\n",
      "mnth_Sep             0.1009      0.017      5.978      0.000       0.068       0.134\n",
      "weekday_mon          0.1099      0.025      4.382      0.000       0.061       0.159\n",
      "weekday_tue          0.0559      0.025      2.229      0.026       0.007       0.105\n",
      "weathersit_misty    -0.0601      0.010     -6.025      0.000      -0.080      -0.041\n",
      "weathersit_rainy    -0.2558      0.026     -9.842      0.000      -0.307      -0.205\n",
      "==============================================================================\n",
      "Omnibus:                       91.613   Durbin-Watson:                   2.055\n",
      "Prob(Omnibus):                  0.000   Jarque-Bera (JB):              292.349\n",
      "Skew:                          -0.774   Prob(JB):                     3.29e-64\n",
      "Kurtosis:                       6.230   Cond. No.                         27.5\n",
      "==============================================================================\n",
      "\n",
      "Notes:\n",
      "[1] Standard Errors assume that the covariance matrix of the errors is correctly specified.\n",
      "            Features    VIF\n",
      "3                hum  36.63\n",
      "2              atemp  23.07\n",
      "1         workingday  18.23\n",
      "5      season_spring   6.53\n",
      "4          windspeed   4.91\n",
      "17       weekday_tue   4.89\n",
      "16       weekday_mon   4.85\n",
      "7      season_winter   4.56\n",
      "6      season_summer   4.36\n",
      "11          mnth_Jan   2.39\n",
      "18  weathersit_misty   2.37\n",
      "0                 yr   2.11\n",
      "10          mnth_Feb   1.99\n",
      "8           mnth_Aug   1.93\n",
      "13          mnth_May   1.84\n",
      "14          mnth_Nov   1.78\n",
      "9           mnth_Dec   1.71\n",
      "12          mnth_Jun   1.63\n",
      "15          mnth_Sep   1.56\n",
      "19  weathersit_rainy   1.29\n",
      "\n",
      "Dropped Features:  ['holiday', 'mnth_Mar', 'weekday_sat', 'mnth_Oct', 'mnth_Jul', 'weekday_sun', 'weekday_thur', 'weekday_wed', 'mnth_May'] \n",
      "\n",
      "                            OLS Regression Results                            \n",
      "==============================================================================\n",
      "Dep. Variable:                 demand   R-squared:                       0.852\n",
      "Model:                            OLS   Adj. R-squared:                  0.846\n",
      "Method:                 Least Squares   F-statistic:                     159.1\n",
      "Date:                Mon, 08 Mar 2021   Prob (F-statistic):          4.76e-204\n",
      "Time:                        21:51:55   Log-Likelihood:                 561.98\n",
      "No. Observations:                 547   AIC:                            -1084.\n",
      "Df Residuals:                     527   BIC:                            -997.9\n",
      "Df Model:                          19                                         \n",
      "Covariance Type:            nonrobust                                         \n",
      "====================================================================================\n",
      "                       coef    std err          t      P>|t|      [0.025      0.975]\n",
      "------------------------------------------------------------------------------------\n",
      "const                0.2223      0.043      5.217      0.000       0.139       0.306\n",
      "yr                   0.2311      0.008     30.072      0.000       0.216       0.246\n",
      "workingday           0.1039      0.024      4.390      0.000       0.057       0.150\n",
      "atemp                0.4273      0.038     11.267      0.000       0.353       0.502\n",
      "hum                 -0.1372      0.037     -3.719      0.000      -0.210      -0.065\n",
      "windspeed           -0.1663      0.025     -6.779      0.000      -0.214      -0.118\n",
      "season_spring       -0.0436      0.021     -2.032      0.043      -0.086      -0.001\n",
      "season_summer        0.0574      0.016      3.629      0.000       0.026       0.088\n",
      "season_winter        0.1234      0.018      7.043      0.000       0.089       0.158\n",
      "mnth_Aug             0.0501      0.017      2.894      0.004       0.016       0.084\n",
      "mnth_Dec            -0.0626      0.017     -3.644      0.000      -0.096      -0.029\n",
      "mnth_Feb            -0.0386      0.020     -1.942      0.053      -0.078       0.000\n",
      "mnth_Jan            -0.0687      0.020     -3.411      0.001      -0.108      -0.029\n",
      "mnth_Jun             0.0244      0.016      1.526      0.128      -0.007       0.056\n",
      "mnth_Nov            -0.0549      0.018     -3.011      0.003      -0.091      -0.019\n",
      "mnth_Sep             0.0992      0.017      5.870      0.000       0.066       0.132\n",
      "weekday_mon          0.1105      0.025      4.398      0.000       0.061       0.160\n",
      "weekday_tue          0.0572      0.025      2.274      0.023       0.008       0.107\n",
      "weathersit_misty    -0.0604      0.010     -6.044      0.000      -0.080      -0.041\n",
      "weathersit_rainy    -0.2581      0.026     -9.917      0.000      -0.309      -0.207\n",
      "==============================================================================\n",
      "Omnibus:                       87.870   Durbin-Watson:                   2.060\n",
      "Prob(Omnibus):                  0.000   Jarque-Bera (JB):              258.020\n",
      "Skew:                          -0.768   Prob(JB):                     9.37e-57\n",
      "Kurtosis:                       5.993   Cond. No.                         26.7\n",
      "==============================================================================\n",
      "\n",
      "Notes:\n",
      "[1] Standard Errors assume that the covariance matrix of the errors is correctly specified.\n",
      "            Features    VIF\n",
      "3                hum  36.62\n",
      "2              atemp  22.25\n",
      "1         workingday  18.08\n",
      "5      season_spring   6.53\n",
      "16       weekday_tue   4.86\n",
      "4          windspeed   4.81\n",
      "15       weekday_mon   4.80\n",
      "7      season_winter   4.55\n",
      "6      season_summer   3.57\n",
      "11          mnth_Jan   2.39\n",
      "17  weathersit_misty   2.37\n",
      "0                 yr   2.10\n",
      "10          mnth_Feb   1.98\n",
      "8           mnth_Aug   1.90\n",
      "13          mnth_Nov   1.78\n",
      "9           mnth_Dec   1.71\n",
      "14          mnth_Sep   1.54\n",
      "12          mnth_Jun   1.41\n",
      "18  weathersit_rainy   1.29\n",
      "\n",
      "Dropped Features:  ['holiday', 'mnth_Mar', 'weekday_sat', 'mnth_Oct', 'mnth_Jul', 'weekday_sun', 'weekday_thur', 'weekday_wed', 'mnth_May', 'mnth_Jun'] \n",
      "\n",
      "                            OLS Regression Results                            \n",
      "==============================================================================\n",
      "Dep. Variable:                 demand   R-squared:                       0.851\n",
      "Model:                            OLS   Adj. R-squared:                  0.846\n",
      "Method:                 Least Squares   F-statistic:                     167.4\n",
      "Date:                Mon, 08 Mar 2021   Prob (F-statistic):          1.15e-204\n",
      "Time:                        21:51:55   Log-Likelihood:                 560.77\n",
      "No. Observations:                 547   AIC:                            -1084.\n",
      "Df Residuals:                     528   BIC:                            -1002.\n",
      "Df Model:                          18                                         \n",
      "Covariance Type:            nonrobust                                         \n",
      "====================================================================================\n",
      "                       coef    std err          t      P>|t|      [0.025      0.975]\n",
      "------------------------------------------------------------------------------------\n",
      "const                0.2206      0.043      5.171      0.000       0.137       0.304\n",
      "yr                   0.2307      0.008     30.002      0.000       0.216       0.246\n",
      "workingday           0.1046      0.024      4.413      0.000       0.058       0.151\n",
      "atemp                0.4434      0.036     12.155      0.000       0.372       0.515\n",
      "hum                 -0.1455      0.037     -3.984      0.000      -0.217      -0.074\n",
      "windspeed           -0.1684      0.025     -6.868      0.000      -0.217      -0.120\n",
      "season_spring       -0.0434      0.021     -2.023      0.044      -0.086      -0.001\n",
      "season_summer        0.0605      0.016      3.850      0.000       0.030       0.091\n",
      "season_winter        0.1226      0.018      6.995      0.000       0.088       0.157\n",
      "mnth_Aug             0.0452      0.017      2.652      0.008       0.012       0.079\n",
      "mnth_Dec            -0.0604      0.017     -3.523      0.000      -0.094      -0.027\n",
      "mnth_Feb            -0.0367      0.020     -1.848      0.065      -0.076       0.002\n",
      "mnth_Jan            -0.0655      0.020     -3.265      0.001      -0.105      -0.026\n",
      "mnth_Nov            -0.0533      0.018     -2.928      0.004      -0.089      -0.018\n",
      "mnth_Sep             0.0961      0.017      5.721      0.000       0.063       0.129\n",
      "weekday_mon          0.1115      0.025      4.430      0.000       0.062       0.161\n",
      "weekday_tue          0.0584      0.025      2.320      0.021       0.009       0.108\n",
      "weathersit_misty    -0.0597      0.010     -5.971      0.000      -0.079      -0.040\n",
      "weathersit_rainy    -0.2565      0.026     -9.851      0.000      -0.308      -0.205\n",
      "==============================================================================\n",
      "Omnibus:                       87.660   Durbin-Watson:                   2.062\n",
      "Prob(Omnibus):                  0.000   Jarque-Bera (JB):              252.640\n",
      "Skew:                          -0.773   Prob(JB):                     1.38e-55\n",
      "Kurtosis:                       5.949   Cond. No.                         26.6\n",
      "==============================================================================\n",
      "\n",
      "Notes:\n"
     ]
    },
    {
     "name": "stdout",
     "output_type": "stream",
     "text": [
      "[1] Standard Errors assume that the covariance matrix of the errors is correctly specified.\n",
      "            Features    VIF\n",
      "3                hum  35.56\n",
      "2              atemp  20.10\n",
      "1         workingday  18.08\n",
      "5      season_spring   6.52\n",
      "15       weekday_tue   4.85\n",
      "4          windspeed   4.79\n",
      "14       weekday_mon   4.79\n",
      "7      season_winter   4.55\n",
      "6      season_summer   3.51\n",
      "11          mnth_Jan   2.36\n",
      "16  weathersit_misty   2.36\n",
      "0                 yr   2.09\n",
      "10          mnth_Feb   1.98\n",
      "8           mnth_Aug   1.83\n",
      "12          mnth_Nov   1.78\n",
      "9           mnth_Dec   1.70\n",
      "13          mnth_Sep   1.52\n",
      "17  weathersit_rainy   1.29\n",
      "\n",
      "Dropped Features:  ['holiday', 'mnth_Mar', 'weekday_sat', 'mnth_Oct', 'mnth_Jul', 'weekday_sun', 'weekday_thur', 'weekday_wed', 'mnth_May', 'mnth_Jun', 'mnth_Feb'] \n",
      "\n",
      "                            OLS Regression Results                            \n",
      "==============================================================================\n",
      "Dep. Variable:                 demand   R-squared:                       0.850\n",
      "Model:                            OLS   Adj. R-squared:                  0.845\n",
      "Method:                 Least Squares   F-statistic:                     176.3\n",
      "Date:                Mon, 08 Mar 2021   Prob (F-statistic):          4.64e-205\n",
      "Time:                        21:51:55   Log-Likelihood:                 559.01\n",
      "No. Observations:                 547   AIC:                            -1082.\n",
      "Df Residuals:                     529   BIC:                            -1005.\n",
      "Df Model:                          17                                         \n",
      "Covariance Type:            nonrobust                                         \n",
      "====================================================================================\n",
      "                       coef    std err          t      P>|t|      [0.025      0.975]\n",
      "------------------------------------------------------------------------------------\n",
      "const                0.2082      0.042      4.931      0.000       0.125       0.291\n",
      "yr                   0.2300      0.008     29.879      0.000       0.215       0.245\n",
      "workingday           0.1060      0.024      4.467      0.000       0.059       0.153\n",
      "atemp                0.4594      0.036     12.933      0.000       0.390       0.529\n",
      "hum                 -0.1486      0.037     -4.063      0.000      -0.220      -0.077\n",
      "windspeed           -0.1670      0.025     -6.799      0.000      -0.215      -0.119\n",
      "season_spring       -0.0541      0.021     -2.609      0.009      -0.095      -0.013\n",
      "season_summer        0.0640      0.016      4.099      0.000       0.033       0.095\n",
      "season_winter        0.1241      0.018      7.072      0.000       0.090       0.159\n",
      "mnth_Aug             0.0461      0.017      2.705      0.007       0.013       0.080\n",
      "mnth_Dec            -0.0500      0.016     -3.079      0.002      -0.082      -0.018\n",
      "mnth_Jan            -0.0455      0.017     -2.688      0.007      -0.079      -0.012\n",
      "mnth_Nov            -0.0482      0.018     -2.671      0.008      -0.084      -0.013\n",
      "mnth_Sep             0.0982      0.017      5.847      0.000       0.065       0.131\n",
      "weekday_mon          0.1131      0.025      4.487      0.000       0.064       0.163\n",
      "weekday_tue          0.0595      0.025      2.360      0.019       0.010       0.109\n",
      "weathersit_misty    -0.0595      0.010     -5.940      0.000      -0.079      -0.040\n",
      "weathersit_rainy    -0.2546      0.026     -9.764      0.000      -0.306      -0.203\n",
      "==============================================================================\n",
      "Omnibus:                       81.401   Durbin-Watson:                   2.061\n",
      "Prob(Omnibus):                  0.000   Jarque-Bera (JB):              235.710\n",
      "Skew:                          -0.716   Prob(JB):                     6.55e-52\n",
      "Kurtosis:                       5.879   Cond. No.                         26.2\n",
      "==============================================================================\n",
      "\n",
      "Notes:\n",
      "[1] Standard Errors assume that the covariance matrix of the errors is correctly specified.\n",
      "            Features    VIF\n",
      "3                hum  35.09\n",
      "2              atemp  19.42\n",
      "1         workingday  18.00\n",
      "5      season_spring   5.53\n",
      "14       weekday_tue   4.83\n",
      "13       weekday_mon   4.78\n",
      "4          windspeed   4.78\n",
      "7      season_winter   4.55\n",
      "6      season_summer   3.49\n",
      "15  weathersit_misty   2.36\n",
      "0                 yr   2.09\n",
      "8           mnth_Aug   1.83\n",
      "11          mnth_Nov   1.75\n",
      "10          mnth_Jan   1.72\n",
      "9           mnth_Dec   1.54\n",
      "12          mnth_Sep   1.52\n",
      "16  weathersit_rainy   1.28\n",
      "\n",
      "There were a total of  11  features dropped\n",
      "\n"
     ]
    }
   ],
   "source": [
    "#choose the most insignificant feature\n",
    "unwanted_feature = lr_model.pvalues[round(lr_model.pvalues,3)>0.05].sort_values(ascending=False).head(1).index\n",
    "#declare an empty list so that we can print the list of features dropped in the loop\n",
    "features = []\n",
    "#Assign to a new variable so that the original train dataset is not touched\n",
    "X_train_1 = X_train\n",
    "\n",
    "#As long as there are insignificant features loop and drop these features\n",
    "while(unwanted_feature.any()):\n",
    "    #lets drop the unwanted feature\n",
    "    features.append(unwanted_feature.any())\n",
    "    print('\\nDropped Features: ',features,'\\n')\n",
    "    #Drop the deature from the train dataframe and overwrite it back on the same dataframe\n",
    "    X_train_1 = X_train_1.drop(unwanted_feature,1)\n",
    "    \n",
    "    #Let's take a look at the stats again\n",
    "    #Call function to print OLS Summary and create OLS object\n",
    "    lr_model = get_stats(X_train_1,y_train)\n",
    "\n",
    "    #Call function to calculate VIF and print the same\n",
    "    get_VIF(X_train_1)\n",
    "    \n",
    "    #choose the most insignificant feature post dropping\n",
    "    unwanted_feature = lr_model.pvalues[round(lr_model.pvalues,3)>0.05].sort_values(ascending=False).head(1).index\n",
    "\n",
    "\n",
    "print('\\nThere were a total of ',len(features),' features dropped\\n')"
   ]
  },
  {
   "cell_type": "markdown",
   "metadata": {},
   "source": [
    "Upon deleting the 11 predictor variables we are left with only 17 predictor variables which are pretty significant as the P-Value is less than 5% for these variables. Coming to VIF values, the VIF values of the features - hum, workingday, atemp are still high indicating that these are redundant variables and that most of the data contained by these columns are already being represented by other variables in the DF. These also need to be removed one after the other. \n",
    "The reason for the features one after the other is that removal of each feature will have impact on stats of the other."
   ]
  },
  {
   "cell_type": "code",
   "execution_count": 36,
   "metadata": {
    "scrolled": true
   },
   "outputs": [
    {
     "name": "stdout",
     "output_type": "stream",
     "text": [
      "                            OLS Regression Results                            \n",
      "==============================================================================\n",
      "Dep. Variable:                 demand   R-squared:                       0.845\n",
      "Model:                            OLS   Adj. R-squared:                  0.841\n",
      "Method:                 Least Squares   F-statistic:                     180.9\n",
      "Date:                Mon, 08 Mar 2021   Prob (F-statistic):          1.11e-202\n",
      "Time:                        21:51:55   Log-Likelihood:                 550.60\n",
      "No. Observations:                 547   AIC:                            -1067.\n",
      "Df Residuals:                     530   BIC:                            -994.0\n",
      "Df Model:                          16                                         \n",
      "Covariance Type:            nonrobust                                         \n",
      "====================================================================================\n",
      "                       coef    std err          t      P>|t|      [0.025      0.975]\n",
      "------------------------------------------------------------------------------------\n",
      "const                0.1410      0.039      3.578      0.000       0.064       0.218\n",
      "yr                   0.2339      0.008     30.182      0.000       0.219       0.249\n",
      "workingday           0.1063      0.024      4.413      0.000       0.059       0.154\n",
      "atemp                0.4218      0.035     12.123      0.000       0.353       0.490\n",
      "windspeed           -0.1418      0.024     -5.882      0.000      -0.189      -0.094\n",
      "season_spring       -0.0647      0.021     -3.101      0.002      -0.106      -0.024\n",
      "season_summer        0.0554      0.016      3.529      0.000       0.025       0.086\n",
      "season_winter        0.1096      0.017      6.284      0.000       0.075       0.144\n",
      "mnth_Aug             0.0407      0.017      2.361      0.019       0.007       0.075\n",
      "mnth_Dec            -0.0571      0.016     -3.491      0.001      -0.089      -0.025\n",
      "mnth_Jan            -0.0516      0.017     -3.013      0.003      -0.085      -0.018\n",
      "mnth_Nov            -0.0499      0.018     -2.726      0.007      -0.086      -0.014\n",
      "mnth_Sep             0.0890      0.017      5.272      0.000       0.056       0.122\n",
      "weekday_mon          0.1150      0.026      4.498      0.000       0.065       0.165\n",
      "weekday_tue          0.0575      0.026      2.248      0.025       0.007       0.108\n",
      "weathersit_misty    -0.0832      0.008    -10.060      0.000      -0.099      -0.067\n",
      "weathersit_rainy    -0.2970      0.024    -12.241      0.000      -0.345      -0.249\n",
      "==============================================================================\n",
      "Omnibus:                       84.078   Durbin-Watson:                   2.062\n",
      "Prob(Omnibus):                  0.000   Jarque-Bera (JB):              243.762\n",
      "Skew:                          -0.739   Prob(JB):                     1.17e-53\n",
      "Kurtosis:                       5.917   Cond. No.                         24.0\n",
      "==============================================================================\n",
      "\n",
      "Notes:\n",
      "[1] Standard Errors assume that the covariance matrix of the errors is correctly specified.\n",
      "            Features    VIF\n",
      "1         workingday  16.53\n",
      "2              atemp  12.46\n",
      "3          windspeed   4.70\n",
      "4      season_spring   4.51\n",
      "12       weekday_mon   4.48\n",
      "13       weekday_tue   4.42\n",
      "6      season_winter   3.79\n",
      "5      season_summer   3.07\n",
      "0                 yr   2.07\n",
      "7           mnth_Aug   1.78\n",
      "10          mnth_Nov   1.72\n",
      "9           mnth_Jan   1.66\n",
      "14  weathersit_misty   1.61\n",
      "8           mnth_Dec   1.47\n",
      "11          mnth_Sep   1.43\n",
      "15  weathersit_rainy   1.09\n"
     ]
    }
   ],
   "source": [
    "#Lets drop the features one by one to see if it affects the VIF of the remaining features\n",
    "X_train_2 = X_train_1.drop('hum',1)\n",
    "\n",
    "#Call function to print OLS Summary and create OLS object\n",
    "get_stats(X_train_2,y_train)\n",
    "\n",
    "#Call function to calculate VIF and print the same\n",
    "get_VIF(X_train_2)"
   ]
  },
  {
   "cell_type": "code",
   "execution_count": 37,
   "metadata": {
    "scrolled": true
   },
   "outputs": [
    {
     "name": "stdout",
     "output_type": "stream",
     "text": [
      "                            OLS Regression Results                            \n",
      "==============================================================================\n",
      "Dep. Variable:                 demand   R-squared:                       0.840\n",
      "Model:                            OLS   Adj. R-squared:                  0.835\n",
      "Method:                 Least Squares   F-statistic:                     185.3\n",
      "Date:                Mon, 08 Mar 2021   Prob (F-statistic):          1.08e-199\n",
      "Time:                        21:51:55   Log-Likelihood:                 540.74\n",
      "No. Observations:                 547   AIC:                            -1049.\n",
      "Df Residuals:                     531   BIC:                            -980.6\n",
      "Df Model:                          15                                         \n",
      "Covariance Type:            nonrobust                                         \n",
      "====================================================================================\n",
      "                       coef    std err          t      P>|t|      [0.025      0.975]\n",
      "------------------------------------------------------------------------------------\n",
      "const                0.2470      0.032      7.772      0.000       0.185       0.309\n",
      "yr                   0.2336      0.008     29.634      0.000       0.218       0.249\n",
      "atemp                0.4205      0.035     11.882      0.000       0.351       0.490\n",
      "windspeed           -0.1453      0.025     -5.929      0.000      -0.194      -0.097\n",
      "season_spring       -0.0685      0.021     -3.229      0.001      -0.110      -0.027\n",
      "season_summer        0.0551      0.016      3.453      0.001       0.024       0.087\n",
      "season_winter        0.1098      0.018      6.192      0.000       0.075       0.145\n",
      "mnth_Aug             0.0414      0.018      2.358      0.019       0.007       0.076\n",
      "mnth_Dec            -0.0606      0.017     -3.646      0.000      -0.093      -0.028\n",
      "mnth_Jan            -0.0544      0.017     -3.127      0.002      -0.089      -0.020\n",
      "mnth_Nov            -0.0594      0.018     -3.215      0.001      -0.096      -0.023\n",
      "mnth_Sep             0.0843      0.017      4.919      0.000       0.051       0.118\n",
      "weekday_mon          0.0130      0.011      1.169      0.243      -0.009       0.035\n",
      "weekday_tue         -0.0445      0.011     -4.002      0.000      -0.066      -0.023\n",
      "weathersit_misty    -0.0818      0.008     -9.725      0.000      -0.098      -0.065\n",
      "weathersit_rainy    -0.2932      0.025    -11.888      0.000      -0.342      -0.245\n",
      "==============================================================================\n",
      "Omnibus:                       98.131   Durbin-Watson:                   2.011\n",
      "Prob(Omnibus):                  0.000   Jarque-Bera (JB):              291.477\n",
      "Skew:                          -0.854   Prob(JB):                     5.09e-64\n",
      "Kurtosis:                       6.142   Cond. No.                         19.5\n",
      "==============================================================================\n",
      "\n",
      "Notes:\n",
      "[1] Standard Errors assume that the covariance matrix of the errors is correctly specified.\n",
      "            Features   VIF\n",
      "1              atemp  5.24\n",
      "2          windspeed  4.53\n",
      "3      season_spring  3.04\n",
      "5      season_winter  3.03\n",
      "4      season_summer  2.48\n",
      "0                 yr  2.06\n",
      "6           mnth_Aug  1.71\n",
      "9           mnth_Nov  1.71\n",
      "8           mnth_Jan  1.62\n",
      "13  weathersit_misty  1.60\n",
      "7           mnth_Dec  1.43\n",
      "10          mnth_Sep  1.40\n",
      "11       weekday_mon  1.22\n",
      "12       weekday_tue  1.22\n",
      "14  weathersit_rainy  1.08\n"
     ]
    }
   ],
   "source": [
    "#Lets drop the features one by one to see if it affects the VIF of the remaining features\n",
    "X_train_3 = X_train_2.drop('workingday',1)\n",
    "\n",
    "#Call function to print OLS Summary and create OLS object\n",
    "get_stats(X_train_3,y_train)\n",
    "\n",
    "#Call function to calculate VIF and print the same\n",
    "get_VIF(X_train_3)"
   ]
  },
  {
   "cell_type": "markdown",
   "metadata": {},
   "source": [
    "We observe tht upon dropping the workingday column, the p value of weekday_mon shot up to 0.256 which is much greater than the permissible limit - 0.05. Hence let's go ahead and drop that too"
   ]
  },
  {
   "cell_type": "code",
   "execution_count": 38,
   "metadata": {
    "scrolled": true
   },
   "outputs": [
    {
     "name": "stdout",
     "output_type": "stream",
     "text": [
      "                            OLS Regression Results                            \n",
      "==============================================================================\n",
      "Dep. Variable:                 demand   R-squared:                       0.839\n",
      "Model:                            OLS   Adj. R-squared:                  0.835\n",
      "Method:                 Least Squares   F-statistic:                     198.3\n",
      "Date:                Mon, 08 Mar 2021   Prob (F-statistic):          1.49e-200\n",
      "Time:                        21:51:55   Log-Likelihood:                 540.03\n",
      "No. Observations:                 547   AIC:                            -1050.\n",
      "Df Residuals:                     532   BIC:                            -985.5\n",
      "Df Model:                          14                                         \n",
      "Covariance Type:            nonrobust                                         \n",
      "====================================================================================\n",
      "                       coef    std err          t      P>|t|      [0.025      0.975]\n",
      "------------------------------------------------------------------------------------\n",
      "const                0.2498      0.032      7.881      0.000       0.188       0.312\n",
      "yr                   0.2334      0.008     29.605      0.000       0.218       0.249\n",
      "atemp                0.4192      0.035     11.846      0.000       0.350       0.489\n",
      "windspeed           -0.1439      0.024     -5.875      0.000      -0.192      -0.096\n",
      "season_spring       -0.0688      0.021     -3.244      0.001      -0.110      -0.027\n",
      "season_summer        0.0548      0.016      3.429      0.001       0.023       0.086\n",
      "season_winter        0.1100      0.018      6.200      0.000       0.075       0.145\n",
      "mnth_Aug             0.0416      0.018      2.370      0.018       0.007       0.076\n",
      "mnth_Dec            -0.0605      0.017     -3.639      0.000      -0.093      -0.028\n",
      "mnth_Jan            -0.0545      0.017     -3.133      0.002      -0.089      -0.020\n",
      "mnth_Nov            -0.0602      0.018     -3.256      0.001      -0.096      -0.024\n",
      "mnth_Sep             0.0844      0.017      4.923      0.000       0.051       0.118\n",
      "weekday_tue         -0.0468      0.011     -4.277      0.000      -0.068      -0.025\n",
      "weathersit_misty    -0.0818      0.008     -9.723      0.000      -0.098      -0.065\n",
      "weathersit_rainy    -0.2931      0.025    -11.880      0.000      -0.342      -0.245\n",
      "==============================================================================\n",
      "Omnibus:                       95.340   Durbin-Watson:                   2.012\n",
      "Prob(Omnibus):                  0.000   Jarque-Bera (JB):              291.470\n",
      "Skew:                          -0.820   Prob(JB):                     5.11e-64\n",
      "Kurtosis:                       6.178   Cond. No.                         19.3\n",
      "==============================================================================\n",
      "\n",
      "Notes:\n",
      "[1] Standard Errors assume that the covariance matrix of the errors is correctly specified.\n",
      "            Features   VIF\n",
      "1              atemp  5.21\n",
      "2          windspeed  4.50\n",
      "3      season_spring  3.03\n",
      "5      season_winter  3.01\n",
      "4      season_summer  2.47\n",
      "0                 yr  2.06\n",
      "6           mnth_Aug  1.71\n",
      "9           mnth_Nov  1.71\n",
      "8           mnth_Jan  1.62\n",
      "12  weathersit_misty  1.60\n",
      "7           mnth_Dec  1.43\n",
      "10          mnth_Sep  1.40\n",
      "11       weekday_tue  1.18\n",
      "13  weathersit_rainy  1.08\n"
     ]
    }
   ],
   "source": [
    "#We observe tht upon dropping the workingday column, the p value of weekday_mon shot up to 0.256\n",
    "#which is much greater than the permissible limit - 0.05. Hence let's go ahead and drop that too\n",
    "X_train_4 = X_train_3.drop('weekday_mon',1)\n",
    "\n",
    "#Call function to print OLS Summary and create OLS object\n",
    "get_stats(X_train_4,y_train)\n",
    "\n",
    "#Call function to calculate VIF and print the same\n",
    "get_VIF(X_train_4)"
   ]
  },
  {
   "cell_type": "markdown",
   "metadata": {},
   "source": [
    "Now because atemp has VIF grater than our threshold, let's go ahead and drop and see its effect on the stats"
   ]
  },
  {
   "cell_type": "code",
   "execution_count": 39,
   "metadata": {
    "scrolled": true
   },
   "outputs": [
    {
     "name": "stdout",
     "output_type": "stream",
     "text": [
      "                            OLS Regression Results                            \n",
      "==============================================================================\n",
      "Dep. Variable:                 demand   R-squared:                       0.797\n",
      "Model:                            OLS   Adj. R-squared:                  0.792\n",
      "Method:                 Least Squares   F-statistic:                     160.7\n",
      "Date:                Mon, 08 Mar 2021   Prob (F-statistic):          9.39e-175\n",
      "Time:                        21:51:55   Log-Likelihood:                 476.00\n",
      "No. Observations:                 547   AIC:                            -924.0\n",
      "Df Residuals:                     533   BIC:                            -863.7\n",
      "Df Model:                          13                                         \n",
      "Covariance Type:            nonrobust                                         \n",
      "====================================================================================\n",
      "                       coef    std err          t      P>|t|      [0.025      0.975]\n",
      "------------------------------------------------------------------------------------\n",
      "const                0.5842      0.016     36.019      0.000       0.552       0.616\n",
      "yr                   0.2424      0.009     27.508      0.000       0.225       0.260\n",
      "windspeed           -0.1899      0.027     -6.990      0.000      -0.243      -0.137\n",
      "season_spring       -0.2384      0.018    -13.568      0.000      -0.273      -0.204\n",
      "season_summer       -0.0258      0.016     -1.587      0.113      -0.058       0.006\n",
      "season_winter        0.0090      0.017      0.513      0.608      -0.025       0.043\n",
      "mnth_Aug             0.0302      0.020      1.533      0.126      -0.009       0.069\n",
      "mnth_Dec            -0.1207      0.018     -6.782      0.000      -0.156      -0.086\n",
      "mnth_Jan            -0.1186      0.019     -6.385      0.000      -0.155      -0.082\n",
      "mnth_Nov            -0.1180      0.020     -5.893      0.000      -0.157      -0.079\n",
      "mnth_Sep             0.0619      0.019      3.231      0.001       0.024       0.099\n",
      "weekday_tue         -0.0494      0.012     -4.014      0.000      -0.074      -0.025\n",
      "weathersit_misty    -0.0872      0.009     -9.246      0.000      -0.106      -0.069\n",
      "weathersit_rainy    -0.3172      0.028    -11.485      0.000      -0.371      -0.263\n",
      "==============================================================================\n",
      "Omnibus:                       75.913   Durbin-Watson:                   1.949\n",
      "Prob(Omnibus):                  0.000   Jarque-Bera (JB):              210.417\n",
      "Skew:                          -0.682   Prob(JB):                     2.03e-46\n",
      "Kurtosis:                       5.715   Cond. No.                         10.2\n",
      "==============================================================================\n",
      "\n",
      "Notes:\n",
      "[1] Standard Errors assume that the covariance matrix of the errors is correctly specified.\n",
      "            Features   VIF\n",
      "1          windspeed  3.92\n",
      "2      season_spring  3.02\n",
      "4      season_winter  2.84\n",
      "3      season_summer  2.12\n",
      "0                 yr  1.89\n",
      "8           mnth_Nov  1.70\n",
      "7           mnth_Jan  1.60\n",
      "11  weathersit_misty  1.59\n",
      "6           mnth_Dec  1.43\n",
      "5           mnth_Aug  1.31\n",
      "9           mnth_Sep  1.20\n",
      "10       weekday_tue  1.16\n",
      "12  weathersit_rainy  1.08\n"
     ]
    }
   ],
   "source": [
    "#lets drop the feature with high VIF value\n",
    "X_train_5 = X_train_4.drop('atemp',1)\n",
    "\n",
    "#Call function to print OLS Summary and create OLS object\n",
    "get_stats(X_train_5,y_train)\n",
    "\n",
    "#Call function to calculate VIF and print the same\n",
    "get_VIF(X_train_5)"
   ]
  },
  {
   "cell_type": "markdown",
   "metadata": {},
   "source": [
    "From the above stats it is pretty clear that dropping atemp is a bad decision. Hence let's reduce the threshold of the p-value to 0.005 and drop cloumns that have p-value greater than 0.5%. The reason for doing this is to prevent the model to be too complex with too many variables.\n",
    "mnth_Aug has a p-value of 0.018 which is greater than our new threshold only for this scenario. Let's go ahead and drop the same."
   ]
  },
  {
   "cell_type": "code",
   "execution_count": 40,
   "metadata": {
    "scrolled": true
   },
   "outputs": [
    {
     "name": "stdout",
     "output_type": "stream",
     "text": [
      "                            OLS Regression Results                            \n",
      "==============================================================================\n",
      "Dep. Variable:                 demand   R-squared:                       0.837\n",
      "Model:                            OLS   Adj. R-squared:                  0.833\n",
      "Method:                 Least Squares   F-statistic:                     211.2\n",
      "Date:                Mon, 08 Mar 2021   Prob (F-statistic):          1.62e-200\n",
      "Time:                        21:51:55   Log-Likelihood:                 537.16\n",
      "No. Observations:                 547   AIC:                            -1046.\n",
      "Df Residuals:                     533   BIC:                            -986.1\n",
      "Df Model:                          13                                         \n",
      "Covariance Type:            nonrobust                                         \n",
      "====================================================================================\n",
      "                       coef    std err          t      P>|t|      [0.025      0.975]\n",
      "------------------------------------------------------------------------------------\n",
      "const                0.2723      0.030      8.962      0.000       0.213       0.332\n",
      "yr                   0.2339      0.008     29.547      0.000       0.218       0.249\n",
      "atemp                0.4146      0.035     11.683      0.000       0.345       0.484\n",
      "windspeed           -0.1450      0.025     -5.895      0.000      -0.193      -0.097\n",
      "season_spring       -0.0895      0.019     -4.607      0.000      -0.128      -0.051\n",
      "season_summer        0.0346      0.014      2.549      0.011       0.008       0.061\n",
      "season_winter        0.0920      0.016      5.713      0.000       0.060       0.124\n",
      "mnth_Dec            -0.0629      0.017     -3.773      0.000      -0.096      -0.030\n",
      "mnth_Jan            -0.0558      0.017     -3.197      0.001      -0.090      -0.022\n",
      "mnth_Nov            -0.0630      0.019     -3.401      0.001      -0.099      -0.027\n",
      "mnth_Sep             0.0686      0.016      4.325      0.000       0.037       0.100\n",
      "weekday_tue         -0.0477      0.011     -4.337      0.000      -0.069      -0.026\n",
      "weathersit_misty    -0.0801      0.008     -9.514      0.000      -0.097      -0.064\n",
      "weathersit_rainy    -0.2954      0.025    -11.931      0.000      -0.344      -0.247\n",
      "==============================================================================\n",
      "Omnibus:                       99.695   Durbin-Watson:                   2.033\n",
      "Prob(Omnibus):                  0.000   Jarque-Bera (JB):              304.291\n",
      "Skew:                          -0.858   Prob(JB):                     8.40e-67\n",
      "Kurtosis:                       6.226   Cond. No.                         18.6\n",
      "==============================================================================\n",
      "\n",
      "Notes:\n",
      "[1] Standard Errors assume that the covariance matrix of the errors is correctly specified.\n",
      "            Features   VIF\n",
      "2          windspeed  4.46\n",
      "1              atemp  3.98\n",
      "3      season_spring  2.76\n",
      "5      season_winter  2.69\n",
      "0                 yr  2.06\n",
      "4      season_summer  1.94\n",
      "8           mnth_Nov  1.71\n",
      "7           mnth_Jan  1.61\n",
      "11  weathersit_misty  1.58\n",
      "6           mnth_Dec  1.43\n",
      "9           mnth_Sep  1.25\n",
      "10       weekday_tue  1.18\n",
      "12  weathersit_rainy  1.08\n"
     ]
    }
   ],
   "source": [
    "#Drop feature with p-value greater than 0.005\n",
    "X_train_5 = X_train_4.drop('mnth_Aug',1)\n",
    "\n",
    "#Call function to print OLS Summary and create OLS object\n",
    "get_stats(X_train_5,y_train)\n",
    "\n",
    "#Call function to calculate VIF and print the same\n",
    "get_VIF(X_train_5)"
   ]
  },
  {
   "cell_type": "code",
   "execution_count": 41,
   "metadata": {
    "scrolled": true
   },
   "outputs": [
    {
     "name": "stdout",
     "output_type": "stream",
     "text": [
      "                            OLS Regression Results                            \n",
      "==============================================================================\n",
      "Dep. Variable:                 demand   R-squared:                       0.835\n",
      "Model:                            OLS   Adj. R-squared:                  0.832\n",
      "Method:                 Least Squares   F-statistic:                     226.0\n",
      "Date:                Mon, 08 Mar 2021   Prob (F-statistic):          2.63e-200\n",
      "Time:                        21:51:56   Log-Likelihood:                 533.85\n",
      "No. Observations:                 547   AIC:                            -1042.\n",
      "Df Residuals:                     534   BIC:                            -985.7\n",
      "Df Model:                          12                                         \n",
      "Covariance Type:            nonrobust                                         \n",
      "====================================================================================\n",
      "                       coef    std err          t      P>|t|      [0.025      0.975]\n",
      "------------------------------------------------------------------------------------\n",
      "const                0.3174      0.025     12.779      0.000       0.269       0.366\n",
      "yr                   0.2343      0.008     29.464      0.000       0.219       0.250\n",
      "atemp                0.3722      0.032     11.815      0.000       0.310       0.434\n",
      "windspeed           -0.1414      0.025     -5.730      0.000      -0.190      -0.093\n",
      "season_spring       -0.1213      0.015     -8.122      0.000      -0.151      -0.092\n",
      "season_winter        0.0692      0.013      5.140      0.000       0.043       0.096\n",
      "mnth_Dec            -0.0698      0.017     -4.219      0.000      -0.102      -0.037\n",
      "mnth_Jan            -0.0622      0.017     -3.582      0.000      -0.096      -0.028\n",
      "mnth_Nov            -0.0706      0.018     -3.842      0.000      -0.107      -0.034\n",
      "mnth_Sep             0.0553      0.015      3.671      0.000       0.026       0.085\n",
      "weekday_tue         -0.0476      0.011     -4.312      0.000      -0.069      -0.026\n",
      "weathersit_misty    -0.0787      0.008     -9.326      0.000      -0.095      -0.062\n",
      "weathersit_rainy    -0.2983      0.025    -12.001      0.000      -0.347      -0.249\n",
      "==============================================================================\n",
      "Omnibus:                      100.920   Durbin-Watson:                   2.013\n",
      "Prob(Omnibus):                  0.000   Jarque-Bera (JB):              311.506\n",
      "Skew:                          -0.865   Prob(JB):                     2.28e-68\n",
      "Kurtosis:                       6.267   Cond. No.                         15.1\n",
      "==============================================================================\n",
      "\n",
      "Notes:\n",
      "[1] Standard Errors assume that the covariance matrix of the errors is correctly specified.\n",
      "            Features   VIF\n",
      "2          windspeed  3.91\n",
      "1              atemp  3.82\n",
      "4      season_winter  2.41\n",
      "3      season_spring  2.35\n",
      "0                 yr  2.05\n",
      "7           mnth_Nov  1.71\n",
      "6           mnth_Jan  1.61\n",
      "10  weathersit_misty  1.53\n",
      "5           mnth_Dec  1.43\n",
      "9        weekday_tue  1.18\n",
      "8           mnth_Sep  1.17\n",
      "11  weathersit_rainy  1.08\n"
     ]
    }
   ],
   "source": [
    "#Drop feature with p-value greater than 0.005\n",
    "X_train_6 = X_train_5.drop('season_summer',1)\n",
    "\n",
    "#Call function to print OLS Summary and create OLS object\n",
    "lr_model = get_stats(X_train_6,y_train)\n",
    "\n",
    "#Call function to calculate VIF and print the same\n",
    "get_VIF(X_train_6)"
   ]
  },
  {
   "cell_type": "markdown",
   "metadata": {},
   "source": [
    "We are left with 12 predictor variables but in order to avoid making the interpretation too complex, let filter down the variables to 10 variables. Let's find the variable with higherst P vaue out of the 12 variables to identify the most insignificant vaiable out the remaining 12 and then drop it and run the OLS"
   ]
  },
  {
   "cell_type": "code",
   "execution_count": 42,
   "metadata": {},
   "outputs": [
    {
     "data": {
      "text/plain": [
       "mnth_Jan    0.000372\n",
       "dtype: float64"
      ]
     },
     "execution_count": 42,
     "metadata": {},
     "output_type": "execute_result"
    }
   ],
   "source": [
    "lr_model.pvalues[lr_model.pvalues>0].sort_values(ascending=False).head(1)"
   ]
  },
  {
   "cell_type": "code",
   "execution_count": 43,
   "metadata": {
    "scrolled": true
   },
   "outputs": [
    {
     "name": "stdout",
     "output_type": "stream",
     "text": [
      "                            OLS Regression Results                            \n",
      "==============================================================================\n",
      "Dep. Variable:                 demand   R-squared:                       0.832\n",
      "Model:                            OLS   Adj. R-squared:                  0.828\n",
      "Method:                 Least Squares   F-statistic:                     240.0\n",
      "Date:                Mon, 08 Mar 2021   Prob (F-statistic):          9.19e-199\n",
      "Time:                        21:51:56   Log-Likelihood:                 527.35\n",
      "No. Observations:                 547   AIC:                            -1031.\n",
      "Df Residuals:                     535   BIC:                            -979.0\n",
      "Df Model:                          11                                         \n",
      "Covariance Type:            nonrobust                                         \n",
      "====================================================================================\n",
      "                       coef    std err          t      P>|t|      [0.025      0.975]\n",
      "------------------------------------------------------------------------------------\n",
      "const                0.2930      0.024     12.133      0.000       0.246       0.340\n",
      "yr                   0.2337      0.008     29.074      0.000       0.218       0.250\n",
      "atemp                0.4035      0.031     13.185      0.000       0.343       0.464\n",
      "windspeed           -0.1289      0.025     -5.218      0.000      -0.177      -0.080\n",
      "season_spring       -0.1337      0.015     -9.095      0.000      -0.163      -0.105\n",
      "season_winter        0.0704      0.014      5.173      0.000       0.044       0.097\n",
      "mnth_Dec            -0.0553      0.016     -3.412      0.001      -0.087      -0.023\n",
      "mnth_Nov            -0.0634      0.018     -3.434      0.001      -0.100      -0.027\n",
      "mnth_Sep             0.0557      0.015      3.659      0.000       0.026       0.086\n",
      "weekday_tue         -0.0464      0.011     -4.160      0.000      -0.068      -0.025\n",
      "weathersit_misty    -0.0794      0.009     -9.301      0.000      -0.096      -0.063\n",
      "weathersit_rainy    -0.2943      0.025    -11.722      0.000      -0.344      -0.245\n",
      "==============================================================================\n",
      "Omnibus:                       95.059   Durbin-Watson:                   2.019\n",
      "Prob(Omnibus):                  0.000   Jarque-Bera (JB):              288.057\n",
      "Skew:                          -0.821   Prob(JB):                     2.81e-63\n",
      "Kurtosis:                       6.154   Cond. No.                         14.5\n",
      "==============================================================================\n",
      "\n",
      "Notes:\n",
      "[1] Standard Errors assume that the covariance matrix of the errors is correctly specified.\n",
      "            Features   VIF\n",
      "2          windspeed  3.91\n",
      "1              atemp  3.80\n",
      "4      season_winter  2.39\n",
      "0                 yr  2.05\n",
      "3      season_spring  1.73\n",
      "6           mnth_Nov  1.71\n",
      "9   weathersit_misty  1.52\n",
      "5           mnth_Dec  1.38\n",
      "8        weekday_tue  1.18\n",
      "7           mnth_Sep  1.17\n",
      "10  weathersit_rainy  1.08\n"
     ]
    }
   ],
   "source": [
    "#Drop most insignificant feature\n",
    "X_train_7 = X_train_6.drop('mnth_Jan',1)\n",
    "\n",
    "#Call function to print OLS Summary and create OLS object\n",
    "lr_model = get_stats(X_train_7,y_train)\n",
    "\n",
    "#Call function to calculate VIF and print the same\n",
    "get_VIF(X_train_7)"
   ]
  },
  {
   "cell_type": "markdown",
   "metadata": {},
   "source": [
    "Let's repeat the process 1 last time to finally narrow down to 10 predictor variables"
   ]
  },
  {
   "cell_type": "code",
   "execution_count": 44,
   "metadata": {},
   "outputs": [
    {
     "data": {
      "text/plain": [
       "mnth_Dec    0.000693\n",
       "dtype: float64"
      ]
     },
     "execution_count": 44,
     "metadata": {},
     "output_type": "execute_result"
    }
   ],
   "source": [
    "lr_model.pvalues[lr_model.pvalues>0].sort_values(ascending=False).head(1)"
   ]
  },
  {
   "cell_type": "code",
   "execution_count": 45,
   "metadata": {
    "scrolled": false
   },
   "outputs": [
    {
     "name": "stdout",
     "output_type": "stream",
     "text": [
      "                            OLS Regression Results                            \n",
      "==============================================================================\n",
      "Dep. Variable:                 demand   R-squared:                       0.828\n",
      "Model:                            OLS   Adj. R-squared:                  0.825\n",
      "Method:                 Least Squares   F-statistic:                     257.8\n",
      "Date:                Mon, 08 Mar 2021   Prob (F-statistic):          1.73e-197\n",
      "Time:                        21:51:56   Log-Likelihood:                 521.46\n",
      "No. Observations:                 547   AIC:                            -1021.\n",
      "Df Residuals:                     536   BIC:                            -973.6\n",
      "Df Model:                          10                                         \n",
      "Covariance Type:            nonrobust                                         \n",
      "====================================================================================\n",
      "                       coef    std err          t      P>|t|      [0.025      0.975]\n",
      "------------------------------------------------------------------------------------\n",
      "const                0.2752      0.024     11.557      0.000       0.228       0.322\n",
      "yr                   0.2338      0.008     28.799      0.000       0.218       0.250\n",
      "atemp                0.4251      0.030     14.060      0.000       0.366       0.484\n",
      "windspeed           -0.1210      0.025     -4.872      0.000      -0.170      -0.072\n",
      "season_spring       -0.1322      0.015     -8.910      0.000      -0.161      -0.103\n",
      "season_winter        0.0552      0.013      4.250      0.000       0.030       0.081\n",
      "mnth_Nov            -0.0419      0.018     -2.393      0.017      -0.076      -0.008\n",
      "mnth_Sep             0.0598      0.015      3.906      0.000       0.030       0.090\n",
      "weekday_tue         -0.0456      0.011     -4.043      0.000      -0.068      -0.023\n",
      "weathersit_misty    -0.0783      0.009     -9.097      0.000      -0.095      -0.061\n",
      "weathersit_rainy    -0.2888      0.025    -11.415      0.000      -0.339      -0.239\n",
      "==============================================================================\n",
      "Omnibus:                       86.097   Durbin-Watson:                   2.042\n",
      "Prob(Omnibus):                  0.000   Jarque-Bera (JB):              236.647\n",
      "Skew:                          -0.775   Prob(JB):                     4.10e-52\n",
      "Kurtosis:                       5.825   Cond. No.                         14.1\n",
      "==============================================================================\n",
      "\n",
      "Notes:\n",
      "[1] Standard Errors assume that the covariance matrix of the errors is correctly specified.\n",
      "           Features   VIF\n",
      "2         windspeed  3.91\n",
      "1             atemp  3.80\n",
      "0                yr  2.05\n",
      "4     season_winter  1.88\n",
      "3     season_spring  1.67\n",
      "5          mnth_Nov  1.54\n",
      "8  weathersit_misty  1.52\n",
      "7       weekday_tue  1.18\n",
      "6          mnth_Sep  1.16\n",
      "9  weathersit_rainy  1.08\n"
     ]
    }
   ],
   "source": [
    "#Drop most insignificant feature\n",
    "X_train_man = X_train_7.drop('mnth_Dec',1)\n",
    "\n",
    "#Call function to print OLS Summary and create OLS object\n",
    "lr_model_man = get_stats(X_train_man,y_train)\n",
    "\n",
    "#Call function to calculate VIF and print the same\n",
    "get_VIF(X_train_man)"
   ]
  },
  {
   "cell_type": "markdown",
   "metadata": {},
   "source": [
    "<b>Inference:</b><br>\n",
    "lr_model_man is the optimum linear regression model obtained as part of Manual Feature Elimination approach with X_train_man consiting of 10 independent predictor variables and y_train consisting of 1 target variable\n",
    "* <b> R2 of lr_model_man train model => 0.828</b>\n",
    "* <b> Adj. R2 of lr_model_man train model => 0.825</b>"
   ]
  },
  {
   "cell_type": "markdown",
   "metadata": {},
   "source": [
    "<b>Approach 2: Automated</b><br>\n",
    "As observed above, the manual approach is time consuming and it required us to manually iterate through the filtering process to narrow down to our 10 variables. There are different ways to automate this process. Let's look at one such approach called RFE"
   ]
  },
  {
   "cell_type": "code",
   "execution_count": 46,
   "metadata": {},
   "outputs": [],
   "source": [
    "# Importing RFE and LinearRegression\n",
    "from sklearn.feature_selection import RFE\n",
    "from sklearn.linear_model import LinearRegression"
   ]
  },
  {
   "cell_type": "markdown",
   "metadata": {},
   "source": [
    "Let's build an automated model on all the 28 predictor variables using sklearn library's linear_model package. Then let's run the RFE on this model and observe the 12 columns selected by the RFE algorithm"
   ]
  },
  {
   "cell_type": "code",
   "execution_count": 47,
   "metadata": {},
   "outputs": [],
   "source": [
    "#Build a linear regression model on X_train and Y_train data\n",
    "lm = LinearRegression()\n",
    "lm.fit(X_train, y_train)\n",
    "\n",
    "# Running RFE with the output number of the variable equal to 10\n",
    "rfe = RFE(lm, 10)             \n",
    "rfe = rfe.fit(X_train, y_train)"
   ]
  },
  {
   "cell_type": "code",
   "execution_count": 48,
   "metadata": {
    "scrolled": true
   },
   "outputs": [
    {
     "data": {
      "text/plain": [
       "[('yr', True, 1),\n",
       " ('holiday', True, 1),\n",
       " ('workingday', True, 1),\n",
       " ('atemp', True, 1),\n",
       " ('hum', True, 1),\n",
       " ('windspeed', True, 1),\n",
       " ('season_spring', False, 6),\n",
       " ('season_summer', False, 3),\n",
       " ('season_winter', True, 1),\n",
       " ('mnth_Aug', False, 4),\n",
       " ('mnth_Dec', False, 8),\n",
       " ('mnth_Feb', False, 10),\n",
       " ('mnth_Jan', False, 9),\n",
       " ('mnth_Jul', False, 13),\n",
       " ('mnth_Jun', False, 11),\n",
       " ('mnth_Mar', False, 19),\n",
       " ('mnth_May', False, 12),\n",
       " ('mnth_Nov', False, 7),\n",
       " ('mnth_Oct', False, 17),\n",
       " ('mnth_Sep', False, 2),\n",
       " ('weekday_mon', True, 1),\n",
       " ('weekday_sat', False, 18),\n",
       " ('weekday_sun', False, 16),\n",
       " ('weekday_thur', False, 15),\n",
       " ('weekday_tue', True, 1),\n",
       " ('weekday_wed', False, 14),\n",
       " ('weathersit_misty', False, 5),\n",
       " ('weathersit_rainy', True, 1)]"
      ]
     },
     "execution_count": 48,
     "metadata": {},
     "output_type": "execute_result"
    }
   ],
   "source": [
    "#look at the ranking provided to predictor variables by RFE algorithm\n",
    "list(zip(X_train.columns,rfe.support_,rfe.ranking_))"
   ]
  },
  {
   "cell_type": "code",
   "execution_count": 49,
   "metadata": {},
   "outputs": [
    {
     "data": {
      "text/plain": [
       "Index(['yr', 'holiday', 'workingday', 'atemp', 'hum', 'windspeed',\n",
       "       'season_winter', 'weekday_mon', 'weekday_tue', 'weathersit_rainy'],\n",
       "      dtype='object')"
      ]
     },
     "execution_count": 49,
     "metadata": {},
     "output_type": "execute_result"
    }
   ],
   "source": [
    "#let's look at the 12 columns filtered by RFE algorithm\n",
    "sel_col = X_train.columns[rfe.support_]\n",
    "sel_col"
   ]
  },
  {
   "cell_type": "code",
   "execution_count": 50,
   "metadata": {},
   "outputs": [],
   "source": [
    "# Creating X_train_rfe dataframe with RFE selected variables\n",
    "X_train_rfe = X_train[sel_col]"
   ]
  },
  {
   "cell_type": "code",
   "execution_count": 51,
   "metadata": {
    "scrolled": false
   },
   "outputs": [
    {
     "name": "stdout",
     "output_type": "stream",
     "text": [
      "                            OLS Regression Results                            \n",
      "==============================================================================\n",
      "Dep. Variable:                 demand   R-squared:                       0.801\n",
      "Model:                            OLS   Adj. R-squared:                  0.798\n",
      "Method:                 Least Squares   F-statistic:                     240.8\n",
      "Date:                Mon, 08 Mar 2021   Prob (F-statistic):          4.23e-182\n",
      "Time:                        21:51:56   Log-Likelihood:                 482.35\n",
      "No. Observations:                 547   AIC:                            -944.7\n",
      "Df Residuals:                     537   BIC:                            -901.6\n",
      "Df Model:                           9                                         \n",
      "Covariance Type:            nonrobust                                         \n",
      "====================================================================================\n",
      "                       coef    std err          t      P>|t|      [0.025      0.975]\n",
      "------------------------------------------------------------------------------------\n",
      "const                0.1702      0.022      7.664      0.000       0.127       0.214\n",
      "yr                   0.2244      0.009     25.692      0.000       0.207       0.242\n",
      "holiday             -0.0344      0.022     -1.583      0.114      -0.077       0.008\n",
      "workingday           0.0809      0.009      8.604      0.000       0.062       0.099\n",
      "atemp                0.6783      0.022     30.997      0.000       0.635       0.721\n",
      "hum                 -0.2491      0.033     -7.519      0.000      -0.314      -0.184\n",
      "windspeed           -0.1657      0.027     -6.060      0.000      -0.219      -0.112\n",
      "season_winter        0.1167      0.011     11.045      0.000       0.096       0.137\n",
      "weekday_mon          0.0869      0.012      7.295      0.000       0.063       0.110\n",
      "weekday_tue          0.0369      0.012      3.090      0.002       0.013       0.060\n",
      "weathersit_rainy    -0.1960      0.028     -7.055      0.000      -0.251      -0.141\n",
      "==============================================================================\n",
      "Omnibus:                       48.101   Durbin-Watson:                   2.022\n",
      "Prob(Omnibus):                  0.000   Jarque-Bera (JB):              110.449\n",
      "Skew:                          -0.481   Prob(JB):                     1.04e-24\n",
      "Kurtosis:                       4.980   Cond. No.                     2.17e+15\n",
      "==============================================================================\n",
      "\n",
      "Notes:\n",
      "[1] Standard Errors assume that the covariance matrix of the errors is correctly specified.\n",
      "[2] The smallest eigenvalue is 3.11e-28. This might indicate that there are\n",
      "strong multicollinearity problems or that the design matrix is singular.\n"
     ]
    }
   ],
   "source": [
    "#Let's look at the Stats to check the R-square and adj. R-square values\n",
    "lr_model_auto = get_stats(X_train_rfe,y_train)"
   ]
  },
  {
   "cell_type": "markdown",
   "metadata": {},
   "source": [
    "<b>Inference</b><br>\n",
    "lr_model_auto is the linear regression model obtained as part of auto feature selection approach with X_train_rfe consiting of 10 independent predictor variables and y_train consisting of 1 target variable. But as noticed above, the model is not very optimum as there is multicollinearity and insignificant predictor variables like holiday which have high VIF and P values. Hence the next approach should be the best approach for building linear regression model.\n",
    "* <b> R2 of lr_model_man train model => 0.801</b>\n",
    "* <b> Adj. R2 of lr_model_man train model => 0.798</b>"
   ]
  },
  {
   "cell_type": "markdown",
   "metadata": {},
   "source": [
    "<b>Approach 3: Balanced</b><br>\n",
    "\n",
    "<b>Steps Involved:</b><br>\n",
    "\n",
    "1. Filtering Feature using Automated process : RFE(REcursive Feature Eliminator) \n",
    "2. Build/Fit a model for the train data by Backward selection\n",
    "3. Analyse the stats and drop features that are least helpful in prediction: High P value of Coeff\n",
    "4. Drop features that are redundant: High VIF value\n",
    "5. Repeat till best fit model is obtained for train data"
   ]
  },
  {
   "cell_type": "code",
   "execution_count": 52,
   "metadata": {},
   "outputs": [],
   "source": [
    "#Build a linear regression model on X_train and Y_train data\n",
    "lm = LinearRegression()\n",
    "lm.fit(X_train, y_train)\n",
    "\n",
    "# Running RFE with the output number of the variable equal to 15\n",
    "rfe = RFE(lm, 15)             \n",
    "rfe = rfe.fit(X_train, y_train)"
   ]
  },
  {
   "cell_type": "code",
   "execution_count": 53,
   "metadata": {
    "scrolled": false
   },
   "outputs": [
    {
     "data": {
      "text/plain": [
       "[('yr', True, 1),\n",
       " ('holiday', True, 1),\n",
       " ('workingday', True, 1),\n",
       " ('atemp', True, 1),\n",
       " ('hum', True, 1),\n",
       " ('windspeed', True, 1),\n",
       " ('season_spring', True, 1),\n",
       " ('season_summer', True, 1),\n",
       " ('season_winter', True, 1),\n",
       " ('mnth_Aug', True, 1),\n",
       " ('mnth_Dec', False, 3),\n",
       " ('mnth_Feb', False, 5),\n",
       " ('mnth_Jan', False, 4),\n",
       " ('mnth_Jul', False, 8),\n",
       " ('mnth_Jun', False, 6),\n",
       " ('mnth_Mar', False, 14),\n",
       " ('mnth_May', False, 7),\n",
       " ('mnth_Nov', False, 2),\n",
       " ('mnth_Oct', False, 12),\n",
       " ('mnth_Sep', True, 1),\n",
       " ('weekday_mon', True, 1),\n",
       " ('weekday_sat', False, 13),\n",
       " ('weekday_sun', False, 11),\n",
       " ('weekday_thur', False, 10),\n",
       " ('weekday_tue', True, 1),\n",
       " ('weekday_wed', False, 9),\n",
       " ('weathersit_misty', True, 1),\n",
       " ('weathersit_rainy', True, 1)]"
      ]
     },
     "execution_count": 53,
     "metadata": {},
     "output_type": "execute_result"
    }
   ],
   "source": [
    "#observe the RFE ranking\n",
    "list(zip(X_train.columns,rfe.support_,rfe.ranking_))"
   ]
  },
  {
   "cell_type": "code",
   "execution_count": 54,
   "metadata": {},
   "outputs": [
    {
     "data": {
      "text/plain": [
       "Index(['yr', 'holiday', 'workingday', 'atemp', 'hum', 'windspeed',\n",
       "       'season_spring', 'season_summer', 'season_winter', 'mnth_Aug',\n",
       "       'mnth_Sep', 'weekday_mon', 'weekday_tue', 'weathersit_misty',\n",
       "       'weathersit_rainy'],\n",
       "      dtype='object')"
      ]
     },
     "execution_count": 54,
     "metadata": {},
     "output_type": "execute_result"
    }
   ],
   "source": [
    "#let's look at the columns selected by RFE\n",
    "sel_col = X_train.columns[rfe.support_]\n",
    "sel_col"
   ]
  },
  {
   "cell_type": "code",
   "execution_count": 55,
   "metadata": {},
   "outputs": [],
   "source": [
    "# Creating X_train_auto dataframe with RFE selected variables\n",
    "X_train_auto = X_train[sel_col]"
   ]
  },
  {
   "cell_type": "markdown",
   "metadata": {},
   "source": [
    "Now that we have narrowed down the predictor variables from 28 to 15 using the RFE algorithm, let's now manually filter and remove the insignificant predictor variables (variables with p-value>0.050) and the redundant predictor variables (variables with VIF > 5). Let's start by looking at the OLS stats for the model with 15 variables filtered."
   ]
  },
  {
   "cell_type": "code",
   "execution_count": 56,
   "metadata": {
    "scrolled": true
   },
   "outputs": [
    {
     "name": "stdout",
     "output_type": "stream",
     "text": [
      "                            OLS Regression Results                            \n",
      "==============================================================================\n",
      "Dep. Variable:                 demand   R-squared:                       0.846\n",
      "Model:                            OLS   Adj. R-squared:                  0.841\n",
      "Method:                 Least Squares   F-statistic:                     208.0\n",
      "Date:                Mon, 08 Mar 2021   Prob (F-statistic):          3.45e-205\n",
      "Time:                        21:51:56   Log-Likelihood:                 551.05\n",
      "No. Observations:                 547   AIC:                            -1072.\n",
      "Df Residuals:                     532   BIC:                            -1008.\n",
      "Df Model:                          14                                         \n",
      "Covariance Type:            nonrobust                                         \n",
      "====================================================================================\n",
      "                       coef    std err          t      P>|t|      [0.025      0.975]\n",
      "------------------------------------------------------------------------------------\n",
      "const                0.1867      0.027      6.888      0.000       0.133       0.240\n",
      "yr                   0.2292      0.008     29.453      0.000       0.214       0.245\n",
      "holiday             -0.0299      0.020     -1.492      0.136      -0.069       0.009\n",
      "workingday           0.0848      0.009      8.970      0.000       0.066       0.103\n",
      "atemp                0.5191      0.032     15.975      0.000       0.455       0.583\n",
      "hum                 -0.1639      0.037     -4.465      0.000      -0.236      -0.092\n",
      "windspeed           -0.1579      0.025     -6.405      0.000      -0.206      -0.109\n",
      "season_spring       -0.0450      0.020     -2.193      0.029      -0.085      -0.005\n",
      "season_summer        0.0785      0.015      5.107      0.000       0.048       0.109\n",
      "season_winter        0.1185      0.017      6.927      0.000       0.085       0.152\n",
      "mnth_Aug             0.0515      0.017      2.992      0.003       0.018       0.085\n",
      "mnth_Sep             0.1104      0.017      6.623      0.000       0.078       0.143\n",
      "weekday_mon          0.0920      0.011      8.066      0.000       0.070       0.114\n",
      "weekday_tue          0.0398      0.012      3.432      0.001       0.017       0.063\n",
      "weathersit_misty    -0.0569      0.010     -5.625      0.000      -0.077      -0.037\n",
      "weathersit_rainy    -0.2412      0.026     -9.223      0.000      -0.293      -0.190\n",
      "==============================================================================\n",
      "Omnibus:                       67.100   Durbin-Watson:                   2.078\n",
      "Prob(Omnibus):                  0.000   Jarque-Bera (JB):              182.881\n",
      "Skew:                          -0.607   Prob(JB):                     1.94e-40\n",
      "Kurtosis:                       5.559   Cond. No.                     2.29e+15\n",
      "==============================================================================\n",
      "\n",
      "Notes:\n",
      "[1] Standard Errors assume that the covariance matrix of the errors is correctly specified.\n",
      "[2] The smallest eigenvalue is 3.06e-28. This might indicate that there are\n",
      "strong multicollinearity problems or that the design matrix is singular.\n",
      "            Features    VIF\n",
      "2         workingday  51.41\n",
      "12       weekday_tue  12.47\n",
      "11       weekday_mon  12.24\n",
      "6      season_spring   5.48\n",
      "8      season_winter   3.69\n",
      "3              atemp   3.22\n",
      "1            holiday   3.07\n",
      "7      season_summer   2.98\n",
      "4                hum   1.91\n",
      "9           mnth_Aug   1.70\n",
      "13  weathersit_misty   1.58\n",
      "10          mnth_Sep   1.40\n",
      "14  weathersit_rainy   1.24\n",
      "5          windspeed   1.18\n",
      "0                 yr   1.03\n"
     ]
    }
   ],
   "source": [
    "#Call function to print OLS Summary and create OLS object/model\n",
    "lr_model_bal = get_stats(X_train_auto,y_train)\n",
    "\n",
    "#Call function to calculate VIF and print the same\n",
    "get_VIF(X_train_auto)"
   ]
  },
  {
   "cell_type": "markdown",
   "metadata": {},
   "source": [
    "We can see that variable 'holiday' has p-value greater than our threshold. Let's go ahead and drop this variable to see the OLS stats again"
   ]
  },
  {
   "cell_type": "code",
   "execution_count": 57,
   "metadata": {
    "scrolled": true
   },
   "outputs": [
    {
     "name": "stdout",
     "output_type": "stream",
     "text": [
      "                            OLS Regression Results                            \n",
      "==============================================================================\n",
      "Dep. Variable:                 demand   R-squared:                       0.846\n",
      "Model:                            OLS   Adj. R-squared:                  0.841\n",
      "Method:                 Least Squares   F-statistic:                     208.0\n",
      "Date:                Mon, 08 Mar 2021   Prob (F-statistic):          3.45e-205\n",
      "Time:                        21:51:56   Log-Likelihood:                 551.05\n",
      "No. Observations:                 547   AIC:                            -1072.\n",
      "Df Residuals:                     532   BIC:                            -1008.\n",
      "Df Model:                          14                                         \n",
      "Covariance Type:            nonrobust                                         \n",
      "====================================================================================\n",
      "                       coef    std err          t      P>|t|      [0.025      0.975]\n",
      "------------------------------------------------------------------------------------\n",
      "const                0.1568      0.041      3.867      0.000       0.077       0.236\n",
      "yr                   0.2292      0.008     29.453      0.000       0.214       0.245\n",
      "workingday           0.1146      0.024      4.807      0.000       0.068       0.161\n",
      "atemp                0.5191      0.032     15.975      0.000       0.455       0.583\n",
      "hum                 -0.1639      0.037     -4.465      0.000      -0.236      -0.092\n",
      "windspeed           -0.1579      0.025     -6.405      0.000      -0.206      -0.109\n",
      "season_spring       -0.0450      0.020     -2.193      0.029      -0.085      -0.005\n",
      "season_summer        0.0785      0.015      5.107      0.000       0.048       0.109\n",
      "season_winter        0.1185      0.017      6.927      0.000       0.085       0.152\n",
      "mnth_Aug             0.0515      0.017      2.992      0.003       0.018       0.085\n",
      "mnth_Sep             0.1104      0.017      6.623      0.000       0.078       0.143\n",
      "weekday_mon          0.1218      0.025      4.814      0.000       0.072       0.172\n",
      "weekday_tue          0.0697      0.025      2.754      0.006       0.020       0.119\n",
      "weathersit_misty    -0.0569      0.010     -5.625      0.000      -0.077      -0.037\n",
      "weathersit_rainy    -0.2412      0.026     -9.223      0.000      -0.293      -0.190\n",
      "==============================================================================\n",
      "Omnibus:                       67.100   Durbin-Watson:                   2.078\n",
      "Prob(Omnibus):                  0.000   Jarque-Bera (JB):              182.881\n",
      "Skew:                          -0.607   Prob(JB):                     1.94e-40\n",
      "Kurtosis:                       5.559   Cond. No.                         24.8\n",
      "==============================================================================\n",
      "\n",
      "Notes:\n",
      "[1] Standard Errors assume that the covariance matrix of the errors is correctly specified.\n",
      "            Features    VIF\n",
      "3                hum  32.67\n",
      "1         workingday  17.76\n",
      "2              atemp  17.28\n",
      "5      season_spring   5.29\n",
      "11       weekday_tue   4.79\n",
      "4          windspeed   4.72\n",
      "10       weekday_mon   4.71\n",
      "7      season_winter   3.94\n",
      "6      season_summer   3.44\n",
      "12  weathersit_misty   2.32\n",
      "0                 yr   2.08\n",
      "8           mnth_Aug   1.83\n",
      "9           mnth_Sep   1.48\n",
      "13  weathersit_rainy   1.25\n"
     ]
    }
   ],
   "source": [
    "#drop the insignificant feature\n",
    "X_train_fil = X_train_auto.drop('holiday',1)\n",
    "\n",
    "#Call function to print OLS Summary and create OLS object/model\n",
    "lr_model_bal = get_stats(X_train_fil,y_train)\n",
    "\n",
    "#Call function to calculate VIF and print the same\n",
    "get_VIF(X_train_fil)"
   ]
  },
  {
   "cell_type": "markdown",
   "metadata": {},
   "source": [
    "Let's go ahead and drop the variable with high VIF i.e., largest VIF value that is greater than our threshold - 5"
   ]
  },
  {
   "cell_type": "code",
   "execution_count": 58,
   "metadata": {
    "scrolled": true
   },
   "outputs": [
    {
     "name": "stdout",
     "output_type": "stream",
     "text": [
      "                            OLS Regression Results                            \n",
      "==============================================================================\n",
      "Dep. Variable:                 demand   R-squared:                       0.840\n",
      "Model:                            OLS   Adj. R-squared:                  0.836\n",
      "Method:                 Least Squares   F-statistic:                     214.8\n",
      "Date:                Mon, 08 Mar 2021   Prob (F-statistic):          3.94e-202\n",
      "Time:                        21:51:56   Log-Likelihood:                 540.99\n",
      "No. Observations:                 547   AIC:                            -1054.\n",
      "Df Residuals:                     533   BIC:                            -993.7\n",
      "Df Model:                          13                                         \n",
      "Covariance Type:            nonrobust                                         \n",
      "====================================================================================\n",
      "                       coef    std err          t      P>|t|      [0.025      0.975]\n",
      "------------------------------------------------------------------------------------\n",
      "const                0.0760      0.037      2.059      0.040       0.003       0.149\n",
      "yr                   0.2334      0.008     29.690      0.000       0.218       0.249\n",
      "workingday           0.1154      0.024      4.755      0.000       0.068       0.163\n",
      "atemp                0.4845      0.032     15.088      0.000       0.421       0.548\n",
      "windspeed           -0.1280      0.024     -5.302      0.000      -0.175      -0.081\n",
      "season_spring       -0.0565      0.021     -2.730      0.007      -0.097      -0.016\n",
      "season_summer        0.0705      0.016      4.539      0.000       0.040       0.101\n",
      "season_winter        0.1024      0.017      6.016      0.000       0.069       0.136\n",
      "mnth_Aug             0.0460      0.017      2.636      0.009       0.012       0.080\n",
      "mnth_Sep             0.1014      0.017      6.021      0.000       0.068       0.134\n",
      "weekday_mon          0.1243      0.026      4.830      0.000       0.074       0.175\n",
      "weekday_tue          0.0681      0.026      2.646      0.008       0.018       0.119\n",
      "weathersit_misty    -0.0831      0.008     -9.911      0.000      -0.100      -0.067\n",
      "weathersit_rainy    -0.2869      0.025    -11.708      0.000      -0.335      -0.239\n",
      "==============================================================================\n",
      "Omnibus:                       68.056   Durbin-Watson:                   2.082\n",
      "Prob(Omnibus):                  0.000   Jarque-Bera (JB):              177.446\n",
      "Skew:                          -0.631   Prob(JB):                     2.94e-39\n",
      "Kurtosis:                       5.489   Cond. No.                         22.2\n",
      "==============================================================================\n",
      "\n",
      "Notes:\n",
      "[1] Standard Errors assume that the covariance matrix of the errors is correctly specified.\n",
      "            Features    VIF\n",
      "1         workingday  15.84\n",
      "2              atemp  11.81\n",
      "3          windspeed   4.64\n",
      "9        weekday_mon   4.32\n",
      "10       weekday_tue   4.28\n",
      "4      season_spring   4.08\n",
      "5      season_summer   3.06\n",
      "6      season_winter   2.93\n",
      "0                 yr   2.06\n",
      "7           mnth_Aug   1.78\n",
      "11  weathersit_misty   1.61\n",
      "8           mnth_Sep   1.41\n",
      "12  weathersit_rainy   1.08\n"
     ]
    }
   ],
   "source": [
    "#drop the redundant feature\n",
    "X_train_fil1 = X_train_fil.drop('hum',1)\n",
    "\n",
    "#Call function to print OLS Summary and create OLS object/model\n",
    "lr_model_bal = get_stats(X_train_fil1,y_train)\n",
    "\n",
    "#Call function to calculate VIF and print the same\n",
    "get_VIF(X_train_fil1)"
   ]
  },
  {
   "cell_type": "markdown",
   "metadata": {},
   "source": [
    "Observe that variable 'workingday' has largest VIF. Let's go ahead and drop the same."
   ]
  },
  {
   "cell_type": "code",
   "execution_count": 59,
   "metadata": {
    "scrolled": true
   },
   "outputs": [
    {
     "name": "stdout",
     "output_type": "stream",
     "text": [
      "                            OLS Regression Results                            \n",
      "==============================================================================\n",
      "Dep. Variable:                 demand   R-squared:                       0.833\n",
      "Model:                            OLS   Adj. R-squared:                  0.829\n",
      "Method:                 Least Squares   F-statistic:                     221.8\n",
      "Date:                Mon, 08 Mar 2021   Prob (F-statistic):          1.59e-198\n",
      "Time:                        21:51:56   Log-Likelihood:                 529.63\n",
      "No. Observations:                 547   AIC:                            -1033.\n",
      "Df Residuals:                     534   BIC:                            -977.3\n",
      "Df Model:                          12                                         \n",
      "Covariance Type:            nonrobust                                         \n",
      "====================================================================================\n",
      "                       coef    std err          t      P>|t|      [0.025      0.975]\n",
      "------------------------------------------------------------------------------------\n",
      "const                0.1856      0.029      6.302      0.000       0.128       0.243\n",
      "yr                   0.2331      0.008     29.069      0.000       0.217       0.249\n",
      "atemp                0.4893      0.033     14.947      0.000       0.425       0.554\n",
      "windspeed           -0.1315      0.025     -5.340      0.000      -0.180      -0.083\n",
      "season_spring       -0.0586      0.021     -2.778      0.006      -0.100      -0.017\n",
      "season_summer        0.0719      0.016      4.541      0.000       0.041       0.103\n",
      "season_winter        0.1007      0.017      5.800      0.000       0.067       0.135\n",
      "mnth_Aug             0.0474      0.018      2.661      0.008       0.012       0.082\n",
      "mnth_Sep             0.0978      0.017      5.703      0.000       0.064       0.132\n",
      "weekday_mon          0.0138      0.011      1.224      0.222      -0.008       0.036\n",
      "weekday_tue         -0.0424      0.011     -3.748      0.000      -0.065      -0.020\n",
      "weathersit_misty    -0.0813      0.009     -9.521      0.000      -0.098      -0.065\n",
      "weathersit_rainy    -0.2816      0.025    -11.278      0.000      -0.331      -0.233\n",
      "==============================================================================\n",
      "Omnibus:                       84.723   Durbin-Watson:                   2.038\n",
      "Prob(Omnibus):                  0.000   Jarque-Bera (JB):              230.662\n",
      "Skew:                          -0.766   Prob(JB):                     8.17e-51\n",
      "Kurtosis:                       5.788   Cond. No.                         17.8\n",
      "==============================================================================\n",
      "\n",
      "Notes:\n",
      "[1] Standard Errors assume that the covariance matrix of the errors is correctly specified.\n",
      "            Features   VIF\n",
      "1              atemp  5.16\n",
      "2          windspeed  4.48\n",
      "4      season_summer  2.46\n",
      "3      season_spring  2.26\n",
      "0                 yr  2.06\n",
      "5      season_winter  1.94\n",
      "6           mnth_Aug  1.71\n",
      "10  weathersit_misty  1.59\n",
      "7           mnth_Sep  1.39\n",
      "8        weekday_mon  1.22\n",
      "9        weekday_tue  1.22\n",
      "11  weathersit_rainy  1.08\n"
     ]
    }
   ],
   "source": [
    "#drop the redundant feature\n",
    "X_train_fil2 = X_train_fil1.drop('workingday',1)\n",
    "\n",
    "#Call function to print OLS Summary and create OLS object/model\n",
    "lr_model_bal = get_stats(X_train_fil2,y_train)\n",
    "\n",
    "#Call function to calculate VIF and print the same\n",
    "get_VIF(X_train_fil2)"
   ]
  },
  {
   "cell_type": "markdown",
   "metadata": {},
   "source": [
    "Upon dropping the predictor variable 'weekday', the p-value of variable 'weekday_mon' has creeped up to 22% indicating it is no longer significant. Hence let's go ahead and drop the same"
   ]
  },
  {
   "cell_type": "code",
   "execution_count": 60,
   "metadata": {
    "scrolled": true
   },
   "outputs": [
    {
     "name": "stdout",
     "output_type": "stream",
     "text": [
      "                            OLS Regression Results                            \n",
      "==============================================================================\n",
      "Dep. Variable:                 demand   R-squared:                       0.832\n",
      "Model:                            OLS   Adj. R-squared:                  0.829\n",
      "Method:                 Least Squares   F-statistic:                     241.6\n",
      "Date:                Mon, 08 Mar 2021   Prob (F-statistic):          2.11e-199\n",
      "Time:                        21:51:56   Log-Likelihood:                 528.86\n",
      "No. Observations:                 547   AIC:                            -1034.\n",
      "Df Residuals:                     535   BIC:                            -982.1\n",
      "Df Model:                          11                                         \n",
      "Covariance Type:            nonrobust                                         \n",
      "====================================================================================\n",
      "                       coef    std err          t      P>|t|      [0.025      0.975]\n",
      "------------------------------------------------------------------------------------\n",
      "const                0.1883      0.029      6.411      0.000       0.131       0.246\n",
      "yr                   0.2329      0.008     29.035      0.000       0.217       0.249\n",
      "atemp                0.4882      0.033     14.912      0.000       0.424       0.553\n",
      "windspeed           -0.1300      0.025     -5.284      0.000      -0.178      -0.082\n",
      "season_spring       -0.0588      0.021     -2.787      0.006      -0.100      -0.017\n",
      "season_summer        0.0716      0.016      4.521      0.000       0.040       0.103\n",
      "season_winter        0.1007      0.017      5.800      0.000       0.067       0.135\n",
      "mnth_Aug             0.0477      0.018      2.675      0.008       0.013       0.083\n",
      "mnth_Sep             0.0980      0.017      5.712      0.000       0.064       0.132\n",
      "weekday_tue         -0.0449      0.011     -4.028      0.000      -0.067      -0.023\n",
      "weathersit_misty    -0.0813      0.009     -9.515      0.000      -0.098      -0.065\n",
      "weathersit_rainy    -0.2814      0.025    -11.266      0.000      -0.330      -0.232\n",
      "==============================================================================\n",
      "Omnibus:                       81.492   Durbin-Watson:                   2.040\n",
      "Prob(Omnibus):                  0.000   Jarque-Bera (JB):              229.140\n",
      "Skew:                          -0.727   Prob(JB):                     1.75e-50\n",
      "Kurtosis:                       5.818   Cond. No.                         17.7\n",
      "==============================================================================\n",
      "\n",
      "Notes:\n",
      "[1] Standard Errors assume that the covariance matrix of the errors is correctly specified.\n",
      "            Features   VIF\n",
      "1              atemp  5.13\n",
      "2          windspeed  4.45\n",
      "4      season_summer  2.46\n",
      "3      season_spring  2.24\n",
      "0                 yr  2.06\n",
      "5      season_winter  1.92\n",
      "6           mnth_Aug  1.70\n",
      "9   weathersit_misty  1.59\n",
      "7           mnth_Sep  1.39\n",
      "8        weekday_tue  1.18\n",
      "10  weathersit_rainy  1.08\n"
     ]
    }
   ],
   "source": [
    "#drop the insignificant feature\n",
    "X_train_fil3 = X_train_fil2.drop('weekday_mon',1)\n",
    "\n",
    "#Call function to print OLS Summary and create OLS object/model\n",
    "lr_model_bal = get_stats(X_train_fil3,y_train)\n",
    "\n",
    "#Call function to calculate VIF and print the same\n",
    "get_VIF(X_train_fil3)"
   ]
  },
  {
   "cell_type": "markdown",
   "metadata": {},
   "source": [
    "Now we are left with 11 predictor variables. Since we are building a model with 10 predictor variables, lets go ahead and drop 1 more variable. Currently there are no insignificant variables as per our current threshold i.e., 5%. But there is a variable which has VIF greater than 5. Let's go ahead and drop the same"
   ]
  },
  {
   "cell_type": "code",
   "execution_count": 61,
   "metadata": {
    "scrolled": true
   },
   "outputs": [
    {
     "name": "stdout",
     "output_type": "stream",
     "text": [
      "                            OLS Regression Results                            \n",
      "==============================================================================\n",
      "Dep. Variable:                 demand   R-squared:                       0.763\n",
      "Model:                            OLS   Adj. R-squared:                  0.758\n",
      "Method:                 Least Squares   F-statistic:                     172.4\n",
      "Date:                Mon, 08 Mar 2021   Prob (F-statistic):          2.53e-160\n",
      "Time:                        21:51:56   Log-Likelihood:                 433.80\n",
      "No. Observations:                 547   AIC:                            -845.6\n",
      "Df Residuals:                     536   BIC:                            -798.2\n",
      "Df Model:                          10                                         \n",
      "Covariance Type:            nonrobust                                         \n",
      "====================================================================================\n",
      "                       coef    std err          t      P>|t|      [0.025      0.975]\n",
      "------------------------------------------------------------------------------------\n",
      "const                0.5684      0.017     32.726      0.000       0.534       0.602\n",
      "yr                   0.2447      0.009     25.795      0.000       0.226       0.263\n",
      "windspeed           -0.1729      0.029     -5.953      0.000      -0.230      -0.116\n",
      "season_spring       -0.2862      0.017    -16.489      0.000      -0.320      -0.252\n",
      "season_summer       -0.0174      0.017     -0.996      0.320      -0.052       0.017\n",
      "season_winter       -0.0518      0.017     -3.106      0.002      -0.085      -0.019\n",
      "mnth_Aug             0.0401      0.021      1.895      0.059      -0.001       0.082\n",
      "mnth_Sep             0.0853      0.020      4.185      0.000       0.045       0.125\n",
      "weekday_tue         -0.0454      0.013     -3.432      0.001      -0.071      -0.019\n",
      "weathersit_misty    -0.0886      0.010     -8.741      0.000      -0.109      -0.069\n",
      "weathersit_rainy    -0.2985      0.030    -10.066      0.000      -0.357      -0.240\n",
      "==============================================================================\n",
      "Omnibus:                       40.340   Durbin-Watson:                   1.999\n",
      "Prob(Omnibus):                  0.000   Jarque-Bera (JB):               92.582\n",
      "Skew:                          -0.400   Prob(JB):                     7.87e-21\n",
      "Kurtosis:                       4.850   Cond. No.                         10.1\n",
      "==============================================================================\n",
      "\n",
      "Notes:\n",
      "[1] Standard Errors assume that the covariance matrix of the errors is correctly specified.\n",
      "           Features   VIF\n",
      "1         windspeed  3.87\n",
      "2     season_spring  2.24\n",
      "3     season_summer  2.11\n",
      "0                yr  1.89\n",
      "4     season_winter  1.81\n",
      "8  weathersit_misty  1.59\n",
      "5          mnth_Aug  1.31\n",
      "6          mnth_Sep  1.18\n",
      "7       weekday_tue  1.16\n",
      "9  weathersit_rainy  1.08\n"
     ]
    }
   ],
   "source": [
    "#drop the redundant feature\n",
    "X_train_fil4 = X_train_fil3.drop('atemp',1)\n",
    "\n",
    "#Call function to print OLS Summary and create OLS object/model\n",
    "lr_model_bal = get_stats(X_train_fil4,y_train)\n",
    "\n",
    "#Call function to calculate VIF and print the same\n",
    "get_VIF(X_train_fil4)"
   ]
  },
  {
   "cell_type": "markdown",
   "metadata": {},
   "source": [
    "Clearly dropping atemp was a bad decision. Let's lower the threshold of p-value to 0.005 and judge the if value of data present against each variable is higher or lower than this p-value threshold. Let's drop mnth_Aug with p-value greater than 0.005 instead of atemp."
   ]
  },
  {
   "cell_type": "code",
   "execution_count": 62,
   "metadata": {
    "scrolled": false
   },
   "outputs": [
    {
     "name": "stdout",
     "output_type": "stream",
     "text": [
      "                            OLS Regression Results                            \n",
      "==============================================================================\n",
      "Dep. Variable:                 demand   R-squared:                       0.830\n",
      "Model:                            OLS   Adj. R-squared:                  0.827\n",
      "Method:                 Least Squares   F-statistic:                     262.1\n",
      "Date:                Mon, 08 Mar 2021   Prob (F-statistic):          4.39e-199\n",
      "Time:                        21:51:56   Log-Likelihood:                 525.23\n",
      "No. Observations:                 547   AIC:                            -1028.\n",
      "Df Residuals:                     536   BIC:                            -981.1\n",
      "Df Model:                          10                                         \n",
      "Covariance Type:            nonrobust                                         \n",
      "====================================================================================\n",
      "                       coef    std err          t      P>|t|      [0.025      0.975]\n",
      "------------------------------------------------------------------------------------\n",
      "const                0.2117      0.028      7.503      0.000       0.156       0.267\n",
      "yr                   0.2334      0.008     28.945      0.000       0.218       0.249\n",
      "atemp                0.4857      0.033     14.757      0.000       0.421       0.550\n",
      "windspeed           -0.1308      0.025     -5.286      0.000      -0.179      -0.082\n",
      "season_spring       -0.0820      0.019     -4.232      0.000      -0.120      -0.044\n",
      "season_summer        0.0491      0.013      3.637      0.000       0.023       0.076\n",
      "season_winter        0.0793      0.015      5.118      0.000       0.049       0.110\n",
      "mnth_Sep             0.0805      0.016      5.046      0.000       0.049       0.112\n",
      "weekday_tue         -0.0457      0.011     -4.086      0.000      -0.068      -0.024\n",
      "weathersit_misty    -0.0793      0.009     -9.263      0.000      -0.096      -0.062\n",
      "weathersit_rainy    -0.2835      0.025    -11.292      0.000      -0.333      -0.234\n",
      "==============================================================================\n",
      "Omnibus:                       85.907   Durbin-Watson:                   2.068\n",
      "Prob(Omnibus):                  0.000   Jarque-Bera (JB):              241.780\n",
      "Skew:                          -0.765   Prob(JB):                     3.15e-53\n",
      "Kurtosis:                       5.875   Cond. No.                         17.0\n",
      "==============================================================================\n",
      "\n",
      "Notes:\n",
      "[1] Standard Errors assume that the covariance matrix of the errors is correctly specified.\n",
      "           Features   VIF\n",
      "2         windspeed  4.41\n",
      "1             atemp  3.94\n",
      "0                yr  2.06\n",
      "3     season_spring  2.03\n",
      "4     season_summer  1.93\n",
      "5     season_winter  1.64\n",
      "8  weathersit_misty  1.57\n",
      "6          mnth_Sep  1.24\n",
      "7       weekday_tue  1.18\n",
      "9  weathersit_rainy  1.08\n"
     ]
    }
   ],
   "source": [
    "X_train_bal = X_train_fil3.drop('mnth_Aug',1)\n",
    "lr_model_bal = get_stats(X_train_bal,y_train)\n",
    "get_VIF(X_train_bal)"
   ]
  },
  {
   "cell_type": "markdown",
   "metadata": {},
   "source": [
    "This looks like an optimum model with 10 predictor variable and 1 target variable"
   ]
  },
  {
   "cell_type": "markdown",
   "metadata": {},
   "source": [
    "<b>Inference</b><br>\n",
    "lr_model_bal is the linear regression model obtained as part of auto feature selection approach with X_train_bal consiting of 10 independent predictor variables and y_train consisting of 1 target variable.\n",
    "* <b> R2 of lr_model_man train model => 0.830</b>\n",
    "* <b> Adj. R2 of lr_model_man train model => 0.827</b>"
   ]
  },
  {
   "cell_type": "markdown",
   "metadata": {},
   "source": [
    "## Checkpoint 4: Residual Analysis"
   ]
  },
  {
   "cell_type": "markdown",
   "metadata": {},
   "source": [
    "1. Residuals/Error terms are normally distributed\n",
    "2. Residuals/Error terms independent of each other\n",
    "3. Error terms have constant variance"
   ]
  },
  {
   "cell_type": "code",
   "execution_count": 63,
   "metadata": {},
   "outputs": [],
   "source": [
    "#Let's first calculate the predicted y for all three models\n",
    "y_pred_man = predict_y(lr_model_man,X_train_man)\n",
    "y_pred_auto = predict_y(lr_model_auto,X_train_rfe)\n",
    "y_pred_bal = predict_y(lr_model_bal,X_train_bal)"
   ]
  },
  {
   "cell_type": "code",
   "execution_count": 64,
   "metadata": {},
   "outputs": [
    {
     "data": {
      "image/png": "[encoded data removed]",
      "text/plain": [
       "<Figure size 1440x360 with 3 Axes>"
      ]
     },
     "metadata": {
      "needs_background": "light"
     },
     "output_type": "display_data"
    }
   ],
   "source": [
    "#calculate the residuals for predicted y and original y_train datapoints\n",
    "res_man = (y_train-y_pred_man)\n",
    "res_auto = (y_train-y_pred_auto)\n",
    "res_bal = (y_train-y_pred_bal)\n",
    "\n",
    "#Figure size\n",
    "plt.figure(figsize=(20,5))\n",
    "\n",
    "#Let's plot all the residuals calculated\n",
    "plt.subplot(1,3,1)\n",
    "sns.distplot(res_man)\n",
    "plt.title(\"\\nResidual for lr_model_man\\n\", fontdict={'fontsize': 20, 'fontweight' : 'bold', 'color' : 'Black'})\n",
    "plt.xlabel(\"Error Terms\", fontdict={'fontsize': 15, 'fontweight' : 'bold', 'color' : 'Brown'})\n",
    "\n",
    "plt.subplot(1,3,2)\n",
    "sns.distplot(res_auto,color ='g')\n",
    "plt.title(\"\\nResidual for lr_model_auto\\n\", fontdict={'fontsize': 20, 'fontweight' : 'bold', 'color' : 'Black'})\n",
    "plt.xlabel(\"Error Terms\", fontdict={'fontsize': 15, 'fontweight' : 'bold', 'color' : 'Brown'})\n",
    "\n",
    "plt.subplot(1,3,3)\n",
    "sns.distplot(res_bal,color ='r')\n",
    "plt.title(\"\\nResidual for lr_model_bal\\n\", fontdict={'fontsize': 20, 'fontweight' : 'bold', 'color' : 'Black'})\n",
    "plt.xlabel(\"Error Terms\", fontdict={'fontsize': 15, 'fontweight' : 'bold', 'color' : 'Brown'})\n",
    "\n",
    "plt.show()"
   ]
  },
  {
   "cell_type": "markdown",
   "metadata": {},
   "source": [
    "<b>Inference: </b>Residuals for all three models are normally distributed"
   ]
  },
  {
   "cell_type": "code",
   "execution_count": 65,
   "metadata": {},
   "outputs": [
    {
     "data": {
      "image/png": "[encoded data removed]",
      "text/plain": [
       "<Figure size 720x1296 with 3 Axes>"
      ]
     },
     "metadata": {
      "needs_background": "light"
     },
     "output_type": "display_data"
    }
   ],
   "source": [
    "#Figure size\n",
    "plt.figure(figsize=(10,18))\n",
    "\n",
    "#let's plot a scatter plot of residuals against predicted y_train\n",
    "plt.subplot(3,1,1)\n",
    "sns.regplot(y_pred_man,res_man)\n",
    "plt.title(\"\\nDist. of y_pred_man vs. residuals for lr_model_man\", fontdict={'fontsize': 20, 'fontweight' : 'bold', 'color' : 'Black'})\n",
    "plt.xlabel(\"y_pred_man\", fontdict={'fontsize': 12, 'fontweight' : 'bold', 'color' : 'Brown'})\n",
    "plt.ylabel(\"Error terms\\n\", fontdict={'fontsize': 12, 'fontweight' : 'bold', 'color' : 'Brown'})\n",
    "\n",
    "plt.subplot(3,1,2)\n",
    "sns.regplot(y_pred_auto,res_man,color = 'g')\n",
    "plt.title(\"\\nDist. of y_pred_auto vs. residuals for lr_model_auto\", fontdict={'fontsize': 20, 'fontweight' : 'bold', 'color' : 'Black'})\n",
    "plt.xlabel(\"y_pred_auto\", fontdict={'fontsize': 12, 'fontweight' : 'bold', 'color' : 'Brown'})\n",
    "plt.ylabel(\"Error terms\\n\", fontdict={'fontsize': 12, 'fontweight' : 'bold', 'color' : 'Brown'})\n",
    "\n",
    "plt.subplot(3,1,3)\n",
    "sns.regplot(y_pred_bal,res_man,color = 'r')\n",
    "plt.title(\"\\nDist. of y_pred_bal vs. residuals for lr_model_bal\", fontdict={'fontsize': 20, 'fontweight' : 'bold', 'color' : 'Black'})\n",
    "plt.xlabel(\"y_pred_bal\", fontdict={'fontsize': 12, 'fontweight' : 'bold', 'color' : 'Brown'})\n",
    "plt.ylabel(\"Error terms\\n\", fontdict={'fontsize': 12, 'fontweight' : 'bold', 'color' : 'Brown'})\n",
    "\n",
    "plt.show()"
   ]
  },
  {
   "cell_type": "markdown",
   "metadata": {},
   "source": [
    "<b>Inference: </b>\n",
    "1. From all three scatter plots it is evident that the error points are independent of each other as there is no notable pattern observed\n",
    "2. From all the three scatter plots it is evident that the error points are distributed around 0 with max constant variance 0.4 on both sides"
   ]
  },
  {
   "cell_type": "markdown",
   "metadata": {},
   "source": [
    "<b>From the above inferences we can conclude that linear regression is a good model for our prediction</b>"
   ]
  },
  {
   "cell_type": "markdown",
   "metadata": {},
   "source": [
    "## Checkpoint 5: Model Evaluation"
   ]
  },
  {
   "cell_type": "markdown",
   "metadata": {},
   "source": [
    "1. Apply scaling for only numerical data test data\n",
    "2. Prepare X_test and y_test from df_test\n",
    "3. Prepare X_test_man with same columns as X_train_man\n",
    "4. Prepare X_test_rfe with same columns as X_train_rfe\n",
    "5. Prepare X_test_bal with same columns as X_train_bal\n",
    "6. Model Prediction: Visualize y_pred against y_test to make sure that both are linearly associated\n",
    "7. Model Comparison: Compare Models to find the best fit model by finding the R2 and adjusted R2 for the test models created"
   ]
  },
  {
   "cell_type": "markdown",
   "metadata": {},
   "source": [
    "Let's apply scaling to numerical values in test data before dividing the data in X_test and y_test. Note that you will only be transforming the data on test dataframe on a scaler that has been fit for train dataframe"
   ]
  },
  {
   "cell_type": "code",
   "execution_count": 66,
   "metadata": {},
   "outputs": [],
   "source": [
    "#Fit the scaler on train dataframe but transform the dataset for all the continuous numerical variables in test datafram\n",
    "df_test[num_var] = scaler.transform(df_test[num_var])"
   ]
  },
  {
   "cell_type": "code",
   "execution_count": 67,
   "metadata": {},
   "outputs": [
    {
     "data": {
      "text/html": [
       "<div>\n",
       "<style scoped>\n",
       "    .dataframe tbody tr th:only-of-type {\n",
       "        vertical-align: middle;\n",
       "    }\n",
       "\n",
       "    .dataframe tbody tr th {\n",
       "        vertical-align: top;\n",
       "    }\n",
       "\n",
       "    .dataframe thead th {\n",
       "        text-align: right;\n",
       "    }\n",
       "</style>\n",
       "<table border=\"1\" class=\"dataframe\">\n",
       "  <thead>\n",
       "    <tr style=\"text-align: right;\">\n",
       "      <th></th>\n",
       "      <th>atemp</th>\n",
       "      <th>hum</th>\n",
       "      <th>windspeed</th>\n",
       "      <th>demand</th>\n",
       "    </tr>\n",
       "  </thead>\n",
       "  <tbody>\n",
       "    <tr>\n",
       "      <th>count</th>\n",
       "      <td>183.000000</td>\n",
       "      <td>183.000000</td>\n",
       "      <td>183.000000</td>\n",
       "      <td>183.000000</td>\n",
       "    </tr>\n",
       "    <tr>\n",
       "      <th>mean</th>\n",
       "      <td>0.542190</td>\n",
       "      <td>0.635177</td>\n",
       "      <td>0.316540</td>\n",
       "      <td>0.530233</td>\n",
       "    </tr>\n",
       "    <tr>\n",
       "      <th>std</th>\n",
       "      <td>0.219335</td>\n",
       "      <td>0.152928</td>\n",
       "      <td>0.159334</td>\n",
       "      <td>0.215783</td>\n",
       "    </tr>\n",
       "    <tr>\n",
       "      <th>min</th>\n",
       "      <td>0.025991</td>\n",
       "      <td>0.261954</td>\n",
       "      <td>-0.042669</td>\n",
       "      <td>0.048205</td>\n",
       "    </tr>\n",
       "    <tr>\n",
       "      <th>25%</th>\n",
       "      <td>0.354949</td>\n",
       "      <td>0.522620</td>\n",
       "      <td>0.199230</td>\n",
       "      <td>0.393293</td>\n",
       "    </tr>\n",
       "    <tr>\n",
       "      <th>50%</th>\n",
       "      <td>0.558414</td>\n",
       "      <td>0.618714</td>\n",
       "      <td>0.303497</td>\n",
       "      <td>0.533134</td>\n",
       "    </tr>\n",
       "    <tr>\n",
       "      <th>75%</th>\n",
       "      <td>0.729194</td>\n",
       "      <td>0.735109</td>\n",
       "      <td>0.404556</td>\n",
       "      <td>0.681086</td>\n",
       "    </tr>\n",
       "    <tr>\n",
       "      <th>max</th>\n",
       "      <td>0.981097</td>\n",
       "      <td>1.002164</td>\n",
       "      <td>0.807507</td>\n",
       "      <td>0.963300</td>\n",
       "    </tr>\n",
       "  </tbody>\n",
       "</table>\n",
       "</div>"
      ],
      "text/plain": [
       "            atemp         hum   windspeed      demand\n",
       "count  183.000000  183.000000  183.000000  183.000000\n",
       "mean     0.542190    0.635177    0.316540    0.530233\n",
       "std      0.219335    0.152928    0.159334    0.215783\n",
       "min      0.025991    0.261954   -0.042669    0.048205\n",
       "25%      0.354949    0.522620    0.199230    0.393293\n",
       "50%      0.558414    0.618714    0.303497    0.533134\n",
       "75%      0.729194    0.735109    0.404556    0.681086\n",
       "max      0.981097    1.002164    0.807507    0.963300"
      ]
     },
     "execution_count": 67,
     "metadata": {},
     "output_type": "execute_result"
    }
   ],
   "source": [
    "#Let's look at the stats of new scaled numerical variables in test DF\n",
    "df_test[num_var].describe()"
   ]
  },
  {
   "cell_type": "markdown",
   "metadata": {},
   "source": [
    "Notice that because we have transformed the test dataframe on a scaler that was fit on train dataframe the max value is not exactly 1 but more or less than 1 based on the data held by test dataframe"
   ]
  },
  {
   "cell_type": "markdown",
   "metadata": {},
   "source": [
    "Now let's move towards preparing the X_test and y_test dataframes from the scaled df_test dataframe"
   ]
  },
  {
   "cell_type": "code",
   "execution_count": 68,
   "metadata": {},
   "outputs": [],
   "source": [
    "#Let's prepare X_test and y_test variables from the scaled test dataframe\n",
    "y_test = df_test.pop('demand')\n",
    "X_test = df_test"
   ]
  },
  {
   "cell_type": "markdown",
   "metadata": {},
   "source": [
    "Once we have our X_test, let's prepare 3 different X_test dataframes for our 3 models consisting of same columns as X_train_man, X_train_rfe, X_train_bal."
   ]
  },
  {
   "cell_type": "code",
   "execution_count": 69,
   "metadata": {},
   "outputs": [],
   "source": [
    "#let's filter the columns in X_test_man,X_test_auto,X_test_bal to have the same features as X_train_4,X_train_rfe,X_train_fil4\n",
    "X_test_man = X_test[X_train_man.columns.tolist()]\n",
    "X_test_rfe = X_test[X_train_rfe.columns.tolist()]\n",
    "X_test_bal = X_test[X_train_bal.columns.tolist()]"
   ]
  },
  {
   "cell_type": "markdown",
   "metadata": {},
   "source": [
    "<b>Model Prediction: </b>"
   ]
  },
  {
   "cell_type": "code",
   "execution_count": 70,
   "metadata": {},
   "outputs": [],
   "source": [
    "#Let's first calculate the predicted y for all three models\n",
    "y_test_pred_man = predict_y(lr_model_man,X_test_man)\n",
    "y_test_pred_auto = predict_y(lr_model_auto,X_test_rfe)\n",
    "y_test_pred_bal = predict_y(lr_model_bal,X_test_bal)"
   ]
  },
  {
   "cell_type": "code",
   "execution_count": 71,
   "metadata": {},
   "outputs": [
    {
     "data": {
      "image/png": "[encoded data removed]",
      "text/plain": [
       "<Figure size 576x1440 with 3 Axes>"
      ]
     },
     "metadata": {
      "needs_background": "light"
     },
     "output_type": "display_data"
    }
   ],
   "source": [
    "#Figure size\n",
    "plt.figure(figsize=(8,20))\n",
    "\n",
    "#let's plot a scatter plot of residuals against predicted y_train\n",
    "plt.subplot(3,1,1)\n",
    "sns.regplot(y_test,y_test_pred_man)\n",
    "plt.title(\"\\nDist. of y_test vs. y_pred for all three models\\n\", fontdict={'fontsize': 20, 'fontweight' : 'bold', 'color' : 'Black'})\n",
    "plt.xlabel(\"y_test\", fontdict={'fontsize': 15, 'fontweight' : 'bold', 'color' : 'Brown'})\n",
    "plt.ylabel(\"y_test_pred_man\\n\", fontdict={'fontsize': 12, 'fontweight' : 'bold', 'color' : 'Brown'})\n",
    "\n",
    "plt.subplot(3,1,2)\n",
    "sns.regplot(y_test,y_test_pred_auto,color = 'g')\n",
    "plt.xlabel(\"y_test\", fontdict={'fontsize': 15, 'fontweight' : 'bold', 'color' : 'Brown'})\n",
    "plt.ylabel(\"y_test_pred_auto\\n\", fontdict={'fontsize': 12, 'fontweight' : 'bold', 'color' : 'Brown'})\n",
    "\n",
    "plt.subplot(3,1,3)\n",
    "sns.regplot(y_test,y_test_pred_bal,color = 'r')\n",
    "plt.xlabel(\"y_test\", fontdict={'fontsize': 15, 'fontweight' : 'bold', 'color' : 'Brown'})\n",
    "plt.ylabel(\"y_test_pred_bal\\n\", fontdict={'fontsize': 12, 'fontweight' : 'bold', 'color' : 'Brown'})\n",
    "\n",
    "plt.show()"
   ]
  },
  {
   "cell_type": "markdown",
   "metadata": {},
   "source": [
    "<b>Model Comparison</b>"
   ]
  },
  {
   "cell_type": "markdown",
   "metadata": {},
   "source": [
    "From the graphs plotted above all three models seem to perform well in predicting the variance in Y for different values of X. But the most effective model among the three can be obtained by finding out the R-square and Adj. R-square values and measuring the difference of this R-Square with the R-square obtained by model built using train data."
   ]
  },
  {
   "cell_type": "code",
   "execution_count": 72,
   "metadata": {},
   "outputs": [],
   "source": [
    "#import necessary libraries\n",
    "from sklearn.metrics import r2_score"
   ]
  },
  {
   "cell_type": "markdown",
   "metadata": {},
   "source": [
    "Let's find out the R-square value for all 3 models using train data:"
   ]
  },
  {
   "cell_type": "code",
   "execution_count": 73,
   "metadata": {},
   "outputs": [
    {
     "data": {
      "text/plain": [
       "0.828"
      ]
     },
     "execution_count": 73,
     "metadata": {},
     "output_type": "execute_result"
    }
   ],
   "source": [
    "#r2 score for y_pred_man predicted using the model obtained by Manual filtering\n",
    "r2_train_man = r2_score(y_train, y_pred_man)\n",
    "round(r2_train_man,3)"
   ]
  },
  {
   "cell_type": "code",
   "execution_count": 74,
   "metadata": {},
   "outputs": [
    {
     "data": {
      "text/plain": [
       "0.801"
      ]
     },
     "execution_count": 74,
     "metadata": {},
     "output_type": "execute_result"
    }
   ],
   "source": [
    "#r2 score for y_pred_auto predicted using the model obtained by RFE filtering\n",
    "r2_train_auto = r2_score(y_train, y_pred_auto)\n",
    "round(r2_train_auto,3)"
   ]
  },
  {
   "cell_type": "code",
   "execution_count": 75,
   "metadata": {},
   "outputs": [
    {
     "data": {
      "text/plain": [
       "0.83"
      ]
     },
     "execution_count": 75,
     "metadata": {},
     "output_type": "execute_result"
    }
   ],
   "source": [
    "#r2 score for y_pred_bal predicted using the model obtained by balanced approach of filtering\n",
    "r2_train_bal = r2_score(y_train, y_pred_bal)\n",
    "round(r2_train_bal,3)"
   ]
  },
  {
   "cell_type": "markdown",
   "metadata": {},
   "source": [
    "Let's find out the R-square value for all 3 models using test data:"
   ]
  },
  {
   "cell_type": "code",
   "execution_count": 76,
   "metadata": {},
   "outputs": [
    {
     "data": {
      "text/plain": [
       "0.805"
      ]
     },
     "execution_count": 76,
     "metadata": {},
     "output_type": "execute_result"
    }
   ],
   "source": [
    "#r2 score for y_test_pred_man predicted using the model obtained by Manual filtering\n",
    "r2_test_man = r2_score(y_test, y_test_pred_man)\n",
    "round(r2_test_man,3)"
   ]
  },
  {
   "cell_type": "code",
   "execution_count": 77,
   "metadata": {},
   "outputs": [
    {
     "data": {
      "text/plain": [
       "0.754"
      ]
     },
     "execution_count": 77,
     "metadata": {},
     "output_type": "execute_result"
    }
   ],
   "source": [
    "#r2 score for y_test_pred_auto predicted using the model obtained by Automatic RFE filtering\n",
    "r2_test_auto = r2_score(y_test, y_test_pred_auto)\n",
    "round(r2_test_auto,3)"
   ]
  },
  {
   "cell_type": "code",
   "execution_count": 78,
   "metadata": {},
   "outputs": [
    {
     "data": {
      "text/plain": [
       "0.798"
      ]
     },
     "execution_count": 78,
     "metadata": {},
     "output_type": "execute_result"
    }
   ],
   "source": [
    "#r2 score for y_testr2_test_auto = _pred_bal predicted using the model obtained by balanced approach of filtering\n",
    "r2_test_bal = r2_score(y_test, y_test_pred_bal)\n",
    "round(r2_test_bal,3)"
   ]
  },
  {
   "cell_type": "markdown",
   "metadata": {},
   "source": [
    "Let's find the difference between the R2 of train and test datadet and declare a winner"
   ]
  },
  {
   "cell_type": "code",
   "execution_count": 79,
   "metadata": {},
   "outputs": [
    {
     "name": "stdout",
     "output_type": "stream",
     "text": [
      "0.023 0.047 0.032\n"
     ]
    }
   ],
   "source": [
    "#Find difference of trains and test r2 scores for all three models\n",
    "diff_man = round((r2_train_man - r2_test_man),3)\n",
    "diff_auto = round((r2_train_auto - r2_test_auto),3)\n",
    "diff_bal = round((r2_train_bal - r2_test_bal),3)\n",
    "\n",
    "#Print the difference\n",
    "print(diff_man,diff_auto,diff_bal)"
   ]
  },
  {
   "cell_type": "markdown",
   "metadata": {},
   "source": [
    "Hence diff_man < diff_bal < diff_auto"
   ]
  },
  {
   "cell_type": "markdown",
   "metadata": {},
   "source": [
    "<b>Inference:</b>\n"
   ]
  },
  {
   "cell_type": "markdown",
   "metadata": {},
   "source": [
    "Clearly lr_model_man model is perfomring better than lr_model_bal which is performing better than lr_model_auto. lr_model_man obtained by Manual Feature Elimination is the best model that fits the test data. "
   ]
  },
  {
   "cell_type": "markdown",
   "metadata": {},
   "source": [
    "## Conclusion:"
   ]
  },
  {
   "cell_type": "markdown",
   "metadata": {},
   "source": [
    "Following are the features that affect the demand as per the performance of best model on test data:"
   ]
  },
  {
   "cell_type": "code",
   "execution_count": 80,
   "metadata": {},
   "outputs": [
    {
     "data": {
      "text/plain": [
       "['atemp',\n",
       " 'weathersit_rainy',\n",
       " 'yr',\n",
       " 'season_spring',\n",
       " 'windspeed',\n",
       " 'weathersit_misty',\n",
       " 'mnth_Sep',\n",
       " 'season_winter',\n",
       " 'weekday_tue',\n",
       " 'mnth_Nov']"
      ]
     },
     "execution_count": 80,
     "metadata": {},
     "output_type": "execute_result"
    }
   ],
   "source": [
    "#sort the features on its effectiveness/contributing capacity towards demand in descending order. Store it in list\n",
    "final_features = lr_model_man.params.abs().sort_values(ascending = False).index.tolist()\n",
    "\n",
    "#remove constant to maintain list of only predictor variables\n",
    "final_features.remove('const')\n",
    "\n",
    "#print it out\n",
    "final_features"
   ]
  },
  {
   "cell_type": "markdown",
   "metadata": {},
   "source": [
    "As per the linear regression model - lr_model_man, the equation of the best fit line on test data can be defined by the following equation:"
   ]
  },
  {
   "cell_type": "markdown",
   "metadata": {},
   "source": [
    "$ demand = 0.43  \\times  atemp - 0.29  \\times  weathersit\\_rainy + 0.23 \\times yr - 0.13 \\times season\\_spring - 0.12 \\times windspeed - 0.078 \\times weathersit\\_misty + 0.060 \\times mnth\\_Sep + 0.055 \\times season\\_winter - 0.046 \\times weekday\\_tue - 0.042 \\times mnth\\_Nov + 0.275 $"
   ]
  }
 ],
 "metadata": {
  "kernelspec": {
   "display_name": "Python 3",
   "language": "python",
   "name": "python3"
  },
  "language_info": {
   "codemirror_mode": {
    "name": "ipython",
    "version": 3
   },
   "file_extension": ".py",
   "mimetype": "text/x-python",
   "name": "python",
   "nbconvert_exporter": "python",
   "pygments_lexer": "ipython3",
   "version": "3.8.5"
  }
 },
 "nbformat": 4,
 "nbformat_minor": 4
}
